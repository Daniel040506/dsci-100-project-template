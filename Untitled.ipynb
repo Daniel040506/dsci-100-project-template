{
 "cells": [
  {
   "cell_type": "code",
   "execution_count": 90,
   "id": "37749410-daad-47c2-aab3-345f23533d64",
   "metadata": {},
   "outputs": [],
   "source": [
    "library(tidyverse)\n",
    "library(ggplot2)"
   ]
  },
  {
   "cell_type": "code",
   "execution_count": 92,
   "id": "abcc7803-4eea-4ccb-be73-442f2b7f3b42",
   "metadata": {},
   "outputs": [
    {
     "name": "stderr",
     "output_type": "stream",
     "text": [
      "\u001b[1mRows: \u001b[22m\u001b[34m32560\u001b[39m \u001b[1mColumns: \u001b[22m\u001b[34m15\u001b[39m\n",
      "\u001b[36m──\u001b[39m \u001b[1mColumn specification\u001b[22m \u001b[36m────────────────────────────────────────────────────────\u001b[39m\n",
      "\u001b[1mDelimiter:\u001b[22m \",\"\n",
      "\u001b[31mchr\u001b[39m (9): State-gov, Bachelors, Never-married, Adm-clerical, Not-in-family, W...\n",
      "\u001b[32mdbl\u001b[39m (6): 39, 77516, 13, 2174, 0, 40\n",
      "\n",
      "\u001b[36mℹ\u001b[39m Use `spec()` to retrieve the full column specification for this data.\n",
      "\u001b[36mℹ\u001b[39m Specify the column types or set `show_col_types = FALSE` to quiet this message.\n"
     ]
    },
    {
     "data": {
      "text/html": [
       "<table class=\"dataframe\">\n",
       "<caption>A tibble: 10 × 15</caption>\n",
       "<thead>\n",
       "\t<tr><th scope=col>age</th><th scope=col>workclass</th><th scope=col>finalweight</th><th scope=col>education</th><th scope=col>numyearseducation</th><th scope=col>marital-status</th><th scope=col>occupation</th><th scope=col>relationship</th><th scope=col>race</th><th scope=col>sex</th><th scope=col>capital_gain</th><th scope=col>capital_loss</th><th scope=col>hours_per_week</th><th scope=col>native_country</th><th scope=col>income_above_50K</th></tr>\n",
       "\t<tr><th scope=col>&lt;dbl&gt;</th><th scope=col>&lt;chr&gt;</th><th scope=col>&lt;dbl&gt;</th><th scope=col>&lt;chr&gt;</th><th scope=col>&lt;dbl&gt;</th><th scope=col>&lt;chr&gt;</th><th scope=col>&lt;chr&gt;</th><th scope=col>&lt;chr&gt;</th><th scope=col>&lt;chr&gt;</th><th scope=col>&lt;chr&gt;</th><th scope=col>&lt;dbl&gt;</th><th scope=col>&lt;dbl&gt;</th><th scope=col>&lt;dbl&gt;</th><th scope=col>&lt;chr&gt;</th><th scope=col>&lt;chr&gt;</th></tr>\n",
       "</thead>\n",
       "<tbody>\n",
       "\t<tr><td>50</td><td>Self-emp-not-inc</td><td> 83311</td><td><span style=white-space:pre-wrap>Bachelors   </span></td><td>13</td><td><span style=white-space:pre-wrap>Married-civ-spouse   </span></td><td><span style=white-space:pre-wrap>Exec-managerial  </span></td><td><span style=white-space:pre-wrap>Husband      </span></td><td>White</td><td><span style=white-space:pre-wrap>Male  </span></td><td><span style=white-space:pre-wrap>    0</span></td><td>0</td><td>13</td><td>United-States</td><td>&lt;=50K</td></tr>\n",
       "\t<tr><td>38</td><td><span style=white-space:pre-wrap>Private         </span></td><td>215646</td><td><span style=white-space:pre-wrap>HS-grad     </span></td><td> 9</td><td><span style=white-space:pre-wrap>Divorced             </span></td><td>Handlers-cleaners</td><td>Not-in-family</td><td>White</td><td><span style=white-space:pre-wrap>Male  </span></td><td><span style=white-space:pre-wrap>    0</span></td><td>0</td><td>40</td><td>United-States</td><td>&lt;=50K</td></tr>\n",
       "\t<tr><td>53</td><td><span style=white-space:pre-wrap>Private         </span></td><td>234721</td><td><span style=white-space:pre-wrap>11th        </span></td><td> 7</td><td><span style=white-space:pre-wrap>Married-civ-spouse   </span></td><td>Handlers-cleaners</td><td><span style=white-space:pre-wrap>Husband      </span></td><td>Black</td><td><span style=white-space:pre-wrap>Male  </span></td><td><span style=white-space:pre-wrap>    0</span></td><td>0</td><td>40</td><td>United-States</td><td>&lt;=50K</td></tr>\n",
       "\t<tr><td>28</td><td><span style=white-space:pre-wrap>Private         </span></td><td>338409</td><td><span style=white-space:pre-wrap>Bachelors   </span></td><td>13</td><td><span style=white-space:pre-wrap>Married-civ-spouse   </span></td><td><span style=white-space:pre-wrap>Prof-specialty   </span></td><td><span style=white-space:pre-wrap>Wife         </span></td><td>Black</td><td>Female</td><td><span style=white-space:pre-wrap>    0</span></td><td>0</td><td>40</td><td><span style=white-space:pre-wrap>Cuba         </span></td><td>&lt;=50K</td></tr>\n",
       "\t<tr><td>37</td><td><span style=white-space:pre-wrap>Private         </span></td><td>284582</td><td><span style=white-space:pre-wrap>Masters     </span></td><td>14</td><td><span style=white-space:pre-wrap>Married-civ-spouse   </span></td><td><span style=white-space:pre-wrap>Exec-managerial  </span></td><td><span style=white-space:pre-wrap>Wife         </span></td><td>White</td><td>Female</td><td><span style=white-space:pre-wrap>    0</span></td><td>0</td><td>40</td><td>United-States</td><td>&lt;=50K</td></tr>\n",
       "\t<tr><td>49</td><td><span style=white-space:pre-wrap>Private         </span></td><td>160187</td><td><span style=white-space:pre-wrap>9th         </span></td><td> 5</td><td>Married-spouse-absent</td><td><span style=white-space:pre-wrap>Other-service    </span></td><td>Not-in-family</td><td>Black</td><td>Female</td><td><span style=white-space:pre-wrap>    0</span></td><td>0</td><td>16</td><td><span style=white-space:pre-wrap>Jamaica      </span></td><td>&lt;=50K</td></tr>\n",
       "\t<tr><td>52</td><td>Self-emp-not-inc</td><td>209642</td><td><span style=white-space:pre-wrap>HS-grad     </span></td><td> 9</td><td><span style=white-space:pre-wrap>Married-civ-spouse   </span></td><td><span style=white-space:pre-wrap>Exec-managerial  </span></td><td><span style=white-space:pre-wrap>Husband      </span></td><td>White</td><td><span style=white-space:pre-wrap>Male  </span></td><td><span style=white-space:pre-wrap>    0</span></td><td>0</td><td>45</td><td>United-States</td><td>&gt;50K </td></tr>\n",
       "\t<tr><td>31</td><td><span style=white-space:pre-wrap>Private         </span></td><td> 45781</td><td><span style=white-space:pre-wrap>Masters     </span></td><td>14</td><td><span style=white-space:pre-wrap>Never-married        </span></td><td><span style=white-space:pre-wrap>Prof-specialty   </span></td><td>Not-in-family</td><td>White</td><td>Female</td><td>14084</td><td>0</td><td>50</td><td>United-States</td><td>&gt;50K </td></tr>\n",
       "\t<tr><td>42</td><td><span style=white-space:pre-wrap>Private         </span></td><td>159449</td><td><span style=white-space:pre-wrap>Bachelors   </span></td><td>13</td><td><span style=white-space:pre-wrap>Married-civ-spouse   </span></td><td><span style=white-space:pre-wrap>Exec-managerial  </span></td><td><span style=white-space:pre-wrap>Husband      </span></td><td>White</td><td><span style=white-space:pre-wrap>Male  </span></td><td> 5178</td><td>0</td><td>40</td><td>United-States</td><td>&gt;50K </td></tr>\n",
       "\t<tr><td>37</td><td><span style=white-space:pre-wrap>Private         </span></td><td>280464</td><td>Some-college</td><td>10</td><td><span style=white-space:pre-wrap>Married-civ-spouse   </span></td><td><span style=white-space:pre-wrap>Exec-managerial  </span></td><td><span style=white-space:pre-wrap>Husband      </span></td><td>Black</td><td><span style=white-space:pre-wrap>Male  </span></td><td><span style=white-space:pre-wrap>    0</span></td><td>0</td><td>80</td><td>United-States</td><td>&gt;50K </td></tr>\n",
       "</tbody>\n",
       "</table>\n"
      ],
      "text/latex": [
       "A tibble: 10 × 15\n",
       "\\begin{tabular}{lllllllllllllll}\n",
       " age & workclass & finalweight & education & numyearseducation & marital-status & occupation & relationship & race & sex & capital\\_gain & capital\\_loss & hours\\_per\\_week & native\\_country & income\\_above\\_50K\\\\\n",
       " <dbl> & <chr> & <dbl> & <chr> & <dbl> & <chr> & <chr> & <chr> & <chr> & <chr> & <dbl> & <dbl> & <dbl> & <chr> & <chr>\\\\\n",
       "\\hline\n",
       "\t 50 & Self-emp-not-inc &  83311 & Bachelors    & 13 & Married-civ-spouse    & Exec-managerial   & Husband       & White & Male   &     0 & 0 & 13 & United-States & <=50K\\\\\n",
       "\t 38 & Private          & 215646 & HS-grad      &  9 & Divorced              & Handlers-cleaners & Not-in-family & White & Male   &     0 & 0 & 40 & United-States & <=50K\\\\\n",
       "\t 53 & Private          & 234721 & 11th         &  7 & Married-civ-spouse    & Handlers-cleaners & Husband       & Black & Male   &     0 & 0 & 40 & United-States & <=50K\\\\\n",
       "\t 28 & Private          & 338409 & Bachelors    & 13 & Married-civ-spouse    & Prof-specialty    & Wife          & Black & Female &     0 & 0 & 40 & Cuba          & <=50K\\\\\n",
       "\t 37 & Private          & 284582 & Masters      & 14 & Married-civ-spouse    & Exec-managerial   & Wife          & White & Female &     0 & 0 & 40 & United-States & <=50K\\\\\n",
       "\t 49 & Private          & 160187 & 9th          &  5 & Married-spouse-absent & Other-service     & Not-in-family & Black & Female &     0 & 0 & 16 & Jamaica       & <=50K\\\\\n",
       "\t 52 & Self-emp-not-inc & 209642 & HS-grad      &  9 & Married-civ-spouse    & Exec-managerial   & Husband       & White & Male   &     0 & 0 & 45 & United-States & >50K \\\\\n",
       "\t 31 & Private          &  45781 & Masters      & 14 & Never-married         & Prof-specialty    & Not-in-family & White & Female & 14084 & 0 & 50 & United-States & >50K \\\\\n",
       "\t 42 & Private          & 159449 & Bachelors    & 13 & Married-civ-spouse    & Exec-managerial   & Husband       & White & Male   &  5178 & 0 & 40 & United-States & >50K \\\\\n",
       "\t 37 & Private          & 280464 & Some-college & 10 & Married-civ-spouse    & Exec-managerial   & Husband       & Black & Male   &     0 & 0 & 80 & United-States & >50K \\\\\n",
       "\\end{tabular}\n"
      ],
      "text/markdown": [
       "\n",
       "A tibble: 10 × 15\n",
       "\n",
       "| age &lt;dbl&gt; | workclass &lt;chr&gt; | finalweight &lt;dbl&gt; | education &lt;chr&gt; | numyearseducation &lt;dbl&gt; | marital-status &lt;chr&gt; | occupation &lt;chr&gt; | relationship &lt;chr&gt; | race &lt;chr&gt; | sex &lt;chr&gt; | capital_gain &lt;dbl&gt; | capital_loss &lt;dbl&gt; | hours_per_week &lt;dbl&gt; | native_country &lt;chr&gt; | income_above_50K &lt;chr&gt; |\n",
       "|---|---|---|---|---|---|---|---|---|---|---|---|---|---|---|\n",
       "| 50 | Self-emp-not-inc |  83311 | Bachelors    | 13 | Married-civ-spouse    | Exec-managerial   | Husband       | White | Male   |     0 | 0 | 13 | United-States | &lt;=50K |\n",
       "| 38 | Private          | 215646 | HS-grad      |  9 | Divorced              | Handlers-cleaners | Not-in-family | White | Male   |     0 | 0 | 40 | United-States | &lt;=50K |\n",
       "| 53 | Private          | 234721 | 11th         |  7 | Married-civ-spouse    | Handlers-cleaners | Husband       | Black | Male   |     0 | 0 | 40 | United-States | &lt;=50K |\n",
       "| 28 | Private          | 338409 | Bachelors    | 13 | Married-civ-spouse    | Prof-specialty    | Wife          | Black | Female |     0 | 0 | 40 | Cuba          | &lt;=50K |\n",
       "| 37 | Private          | 284582 | Masters      | 14 | Married-civ-spouse    | Exec-managerial   | Wife          | White | Female |     0 | 0 | 40 | United-States | &lt;=50K |\n",
       "| 49 | Private          | 160187 | 9th          |  5 | Married-spouse-absent | Other-service     | Not-in-family | Black | Female |     0 | 0 | 16 | Jamaica       | &lt;=50K |\n",
       "| 52 | Self-emp-not-inc | 209642 | HS-grad      |  9 | Married-civ-spouse    | Exec-managerial   | Husband       | White | Male   |     0 | 0 | 45 | United-States | &gt;50K  |\n",
       "| 31 | Private          |  45781 | Masters      | 14 | Never-married         | Prof-specialty    | Not-in-family | White | Female | 14084 | 0 | 50 | United-States | &gt;50K  |\n",
       "| 42 | Private          | 159449 | Bachelors    | 13 | Married-civ-spouse    | Exec-managerial   | Husband       | White | Male   |  5178 | 0 | 40 | United-States | &gt;50K  |\n",
       "| 37 | Private          | 280464 | Some-college | 10 | Married-civ-spouse    | Exec-managerial   | Husband       | Black | Male   |     0 | 0 | 80 | United-States | &gt;50K  |\n",
       "\n"
      ],
      "text/plain": [
       "   age workclass        finalweight education    numyearseducation\n",
       "1  50  Self-emp-not-inc  83311      Bachelors    13               \n",
       "2  38  Private          215646      HS-grad       9               \n",
       "3  53  Private          234721      11th          7               \n",
       "4  28  Private          338409      Bachelors    13               \n",
       "5  37  Private          284582      Masters      14               \n",
       "6  49  Private          160187      9th           5               \n",
       "7  52  Self-emp-not-inc 209642      HS-grad       9               \n",
       "8  31  Private           45781      Masters      14               \n",
       "9  42  Private          159449      Bachelors    13               \n",
       "10 37  Private          280464      Some-college 10               \n",
       "   marital-status        occupation        relationship  race  sex   \n",
       "1  Married-civ-spouse    Exec-managerial   Husband       White Male  \n",
       "2  Divorced              Handlers-cleaners Not-in-family White Male  \n",
       "3  Married-civ-spouse    Handlers-cleaners Husband       Black Male  \n",
       "4  Married-civ-spouse    Prof-specialty    Wife          Black Female\n",
       "5  Married-civ-spouse    Exec-managerial   Wife          White Female\n",
       "6  Married-spouse-absent Other-service     Not-in-family Black Female\n",
       "7  Married-civ-spouse    Exec-managerial   Husband       White Male  \n",
       "8  Never-married         Prof-specialty    Not-in-family White Female\n",
       "9  Married-civ-spouse    Exec-managerial   Husband       White Male  \n",
       "10 Married-civ-spouse    Exec-managerial   Husband       Black Male  \n",
       "   capital_gain capital_loss hours_per_week native_country income_above_50K\n",
       "1      0        0            13             United-States  <=50K           \n",
       "2      0        0            40             United-States  <=50K           \n",
       "3      0        0            40             United-States  <=50K           \n",
       "4      0        0            40             Cuba           <=50K           \n",
       "5      0        0            40             United-States  <=50K           \n",
       "6      0        0            16             Jamaica        <=50K           \n",
       "7      0        0            45             United-States  >50K            \n",
       "8  14084        0            50             United-States  >50K            \n",
       "9   5178        0            40             United-States  >50K            \n",
       "10     0        0            80             United-States  >50K            "
      ]
     },
     "metadata": {},
     "output_type": "display_data"
    }
   ],
   "source": [
    "incomedata <- read_csv(\"adult.data\")\n",
    "\n",
    "colnames(incomedata) <- c(\"age\",\"workclass\",\"finalweight\",\"education\",\"numyearseducation\",\"marital-status\",\"occupation\",\"relationship\",\n",
    "                         \"race\",\"sex\",\"capital_gain\",\"capital_loss\",\"hours_per_week\",\"native_country\",\"income_above_50K\")\n",
    "                        \n",
    "incomedata[incomedata == \"?\"] <- \"NA\"\n",
    "head(incomedata, 10)"
   ]
  },
  {
   "cell_type": "code",
   "execution_count": 93,
   "id": "56226ae8-88e3-4f87-9c84-e36e410fc63e",
   "metadata": {
    "collapsed": true,
    "jupyter": {
     "outputs_hidden": true
    },
    "tags": []
   },
   "outputs": [
    {
     "data": {
      "text/html": [
       "<table class=\"dataframe\">\n",
       "<caption>A tibble: 10 × 15</caption>\n",
       "<thead>\n",
       "\t<tr><th scope=col>age</th><th scope=col>workclass</th><th scope=col>finalweight</th><th scope=col>education</th><th scope=col>numyearseducation</th><th scope=col>marital_status</th><th scope=col>occupation</th><th scope=col>relationship</th><th scope=col>race</th><th scope=col>sex</th><th scope=col>capital_gain</th><th scope=col>capital_loss</th><th scope=col>hours_per_week</th><th scope=col>native_country</th><th scope=col>income_above_50K</th></tr>\n",
       "\t<tr><th scope=col>&lt;dbl&gt;</th><th scope=col>&lt;dbl&gt;</th><th scope=col>&lt;dbl&gt;</th><th scope=col>&lt;dbl&gt;</th><th scope=col>&lt;dbl&gt;</th><th scope=col>&lt;dbl&gt;</th><th scope=col>&lt;dbl&gt;</th><th scope=col>&lt;dbl&gt;</th><th scope=col>&lt;dbl&gt;</th><th scope=col>&lt;dbl&gt;</th><th scope=col>&lt;dbl&gt;</th><th scope=col>&lt;dbl&gt;</th><th scope=col>&lt;dbl&gt;</th><th scope=col>&lt;dbl&gt;</th><th scope=col>&lt;dbl&gt;</th></tr>\n",
       "</thead>\n",
       "<tbody>\n",
       "\t<tr><td>50</td><td>7</td><td> 83311</td><td>10</td><td>13</td><td>3</td><td> 5</td><td>1</td><td>5</td><td>2</td><td>    0</td><td>0</td><td>13</td><td>40</td><td>2</td></tr>\n",
       "\t<tr><td>38</td><td>5</td><td>215646</td><td>12</td><td> 9</td><td>1</td><td> 7</td><td>2</td><td>5</td><td>2</td><td>    0</td><td>0</td><td>40</td><td>40</td><td>2</td></tr>\n",
       "\t<tr><td>53</td><td>5</td><td>234721</td><td> 2</td><td> 7</td><td>3</td><td> 7</td><td>1</td><td>3</td><td>2</td><td>    0</td><td>0</td><td>40</td><td>40</td><td>2</td></tr>\n",
       "\t<tr><td>28</td><td>5</td><td>338409</td><td>10</td><td>13</td><td>3</td><td>11</td><td>6</td><td>3</td><td>1</td><td>    0</td><td>0</td><td>40</td><td> 6</td><td>2</td></tr>\n",
       "\t<tr><td>37</td><td>5</td><td>284582</td><td>13</td><td>14</td><td>3</td><td> 5</td><td>6</td><td>5</td><td>1</td><td>    0</td><td>0</td><td>40</td><td>40</td><td>2</td></tr>\n",
       "\t<tr><td>49</td><td>5</td><td>160187</td><td> 7</td><td> 5</td><td>4</td><td> 9</td><td>2</td><td>3</td><td>1</td><td>    0</td><td>0</td><td>16</td><td>24</td><td>2</td></tr>\n",
       "\t<tr><td>52</td><td>7</td><td>209642</td><td>12</td><td> 9</td><td>3</td><td> 5</td><td>1</td><td>5</td><td>2</td><td>    0</td><td>0</td><td>45</td><td>40</td><td>1</td></tr>\n",
       "\t<tr><td>31</td><td>5</td><td> 45781</td><td>13</td><td>14</td><td>5</td><td>11</td><td>2</td><td>5</td><td>1</td><td>14084</td><td>0</td><td>50</td><td>40</td><td>1</td></tr>\n",
       "\t<tr><td>42</td><td>5</td><td>159449</td><td>10</td><td>13</td><td>3</td><td> 5</td><td>1</td><td>5</td><td>2</td><td> 5178</td><td>0</td><td>40</td><td>40</td><td>1</td></tr>\n",
       "\t<tr><td>37</td><td>5</td><td>280464</td><td>16</td><td>10</td><td>3</td><td> 5</td><td>1</td><td>3</td><td>2</td><td>    0</td><td>0</td><td>80</td><td>40</td><td>1</td></tr>\n",
       "</tbody>\n",
       "</table>\n"
      ],
      "text/latex": [
       "A tibble: 10 × 15\n",
       "\\begin{tabular}{lllllllllllllll}\n",
       " age & workclass & finalweight & education & numyearseducation & marital\\_status & occupation & relationship & race & sex & capital\\_gain & capital\\_loss & hours\\_per\\_week & native\\_country & income\\_above\\_50K\\\\\n",
       " <dbl> & <dbl> & <dbl> & <dbl> & <dbl> & <dbl> & <dbl> & <dbl> & <dbl> & <dbl> & <dbl> & <dbl> & <dbl> & <dbl> & <dbl>\\\\\n",
       "\\hline\n",
       "\t 50 & 7 &  83311 & 10 & 13 & 3 &  5 & 1 & 5 & 2 &     0 & 0 & 13 & 40 & 2\\\\\n",
       "\t 38 & 5 & 215646 & 12 &  9 & 1 &  7 & 2 & 5 & 2 &     0 & 0 & 40 & 40 & 2\\\\\n",
       "\t 53 & 5 & 234721 &  2 &  7 & 3 &  7 & 1 & 3 & 2 &     0 & 0 & 40 & 40 & 2\\\\\n",
       "\t 28 & 5 & 338409 & 10 & 13 & 3 & 11 & 6 & 3 & 1 &     0 & 0 & 40 &  6 & 2\\\\\n",
       "\t 37 & 5 & 284582 & 13 & 14 & 3 &  5 & 6 & 5 & 1 &     0 & 0 & 40 & 40 & 2\\\\\n",
       "\t 49 & 5 & 160187 &  7 &  5 & 4 &  9 & 2 & 3 & 1 &     0 & 0 & 16 & 24 & 2\\\\\n",
       "\t 52 & 7 & 209642 & 12 &  9 & 3 &  5 & 1 & 5 & 2 &     0 & 0 & 45 & 40 & 1\\\\\n",
       "\t 31 & 5 &  45781 & 13 & 14 & 5 & 11 & 2 & 5 & 1 & 14084 & 0 & 50 & 40 & 1\\\\\n",
       "\t 42 & 5 & 159449 & 10 & 13 & 3 &  5 & 1 & 5 & 2 &  5178 & 0 & 40 & 40 & 1\\\\\n",
       "\t 37 & 5 & 280464 & 16 & 10 & 3 &  5 & 1 & 3 & 2 &     0 & 0 & 80 & 40 & 1\\\\\n",
       "\\end{tabular}\n"
      ],
      "text/markdown": [
       "\n",
       "A tibble: 10 × 15\n",
       "\n",
       "| age &lt;dbl&gt; | workclass &lt;dbl&gt; | finalweight &lt;dbl&gt; | education &lt;dbl&gt; | numyearseducation &lt;dbl&gt; | marital_status &lt;dbl&gt; | occupation &lt;dbl&gt; | relationship &lt;dbl&gt; | race &lt;dbl&gt; | sex &lt;dbl&gt; | capital_gain &lt;dbl&gt; | capital_loss &lt;dbl&gt; | hours_per_week &lt;dbl&gt; | native_country &lt;dbl&gt; | income_above_50K &lt;dbl&gt; |\n",
       "|---|---|---|---|---|---|---|---|---|---|---|---|---|---|---|\n",
       "| 50 | 7 |  83311 | 10 | 13 | 3 |  5 | 1 | 5 | 2 |     0 | 0 | 13 | 40 | 2 |\n",
       "| 38 | 5 | 215646 | 12 |  9 | 1 |  7 | 2 | 5 | 2 |     0 | 0 | 40 | 40 | 2 |\n",
       "| 53 | 5 | 234721 |  2 |  7 | 3 |  7 | 1 | 3 | 2 |     0 | 0 | 40 | 40 | 2 |\n",
       "| 28 | 5 | 338409 | 10 | 13 | 3 | 11 | 6 | 3 | 1 |     0 | 0 | 40 |  6 | 2 |\n",
       "| 37 | 5 | 284582 | 13 | 14 | 3 |  5 | 6 | 5 | 1 |     0 | 0 | 40 | 40 | 2 |\n",
       "| 49 | 5 | 160187 |  7 |  5 | 4 |  9 | 2 | 3 | 1 |     0 | 0 | 16 | 24 | 2 |\n",
       "| 52 | 7 | 209642 | 12 |  9 | 3 |  5 | 1 | 5 | 2 |     0 | 0 | 45 | 40 | 1 |\n",
       "| 31 | 5 |  45781 | 13 | 14 | 5 | 11 | 2 | 5 | 1 | 14084 | 0 | 50 | 40 | 1 |\n",
       "| 42 | 5 | 159449 | 10 | 13 | 3 |  5 | 1 | 5 | 2 |  5178 | 0 | 40 | 40 | 1 |\n",
       "| 37 | 5 | 280464 | 16 | 10 | 3 |  5 | 1 | 3 | 2 |     0 | 0 | 80 | 40 | 1 |\n",
       "\n"
      ],
      "text/plain": [
       "   age workclass finalweight education numyearseducation marital_status\n",
       "1  50  7          83311      10        13                3             \n",
       "2  38  5         215646      12         9                1             \n",
       "3  53  5         234721       2         7                3             \n",
       "4  28  5         338409      10        13                3             \n",
       "5  37  5         284582      13        14                3             \n",
       "6  49  5         160187       7         5                4             \n",
       "7  52  7         209642      12         9                3             \n",
       "8  31  5          45781      13        14                5             \n",
       "9  42  5         159449      10        13                3             \n",
       "10 37  5         280464      16        10                3             \n",
       "   occupation relationship race sex capital_gain capital_loss hours_per_week\n",
       "1   5         1            5    2       0        0            13            \n",
       "2   7         2            5    2       0        0            40            \n",
       "3   7         1            3    2       0        0            40            \n",
       "4  11         6            3    1       0        0            40            \n",
       "5   5         6            5    1       0        0            40            \n",
       "6   9         2            3    1       0        0            16            \n",
       "7   5         1            5    2       0        0            45            \n",
       "8  11         2            5    1   14084        0            50            \n",
       "9   5         1            5    2    5178        0            40            \n",
       "10  5         1            3    2       0        0            80            \n",
       "   native_country income_above_50K\n",
       "1  40             2               \n",
       "2  40             2               \n",
       "3  40             2               \n",
       "4   6             2               \n",
       "5  40             2               \n",
       "6  24             2               \n",
       "7  40             1               \n",
       "8  40             1               \n",
       "9  40             1               \n",
       "10 40             1               "
      ]
     },
     "metadata": {},
     "output_type": "display_data"
    }
   ],
   "source": [
    "# change income_above_50K column to boolean\n",
    "\n",
    "income_data[\"income_above_50K\"][income_data[\"income_above_50K\"] == \">50K\"] <- \"False\"\n",
    "income_data[\"income_above_50K\"][income_data[\"income_above_50K\"] == \"<=50K\"] <- \"True\"\n",
    "\n",
    "head(income_data, 10)"
   ]
  },
  {
   "cell_type": "code",
   "execution_count": 94,
   "id": "a4ac036e-b4fd-48f3-b2be-4ee6ff439b6c",
   "metadata": {
    "collapsed": true,
    "jupyter": {
     "outputs_hidden": true
    },
    "tags": []
   },
   "outputs": [
    {
     "data": {
      "text/plain": [
       "      age          workclass      finalweight        education   \n",
       " Min.   :17.00   Min.   :1.000   Min.   :  12285   Min.   : 1.0  \n",
       " 1st Qu.:28.00   1st Qu.:5.000   1st Qu.: 117832   1st Qu.:10.0  \n",
       " Median :37.00   Median :5.000   Median : 178363   Median :12.0  \n",
       " Mean   :38.58   Mean   :4.869   Mean   : 189782   Mean   :11.3  \n",
       " 3rd Qu.:48.00   3rd Qu.:5.000   3rd Qu.: 237054   3rd Qu.:13.0  \n",
       " Max.   :90.00   Max.   :9.000   Max.   :1484705   Max.   :16.0  \n",
       " numyearseducation marital_status    occupation      relationship  \n",
       " Min.   : 1.00     Min.   :1.000   Min.   : 1.000   Min.   :1.000  \n",
       " 1st Qu.: 9.00     1st Qu.:3.000   1st Qu.: 4.000   1st Qu.:1.000  \n",
       " Median :10.00     Median :3.000   Median : 8.000   Median :2.000  \n",
       " Mean   :10.08     Mean   :3.612   Mean   : 7.573   Mean   :2.446  \n",
       " 3rd Qu.:12.00     3rd Qu.:5.000   3rd Qu.:11.000   3rd Qu.:4.000  \n",
       " Max.   :16.00     Max.   :7.000   Max.   :15.000   Max.   :6.000  \n",
       "      race            sex         capital_gain    capital_loss    \n",
       " Min.   :1.000   Min.   :1.000   Min.   :    0   Min.   :   0.00  \n",
       " 1st Qu.:5.000   1st Qu.:1.000   1st Qu.:    0   1st Qu.:   0.00  \n",
       " Median :5.000   Median :2.000   Median :    0   Median :   0.00  \n",
       " Mean   :4.666   Mean   :1.669   Mean   : 1078   Mean   :  87.31  \n",
       " 3rd Qu.:5.000   3rd Qu.:2.000   3rd Qu.:    0   3rd Qu.:   0.00  \n",
       " Max.   :5.000   Max.   :2.000   Max.   :99999   Max.   :4356.00  \n",
       " hours_per_week  native_country  income_above_50K\n",
       " Min.   : 1.00   Min.   : 1.00   Min.   :1.000   \n",
       " 1st Qu.:40.00   1st Qu.:40.00   1st Qu.:2.000   \n",
       " Median :40.00   Median :40.00   Median :2.000   \n",
       " Mean   :40.44   Mean   :37.72   Mean   :1.759   \n",
       " 3rd Qu.:45.00   3rd Qu.:40.00   3rd Qu.:2.000   \n",
       " Max.   :99.00   Max.   :42.00   Max.   :2.000   "
      ]
     },
     "metadata": {},
     "output_type": "display_data"
    }
   ],
   "source": [
    "# Examine the summary of income_data\n",
    "summary(income_data)"
   ]
  },
  {
   "cell_type": "code",
   "execution_count": 95,
   "id": "8aacbb6d-9c29-4c2c-a138-7acd6428a93b",
   "metadata": {
    "collapsed": true,
    "jupyter": {
     "outputs_hidden": true
    },
    "tags": []
   },
   "outputs": [
    {
     "data": {
      "text/html": [
       "<style>\n",
       ".list-inline {list-style: none; margin:0; padding: 0}\n",
       ".list-inline>li {display: inline-block}\n",
       ".list-inline>li:not(:last-child)::after {content: \"\\00b7\"; padding: 0 .5ex}\n",
       "</style>\n",
       "<ol class=list-inline><li>32560</li><li>15</li></ol>\n"
      ],
      "text/latex": [
       "\\begin{enumerate*}\n",
       "\\item 32560\n",
       "\\item 15\n",
       "\\end{enumerate*}\n"
      ],
      "text/markdown": [
       "1. 32560\n",
       "2. 15\n",
       "\n",
       "\n"
      ],
      "text/plain": [
       "[1] 32560    15"
      ]
     },
     "metadata": {},
     "output_type": "display_data"
    }
   ],
   "source": [
    "# find data dimnesions\n",
    "data_dimensions <- dim(income_data)\n",
    "data_dimensions"
   ]
  },
  {
   "cell_type": "code",
   "execution_count": 96,
   "id": "74465eaa-bcc7-4fea-a3bc-b6868fccaa4a",
   "metadata": {
    "tags": []
   },
   "outputs": [
    {
     "data": {
      "text/html": [
       "<style>\n",
       ".list-inline {list-style: none; margin:0; padding: 0}\n",
       ".list-inline>li {display: inline-block}\n",
       ".list-inline>li:not(:last-child)::after {content: \"\\00b7\"; padding: 0 .5ex}\n",
       "</style>\n",
       "<ol class=list-inline><li>'age'</li><li>'workclass'</li><li>'finalweight'</li><li>'education'</li><li>'numyearseducation'</li><li>'marital_status'</li><li>'occupation'</li><li>'relationship'</li><li>'race'</li><li>'sex'</li><li>'capital_gain'</li><li>'capital_loss'</li><li>'hours_per_week'</li><li>'native_country'</li><li>'income_above_50K'</li></ol>\n"
      ],
      "text/latex": [
       "\\begin{enumerate*}\n",
       "\\item 'age'\n",
       "\\item 'workclass'\n",
       "\\item 'finalweight'\n",
       "\\item 'education'\n",
       "\\item 'numyearseducation'\n",
       "\\item 'marital\\_status'\n",
       "\\item 'occupation'\n",
       "\\item 'relationship'\n",
       "\\item 'race'\n",
       "\\item 'sex'\n",
       "\\item 'capital\\_gain'\n",
       "\\item 'capital\\_loss'\n",
       "\\item 'hours\\_per\\_week'\n",
       "\\item 'native\\_country'\n",
       "\\item 'income\\_above\\_50K'\n",
       "\\end{enumerate*}\n"
      ],
      "text/markdown": [
       "1. 'age'\n",
       "2. 'workclass'\n",
       "3. 'finalweight'\n",
       "4. 'education'\n",
       "5. 'numyearseducation'\n",
       "6. 'marital_status'\n",
       "7. 'occupation'\n",
       "8. 'relationship'\n",
       "9. 'race'\n",
       "10. 'sex'\n",
       "11. 'capital_gain'\n",
       "12. 'capital_loss'\n",
       "13. 'hours_per_week'\n",
       "14. 'native_country'\n",
       "15. 'income_above_50K'\n",
       "\n",
       "\n"
      ],
      "text/plain": [
       " [1] \"age\"               \"workclass\"         \"finalweight\"      \n",
       " [4] \"education\"         \"numyearseducation\" \"marital_status\"   \n",
       " [7] \"occupation\"        \"relationship\"      \"race\"             \n",
       "[10] \"sex\"               \"capital_gain\"      \"capital_loss\"     \n",
       "[13] \"hours_per_week\"    \"native_country\"    \"income_above_50K\" "
      ]
     },
     "metadata": {},
     "output_type": "display_data"
    }
   ],
   "source": [
    "# find variable names\n",
    "names(income_data)"
   ]
  },
  {
   "cell_type": "code",
   "execution_count": 97,
   "id": "0943b776-f1bc-40d1-b429-08bd131adcae",
   "metadata": {
    "collapsed": true,
    "jupyter": {
     "outputs_hidden": true
    },
    "tags": []
   },
   "outputs": [
    {
     "data": {
      "text/html": [
       "<dl>\n",
       "\t<dt>$age</dt>\n",
       "\t\t<dd>'numeric'</dd>\n",
       "\t<dt>$workclass</dt>\n",
       "\t\t<dd>'numeric'</dd>\n",
       "\t<dt>$finalweight</dt>\n",
       "\t\t<dd>'numeric'</dd>\n",
       "\t<dt>$education</dt>\n",
       "\t\t<dd>'numeric'</dd>\n",
       "\t<dt>$numyearseducation</dt>\n",
       "\t\t<dd>'numeric'</dd>\n",
       "\t<dt>$marital_status</dt>\n",
       "\t\t<dd>'numeric'</dd>\n",
       "\t<dt>$occupation</dt>\n",
       "\t\t<dd>'numeric'</dd>\n",
       "\t<dt>$relationship</dt>\n",
       "\t\t<dd>'numeric'</dd>\n",
       "\t<dt>$race</dt>\n",
       "\t\t<dd>'numeric'</dd>\n",
       "\t<dt>$sex</dt>\n",
       "\t\t<dd>'numeric'</dd>\n",
       "\t<dt>$capital_gain</dt>\n",
       "\t\t<dd>'numeric'</dd>\n",
       "\t<dt>$capital_loss</dt>\n",
       "\t\t<dd>'numeric'</dd>\n",
       "\t<dt>$hours_per_week</dt>\n",
       "\t\t<dd>'numeric'</dd>\n",
       "\t<dt>$native_country</dt>\n",
       "\t\t<dd>'numeric'</dd>\n",
       "\t<dt>$income_above_50K</dt>\n",
       "\t\t<dd>'numeric'</dd>\n",
       "</dl>\n"
      ],
      "text/latex": [
       "\\begin{description}\n",
       "\\item[\\$age] 'numeric'\n",
       "\\item[\\$workclass] 'numeric'\n",
       "\\item[\\$finalweight] 'numeric'\n",
       "\\item[\\$education] 'numeric'\n",
       "\\item[\\$numyearseducation] 'numeric'\n",
       "\\item[\\$marital\\_status] 'numeric'\n",
       "\\item[\\$occupation] 'numeric'\n",
       "\\item[\\$relationship] 'numeric'\n",
       "\\item[\\$race] 'numeric'\n",
       "\\item[\\$sex] 'numeric'\n",
       "\\item[\\$capital\\_gain] 'numeric'\n",
       "\\item[\\$capital\\_loss] 'numeric'\n",
       "\\item[\\$hours\\_per\\_week] 'numeric'\n",
       "\\item[\\$native\\_country] 'numeric'\n",
       "\\item[\\$income\\_above\\_50K] 'numeric'\n",
       "\\end{description}\n"
      ],
      "text/markdown": [
       "$age\n",
       ":   'numeric'\n",
       "$workclass\n",
       ":   'numeric'\n",
       "$finalweight\n",
       ":   'numeric'\n",
       "$education\n",
       ":   'numeric'\n",
       "$numyearseducation\n",
       ":   'numeric'\n",
       "$marital_status\n",
       ":   'numeric'\n",
       "$occupation\n",
       ":   'numeric'\n",
       "$relationship\n",
       ":   'numeric'\n",
       "$race\n",
       ":   'numeric'\n",
       "$sex\n",
       ":   'numeric'\n",
       "$capital_gain\n",
       ":   'numeric'\n",
       "$capital_loss\n",
       ":   'numeric'\n",
       "$hours_per_week\n",
       ":   'numeric'\n",
       "$native_country\n",
       ":   'numeric'\n",
       "$income_above_50K\n",
       ":   'numeric'\n",
       "\n",
       "\n"
      ],
      "text/plain": [
       "$age\n",
       "[1] \"numeric\"\n",
       "\n",
       "$workclass\n",
       "[1] \"numeric\"\n",
       "\n",
       "$finalweight\n",
       "[1] \"numeric\"\n",
       "\n",
       "$education\n",
       "[1] \"numeric\"\n",
       "\n",
       "$numyearseducation\n",
       "[1] \"numeric\"\n",
       "\n",
       "$marital_status\n",
       "[1] \"numeric\"\n",
       "\n",
       "$occupation\n",
       "[1] \"numeric\"\n",
       "\n",
       "$relationship\n",
       "[1] \"numeric\"\n",
       "\n",
       "$race\n",
       "[1] \"numeric\"\n",
       "\n",
       "$sex\n",
       "[1] \"numeric\"\n",
       "\n",
       "$capital_gain\n",
       "[1] \"numeric\"\n",
       "\n",
       "$capital_loss\n",
       "[1] \"numeric\"\n",
       "\n",
       "$hours_per_week\n",
       "[1] \"numeric\"\n",
       "\n",
       "$native_country\n",
       "[1] \"numeric\"\n",
       "\n",
       "$income_above_50K\n",
       "[1] \"numeric\"\n"
      ]
     },
     "metadata": {},
     "output_type": "display_data"
    }
   ],
   "source": [
    "# find the class of each variable\n",
    "lapply(income_data, class)"
   ]
  },
  {
   "cell_type": "code",
   "execution_count": 99,
   "id": "8b2bea24-6143-46f2-9aea-460c498fa9e6",
   "metadata": {},
   "outputs": [],
   "source": [
    "# create vectors of categorical data\n",
    "\n",
    "workclass_vector <- income_data$workclass\n",
    "education_vector <- income_data$education\n",
    "marital_status_vector <- income_data$marital_status\n",
    "occupation_vector <- income_data$occupation\n",
    "relationship_vector <- income_data$relationship\n",
    "race_vector <- income_data$race\n",
    "sex_vector <- income_data$sex\n",
    "native_country_vector <- income_data$native_country\n",
    "income_above_50K_vector <- income_data$income_above_50K"
   ]
  },
  {
   "cell_type": "code",
   "execution_count": 100,
   "id": "d3f37c53-2909-418f-9570-42bf53124046",
   "metadata": {
    "collapsed": true,
    "jupyter": {
     "outputs_hidden": true
    },
    "tags": []
   },
   "outputs": [
    {
     "data": {
      "text/html": [
       "<table class=\"dataframe\">\n",
       "<caption>A data.frame: 2 × 2</caption>\n",
       "<thead>\n",
       "\t<tr><th scope=col>income_above_50K_vector</th><th scope=col>Freq</th></tr>\n",
       "\t<tr><th scope=col>&lt;fct&gt;</th><th scope=col>&lt;int&gt;</th></tr>\n",
       "</thead>\n",
       "<tbody>\n",
       "\t<tr><td>1</td><td> 7841</td></tr>\n",
       "\t<tr><td>2</td><td>24719</td></tr>\n",
       "</tbody>\n",
       "</table>\n"
      ],
      "text/latex": [
       "A data.frame: 2 × 2\n",
       "\\begin{tabular}{ll}\n",
       " income\\_above\\_50K\\_vector & Freq\\\\\n",
       " <fct> & <int>\\\\\n",
       "\\hline\n",
       "\t 1 &  7841\\\\\n",
       "\t 2 & 24719\\\\\n",
       "\\end{tabular}\n"
      ],
      "text/markdown": [
       "\n",
       "A data.frame: 2 × 2\n",
       "\n",
       "| income_above_50K_vector &lt;fct&gt; | Freq &lt;int&gt; |\n",
       "|---|---|\n",
       "| 1 |  7841 |\n",
       "| 2 | 24719 |\n",
       "\n"
      ],
      "text/plain": [
       "  income_above_50K_vector Freq \n",
       "1 1                        7841\n",
       "2 2                       24719"
      ]
     },
     "metadata": {},
     "output_type": "display_data"
    },
    {
     "data": {
      "text/html": [
       "2"
      ],
      "text/latex": [
       "2"
      ],
      "text/markdown": [
       "2"
      ],
      "text/plain": [
       "[1] 2"
      ]
     },
     "metadata": {},
     "output_type": "display_data"
    }
   ],
   "source": [
    "# Find all types of response in income_above_50K_vector\n",
    "income_above_50K_count <- as.data.frame(table(income_above_50K_vector))\n",
    "income_above_50K_count\n",
    "nrow(income_above_50K_count)"
   ]
  },
  {
   "cell_type": "code",
   "execution_count": 101,
   "id": "f25b663d-f2d1-433a-b496-8a0168b75882",
   "metadata": {
    "collapsed": true,
    "jupyter": {
     "outputs_hidden": true
    },
    "tags": []
   },
   "outputs": [
    {
     "data": {
      "text/html": [
       "<table class=\"dataframe\">\n",
       "<caption>A data.frame: 42 × 2</caption>\n",
       "<thead>\n",
       "\t<tr><th scope=col>native_country_vector</th><th scope=col>Freq</th></tr>\n",
       "\t<tr><th scope=col>&lt;fct&gt;</th><th scope=col>&lt;int&gt;</th></tr>\n",
       "</thead>\n",
       "<tbody>\n",
       "\t<tr><td>1 </td><td>  583</td></tr>\n",
       "\t<tr><td>2 </td><td>   19</td></tr>\n",
       "\t<tr><td>3 </td><td>  121</td></tr>\n",
       "\t<tr><td>4 </td><td>   75</td></tr>\n",
       "\t<tr><td>5 </td><td>   59</td></tr>\n",
       "\t<tr><td>6 </td><td>   95</td></tr>\n",
       "\t<tr><td>7 </td><td>   70</td></tr>\n",
       "\t<tr><td>8 </td><td>   28</td></tr>\n",
       "\t<tr><td>9 </td><td>  106</td></tr>\n",
       "\t<tr><td>10</td><td>   90</td></tr>\n",
       "\t<tr><td>11</td><td>   29</td></tr>\n",
       "\t<tr><td>12</td><td>  137</td></tr>\n",
       "\t<tr><td>13</td><td>   29</td></tr>\n",
       "\t<tr><td>14</td><td>   64</td></tr>\n",
       "\t<tr><td>15</td><td>   44</td></tr>\n",
       "\t<tr><td>16</td><td>    1</td></tr>\n",
       "\t<tr><td>17</td><td>   13</td></tr>\n",
       "\t<tr><td>18</td><td>   20</td></tr>\n",
       "\t<tr><td>19</td><td>   13</td></tr>\n",
       "\t<tr><td>20</td><td>  100</td></tr>\n",
       "\t<tr><td>21</td><td>   43</td></tr>\n",
       "\t<tr><td>22</td><td>   24</td></tr>\n",
       "\t<tr><td>23</td><td>   73</td></tr>\n",
       "\t<tr><td>24</td><td>   81</td></tr>\n",
       "\t<tr><td>25</td><td>   62</td></tr>\n",
       "\t<tr><td>26</td><td>   18</td></tr>\n",
       "\t<tr><td>27</td><td>  643</td></tr>\n",
       "\t<tr><td>28</td><td>   34</td></tr>\n",
       "\t<tr><td>29</td><td>   14</td></tr>\n",
       "\t<tr><td>30</td><td>   31</td></tr>\n",
       "\t<tr><td>31</td><td>  198</td></tr>\n",
       "\t<tr><td>32</td><td>   60</td></tr>\n",
       "\t<tr><td>33</td><td>   37</td></tr>\n",
       "\t<tr><td>34</td><td>  114</td></tr>\n",
       "\t<tr><td>35</td><td>   12</td></tr>\n",
       "\t<tr><td>36</td><td>   80</td></tr>\n",
       "\t<tr><td>37</td><td>   51</td></tr>\n",
       "\t<tr><td>38</td><td>   18</td></tr>\n",
       "\t<tr><td>39</td><td>   19</td></tr>\n",
       "\t<tr><td>40</td><td>29169</td></tr>\n",
       "\t<tr><td>41</td><td>   67</td></tr>\n",
       "\t<tr><td>42</td><td>   16</td></tr>\n",
       "</tbody>\n",
       "</table>\n"
      ],
      "text/latex": [
       "A data.frame: 42 × 2\n",
       "\\begin{tabular}{ll}\n",
       " native\\_country\\_vector & Freq\\\\\n",
       " <fct> & <int>\\\\\n",
       "\\hline\n",
       "\t 1  &   583\\\\\n",
       "\t 2  &    19\\\\\n",
       "\t 3  &   121\\\\\n",
       "\t 4  &    75\\\\\n",
       "\t 5  &    59\\\\\n",
       "\t 6  &    95\\\\\n",
       "\t 7  &    70\\\\\n",
       "\t 8  &    28\\\\\n",
       "\t 9  &   106\\\\\n",
       "\t 10 &    90\\\\\n",
       "\t 11 &    29\\\\\n",
       "\t 12 &   137\\\\\n",
       "\t 13 &    29\\\\\n",
       "\t 14 &    64\\\\\n",
       "\t 15 &    44\\\\\n",
       "\t 16 &     1\\\\\n",
       "\t 17 &    13\\\\\n",
       "\t 18 &    20\\\\\n",
       "\t 19 &    13\\\\\n",
       "\t 20 &   100\\\\\n",
       "\t 21 &    43\\\\\n",
       "\t 22 &    24\\\\\n",
       "\t 23 &    73\\\\\n",
       "\t 24 &    81\\\\\n",
       "\t 25 &    62\\\\\n",
       "\t 26 &    18\\\\\n",
       "\t 27 &   643\\\\\n",
       "\t 28 &    34\\\\\n",
       "\t 29 &    14\\\\\n",
       "\t 30 &    31\\\\\n",
       "\t 31 &   198\\\\\n",
       "\t 32 &    60\\\\\n",
       "\t 33 &    37\\\\\n",
       "\t 34 &   114\\\\\n",
       "\t 35 &    12\\\\\n",
       "\t 36 &    80\\\\\n",
       "\t 37 &    51\\\\\n",
       "\t 38 &    18\\\\\n",
       "\t 39 &    19\\\\\n",
       "\t 40 & 29169\\\\\n",
       "\t 41 &    67\\\\\n",
       "\t 42 &    16\\\\\n",
       "\\end{tabular}\n"
      ],
      "text/markdown": [
       "\n",
       "A data.frame: 42 × 2\n",
       "\n",
       "| native_country_vector &lt;fct&gt; | Freq &lt;int&gt; |\n",
       "|---|---|\n",
       "| 1  |   583 |\n",
       "| 2  |    19 |\n",
       "| 3  |   121 |\n",
       "| 4  |    75 |\n",
       "| 5  |    59 |\n",
       "| 6  |    95 |\n",
       "| 7  |    70 |\n",
       "| 8  |    28 |\n",
       "| 9  |   106 |\n",
       "| 10 |    90 |\n",
       "| 11 |    29 |\n",
       "| 12 |   137 |\n",
       "| 13 |    29 |\n",
       "| 14 |    64 |\n",
       "| 15 |    44 |\n",
       "| 16 |     1 |\n",
       "| 17 |    13 |\n",
       "| 18 |    20 |\n",
       "| 19 |    13 |\n",
       "| 20 |   100 |\n",
       "| 21 |    43 |\n",
       "| 22 |    24 |\n",
       "| 23 |    73 |\n",
       "| 24 |    81 |\n",
       "| 25 |    62 |\n",
       "| 26 |    18 |\n",
       "| 27 |   643 |\n",
       "| 28 |    34 |\n",
       "| 29 |    14 |\n",
       "| 30 |    31 |\n",
       "| 31 |   198 |\n",
       "| 32 |    60 |\n",
       "| 33 |    37 |\n",
       "| 34 |   114 |\n",
       "| 35 |    12 |\n",
       "| 36 |    80 |\n",
       "| 37 |    51 |\n",
       "| 38 |    18 |\n",
       "| 39 |    19 |\n",
       "| 40 | 29169 |\n",
       "| 41 |    67 |\n",
       "| 42 |    16 |\n",
       "\n"
      ],
      "text/plain": [
       "   native_country_vector Freq \n",
       "1  1                       583\n",
       "2  2                        19\n",
       "3  3                       121\n",
       "4  4                        75\n",
       "5  5                        59\n",
       "6  6                        95\n",
       "7  7                        70\n",
       "8  8                        28\n",
       "9  9                       106\n",
       "10 10                       90\n",
       "11 11                       29\n",
       "12 12                      137\n",
       "13 13                       29\n",
       "14 14                       64\n",
       "15 15                       44\n",
       "16 16                        1\n",
       "17 17                       13\n",
       "18 18                       20\n",
       "19 19                       13\n",
       "20 20                      100\n",
       "21 21                       43\n",
       "22 22                       24\n",
       "23 23                       73\n",
       "24 24                       81\n",
       "25 25                       62\n",
       "26 26                       18\n",
       "27 27                      643\n",
       "28 28                       34\n",
       "29 29                       14\n",
       "30 30                       31\n",
       "31 31                      198\n",
       "32 32                       60\n",
       "33 33                       37\n",
       "34 34                      114\n",
       "35 35                       12\n",
       "36 36                       80\n",
       "37 37                       51\n",
       "38 38                       18\n",
       "39 39                       19\n",
       "40 40                    29169\n",
       "41 41                       67\n",
       "42 42                       16"
      ]
     },
     "metadata": {},
     "output_type": "display_data"
    },
    {
     "data": {
      "text/html": [
       "42"
      ],
      "text/latex": [
       "42"
      ],
      "text/markdown": [
       "42"
      ],
      "text/plain": [
       "[1] 42"
      ]
     },
     "metadata": {},
     "output_type": "display_data"
    }
   ],
   "source": [
    "# Find all types of response in native_country_vector\n",
    "native_country_count <- as.data.frame(table(native_country_vector))\n",
    "native_country_count\n",
    "nrow(native_country_count)\n"
   ]
  },
  {
   "cell_type": "code",
   "execution_count": 102,
   "id": "8de8643e-9655-48db-876a-677d229626aa",
   "metadata": {
    "collapsed": true,
    "jupyter": {
     "outputs_hidden": true
    },
    "tags": []
   },
   "outputs": [
    {
     "data": {
      "text/html": [
       "<table class=\"dataframe\">\n",
       "<caption>A data.frame: 16 × 2</caption>\n",
       "<thead>\n",
       "\t<tr><th scope=col>education_vector</th><th scope=col>Freq</th></tr>\n",
       "\t<tr><th scope=col>&lt;fct&gt;</th><th scope=col>&lt;int&gt;</th></tr>\n",
       "</thead>\n",
       "<tbody>\n",
       "\t<tr><td>1 </td><td>  933</td></tr>\n",
       "\t<tr><td>2 </td><td> 1175</td></tr>\n",
       "\t<tr><td>3 </td><td>  433</td></tr>\n",
       "\t<tr><td>4 </td><td>  168</td></tr>\n",
       "\t<tr><td>5 </td><td>  333</td></tr>\n",
       "\t<tr><td>6 </td><td>  646</td></tr>\n",
       "\t<tr><td>7 </td><td>  514</td></tr>\n",
       "\t<tr><td>8 </td><td> 1067</td></tr>\n",
       "\t<tr><td>9 </td><td> 1382</td></tr>\n",
       "\t<tr><td>10</td><td> 5354</td></tr>\n",
       "\t<tr><td>11</td><td>  413</td></tr>\n",
       "\t<tr><td>12</td><td>10501</td></tr>\n",
       "\t<tr><td>13</td><td> 1723</td></tr>\n",
       "\t<tr><td>14</td><td>   51</td></tr>\n",
       "\t<tr><td>15</td><td>  576</td></tr>\n",
       "\t<tr><td>16</td><td> 7291</td></tr>\n",
       "</tbody>\n",
       "</table>\n"
      ],
      "text/latex": [
       "A data.frame: 16 × 2\n",
       "\\begin{tabular}{ll}\n",
       " education\\_vector & Freq\\\\\n",
       " <fct> & <int>\\\\\n",
       "\\hline\n",
       "\t 1  &   933\\\\\n",
       "\t 2  &  1175\\\\\n",
       "\t 3  &   433\\\\\n",
       "\t 4  &   168\\\\\n",
       "\t 5  &   333\\\\\n",
       "\t 6  &   646\\\\\n",
       "\t 7  &   514\\\\\n",
       "\t 8  &  1067\\\\\n",
       "\t 9  &  1382\\\\\n",
       "\t 10 &  5354\\\\\n",
       "\t 11 &   413\\\\\n",
       "\t 12 & 10501\\\\\n",
       "\t 13 &  1723\\\\\n",
       "\t 14 &    51\\\\\n",
       "\t 15 &   576\\\\\n",
       "\t 16 &  7291\\\\\n",
       "\\end{tabular}\n"
      ],
      "text/markdown": [
       "\n",
       "A data.frame: 16 × 2\n",
       "\n",
       "| education_vector &lt;fct&gt; | Freq &lt;int&gt; |\n",
       "|---|---|\n",
       "| 1  |   933 |\n",
       "| 2  |  1175 |\n",
       "| 3  |   433 |\n",
       "| 4  |   168 |\n",
       "| 5  |   333 |\n",
       "| 6  |   646 |\n",
       "| 7  |   514 |\n",
       "| 8  |  1067 |\n",
       "| 9  |  1382 |\n",
       "| 10 |  5354 |\n",
       "| 11 |   413 |\n",
       "| 12 | 10501 |\n",
       "| 13 |  1723 |\n",
       "| 14 |    51 |\n",
       "| 15 |   576 |\n",
       "| 16 |  7291 |\n",
       "\n"
      ],
      "text/plain": [
       "   education_vector Freq \n",
       "1  1                  933\n",
       "2  2                 1175\n",
       "3  3                  433\n",
       "4  4                  168\n",
       "5  5                  333\n",
       "6  6                  646\n",
       "7  7                  514\n",
       "8  8                 1067\n",
       "9  9                 1382\n",
       "10 10                5354\n",
       "11 11                 413\n",
       "12 12               10501\n",
       "13 13                1723\n",
       "14 14                  51\n",
       "15 15                 576\n",
       "16 16                7291"
      ]
     },
     "metadata": {},
     "output_type": "display_data"
    },
    {
     "data": {
      "text/html": [
       "16"
      ],
      "text/latex": [
       "16"
      ],
      "text/markdown": [
       "16"
      ],
      "text/plain": [
       "[1] 16"
      ]
     },
     "metadata": {},
     "output_type": "display_data"
    }
   ],
   "source": [
    "# Find all types of response in education_vector\n",
    "education_count <- as.data.frame(table(education_vector))\n",
    "education_count\n",
    "nrow(education_count)"
   ]
  },
  {
   "cell_type": "code",
   "execution_count": 103,
   "id": "dfb049f4-6116-449d-9807-4f342adea6e3",
   "metadata": {
    "collapsed": true,
    "jupyter": {
     "outputs_hidden": true
    },
    "tags": []
   },
   "outputs": [
    {
     "data": {
      "text/html": [
       "<table class=\"dataframe\">\n",
       "<caption>A data.frame: 2 × 2</caption>\n",
       "<thead>\n",
       "\t<tr><th scope=col>sex_vector</th><th scope=col>Freq</th></tr>\n",
       "\t<tr><th scope=col>&lt;fct&gt;</th><th scope=col>&lt;int&gt;</th></tr>\n",
       "</thead>\n",
       "<tbody>\n",
       "\t<tr><td>1</td><td>10771</td></tr>\n",
       "\t<tr><td>2</td><td>21789</td></tr>\n",
       "</tbody>\n",
       "</table>\n"
      ],
      "text/latex": [
       "A data.frame: 2 × 2\n",
       "\\begin{tabular}{ll}\n",
       " sex\\_vector & Freq\\\\\n",
       " <fct> & <int>\\\\\n",
       "\\hline\n",
       "\t 1 & 10771\\\\\n",
       "\t 2 & 21789\\\\\n",
       "\\end{tabular}\n"
      ],
      "text/markdown": [
       "\n",
       "A data.frame: 2 × 2\n",
       "\n",
       "| sex_vector &lt;fct&gt; | Freq &lt;int&gt; |\n",
       "|---|---|\n",
       "| 1 | 10771 |\n",
       "| 2 | 21789 |\n",
       "\n"
      ],
      "text/plain": [
       "  sex_vector Freq \n",
       "1 1          10771\n",
       "2 2          21789"
      ]
     },
     "metadata": {},
     "output_type": "display_data"
    },
    {
     "data": {
      "text/html": [
       "2"
      ],
      "text/latex": [
       "2"
      ],
      "text/markdown": [
       "2"
      ],
      "text/plain": [
       "[1] 2"
      ]
     },
     "metadata": {},
     "output_type": "display_data"
    }
   ],
   "source": [
    "# Find all types of response in sex_vector\n",
    "sex_count <- as.data.frame(table(sex_vector))\n",
    "sex_count\n",
    "nrow(sex_count)"
   ]
  },
  {
   "cell_type": "code",
   "execution_count": 104,
   "id": "a879b90d-5495-448f-8084-cc01780c7a8e",
   "metadata": {
    "collapsed": true,
    "jupyter": {
     "outputs_hidden": true
    },
    "tags": []
   },
   "outputs": [
    {
     "data": {
      "text/html": [
       "<table class=\"dataframe\">\n",
       "<caption>A data.frame: 5 × 2</caption>\n",
       "<thead>\n",
       "\t<tr><th scope=col>race_vector</th><th scope=col>Freq</th></tr>\n",
       "\t<tr><th scope=col>&lt;fct&gt;</th><th scope=col>&lt;int&gt;</th></tr>\n",
       "</thead>\n",
       "<tbody>\n",
       "\t<tr><td>1</td><td>  311</td></tr>\n",
       "\t<tr><td>2</td><td> 1039</td></tr>\n",
       "\t<tr><td>3</td><td> 3124</td></tr>\n",
       "\t<tr><td>4</td><td>  271</td></tr>\n",
       "\t<tr><td>5</td><td>27815</td></tr>\n",
       "</tbody>\n",
       "</table>\n"
      ],
      "text/latex": [
       "A data.frame: 5 × 2\n",
       "\\begin{tabular}{ll}\n",
       " race\\_vector & Freq\\\\\n",
       " <fct> & <int>\\\\\n",
       "\\hline\n",
       "\t 1 &   311\\\\\n",
       "\t 2 &  1039\\\\\n",
       "\t 3 &  3124\\\\\n",
       "\t 4 &   271\\\\\n",
       "\t 5 & 27815\\\\\n",
       "\\end{tabular}\n"
      ],
      "text/markdown": [
       "\n",
       "A data.frame: 5 × 2\n",
       "\n",
       "| race_vector &lt;fct&gt; | Freq &lt;int&gt; |\n",
       "|---|---|\n",
       "| 1 |   311 |\n",
       "| 2 |  1039 |\n",
       "| 3 |  3124 |\n",
       "| 4 |   271 |\n",
       "| 5 | 27815 |\n",
       "\n"
      ],
      "text/plain": [
       "  race_vector Freq \n",
       "1 1             311\n",
       "2 2            1039\n",
       "3 3            3124\n",
       "4 4             271\n",
       "5 5           27815"
      ]
     },
     "metadata": {},
     "output_type": "display_data"
    },
    {
     "data": {
      "text/html": [
       "5"
      ],
      "text/latex": [
       "5"
      ],
      "text/markdown": [
       "5"
      ],
      "text/plain": [
       "[1] 5"
      ]
     },
     "metadata": {},
     "output_type": "display_data"
    }
   ],
   "source": [
    "# Find all types of response in race_vector\n",
    "race_count <- as.data.frame(table(race_vector))\n",
    "race_count\n",
    "nrow(race_count)"
   ]
  },
  {
   "cell_type": "code",
   "execution_count": 105,
   "id": "3ef44b7c-8ce8-48ce-beef-f4364d060053",
   "metadata": {
    "collapsed": true,
    "jupyter": {
     "outputs_hidden": true
    },
    "tags": []
   },
   "outputs": [
    {
     "data": {
      "text/html": [
       "<table class=\"dataframe\">\n",
       "<caption>A data.frame: 6 × 2</caption>\n",
       "<thead>\n",
       "\t<tr><th scope=col>relationship_vector</th><th scope=col>Freq</th></tr>\n",
       "\t<tr><th scope=col>&lt;fct&gt;</th><th scope=col>&lt;int&gt;</th></tr>\n",
       "</thead>\n",
       "<tbody>\n",
       "\t<tr><td>1</td><td>13193</td></tr>\n",
       "\t<tr><td>2</td><td> 8304</td></tr>\n",
       "\t<tr><td>3</td><td>  981</td></tr>\n",
       "\t<tr><td>4</td><td> 5068</td></tr>\n",
       "\t<tr><td>5</td><td> 3446</td></tr>\n",
       "\t<tr><td>6</td><td> 1568</td></tr>\n",
       "</tbody>\n",
       "</table>\n"
      ],
      "text/latex": [
       "A data.frame: 6 × 2\n",
       "\\begin{tabular}{ll}\n",
       " relationship\\_vector & Freq\\\\\n",
       " <fct> & <int>\\\\\n",
       "\\hline\n",
       "\t 1 & 13193\\\\\n",
       "\t 2 &  8304\\\\\n",
       "\t 3 &   981\\\\\n",
       "\t 4 &  5068\\\\\n",
       "\t 5 &  3446\\\\\n",
       "\t 6 &  1568\\\\\n",
       "\\end{tabular}\n"
      ],
      "text/markdown": [
       "\n",
       "A data.frame: 6 × 2\n",
       "\n",
       "| relationship_vector &lt;fct&gt; | Freq &lt;int&gt; |\n",
       "|---|---|\n",
       "| 1 | 13193 |\n",
       "| 2 |  8304 |\n",
       "| 3 |   981 |\n",
       "| 4 |  5068 |\n",
       "| 5 |  3446 |\n",
       "| 6 |  1568 |\n",
       "\n"
      ],
      "text/plain": [
       "  relationship_vector Freq \n",
       "1 1                   13193\n",
       "2 2                    8304\n",
       "3 3                     981\n",
       "4 4                    5068\n",
       "5 5                    3446\n",
       "6 6                    1568"
      ]
     },
     "metadata": {},
     "output_type": "display_data"
    },
    {
     "data": {
      "text/html": [
       "6"
      ],
      "text/latex": [
       "6"
      ],
      "text/markdown": [
       "6"
      ],
      "text/plain": [
       "[1] 6"
      ]
     },
     "metadata": {},
     "output_type": "display_data"
    }
   ],
   "source": [
    "# Find all types of response in relationship_vector\n",
    "relationship_count <- as.data.frame(table(relationship_vector))\n",
    "relationship_count\n",
    "nrow(relationship_count)"
   ]
  },
  {
   "cell_type": "code",
   "execution_count": 106,
   "id": "14454380-f717-4ebe-a93b-a2802b058b92",
   "metadata": {
    "collapsed": true,
    "jupyter": {
     "outputs_hidden": true
    },
    "tags": []
   },
   "outputs": [
    {
     "data": {
      "text/html": [
       "<table class=\"dataframe\">\n",
       "<caption>A data.frame: 9 × 2</caption>\n",
       "<thead>\n",
       "\t<tr><th scope=col>workclass_vector</th><th scope=col>Freq</th></tr>\n",
       "\t<tr><th scope=col>&lt;fct&gt;</th><th scope=col>&lt;int&gt;</th></tr>\n",
       "</thead>\n",
       "<tbody>\n",
       "\t<tr><td>1</td><td> 1836</td></tr>\n",
       "\t<tr><td>2</td><td>  960</td></tr>\n",
       "\t<tr><td>3</td><td> 2093</td></tr>\n",
       "\t<tr><td>4</td><td>    7</td></tr>\n",
       "\t<tr><td>5</td><td>22696</td></tr>\n",
       "\t<tr><td>6</td><td> 1116</td></tr>\n",
       "\t<tr><td>7</td><td> 2541</td></tr>\n",
       "\t<tr><td>8</td><td> 1297</td></tr>\n",
       "\t<tr><td>9</td><td>   14</td></tr>\n",
       "</tbody>\n",
       "</table>\n"
      ],
      "text/latex": [
       "A data.frame: 9 × 2\n",
       "\\begin{tabular}{ll}\n",
       " workclass\\_vector & Freq\\\\\n",
       " <fct> & <int>\\\\\n",
       "\\hline\n",
       "\t 1 &  1836\\\\\n",
       "\t 2 &   960\\\\\n",
       "\t 3 &  2093\\\\\n",
       "\t 4 &     7\\\\\n",
       "\t 5 & 22696\\\\\n",
       "\t 6 &  1116\\\\\n",
       "\t 7 &  2541\\\\\n",
       "\t 8 &  1297\\\\\n",
       "\t 9 &    14\\\\\n",
       "\\end{tabular}\n"
      ],
      "text/markdown": [
       "\n",
       "A data.frame: 9 × 2\n",
       "\n",
       "| workclass_vector &lt;fct&gt; | Freq &lt;int&gt; |\n",
       "|---|---|\n",
       "| 1 |  1836 |\n",
       "| 2 |   960 |\n",
       "| 3 |  2093 |\n",
       "| 4 |     7 |\n",
       "| 5 | 22696 |\n",
       "| 6 |  1116 |\n",
       "| 7 |  2541 |\n",
       "| 8 |  1297 |\n",
       "| 9 |    14 |\n",
       "\n"
      ],
      "text/plain": [
       "  workclass_vector Freq \n",
       "1 1                 1836\n",
       "2 2                  960\n",
       "3 3                 2093\n",
       "4 4                    7\n",
       "5 5                22696\n",
       "6 6                 1116\n",
       "7 7                 2541\n",
       "8 8                 1297\n",
       "9 9                   14"
      ]
     },
     "metadata": {},
     "output_type": "display_data"
    },
    {
     "data": {
      "text/html": [
       "9"
      ],
      "text/latex": [
       "9"
      ],
      "text/markdown": [
       "9"
      ],
      "text/plain": [
       "[1] 9"
      ]
     },
     "metadata": {},
     "output_type": "display_data"
    }
   ],
   "source": [
    "# Find all types of response in workclass_vector\n",
    "workclass_count <- as.data.frame(table(workclass_vector))\n",
    "workclass_count\n",
    "nrow(workclass_count)"
   ]
  },
  {
   "cell_type": "code",
   "execution_count": 107,
   "id": "aafe2acb-9688-4a3d-a960-1d62a6f19002",
   "metadata": {
    "collapsed": true,
    "jupyter": {
     "outputs_hidden": true
    },
    "tags": []
   },
   "outputs": [
    {
     "data": {
      "text/html": [
       "<table class=\"dataframe\">\n",
       "<caption>A data.frame: 7 × 2</caption>\n",
       "<thead>\n",
       "\t<tr><th scope=col>marital_status_vector</th><th scope=col>Freq</th></tr>\n",
       "\t<tr><th scope=col>&lt;fct&gt;</th><th scope=col>&lt;int&gt;</th></tr>\n",
       "</thead>\n",
       "<tbody>\n",
       "\t<tr><td>1</td><td> 4443</td></tr>\n",
       "\t<tr><td>2</td><td>   23</td></tr>\n",
       "\t<tr><td>3</td><td>14976</td></tr>\n",
       "\t<tr><td>4</td><td>  418</td></tr>\n",
       "\t<tr><td>5</td><td>10682</td></tr>\n",
       "\t<tr><td>6</td><td> 1025</td></tr>\n",
       "\t<tr><td>7</td><td>  993</td></tr>\n",
       "</tbody>\n",
       "</table>\n"
      ],
      "text/latex": [
       "A data.frame: 7 × 2\n",
       "\\begin{tabular}{ll}\n",
       " marital\\_status\\_vector & Freq\\\\\n",
       " <fct> & <int>\\\\\n",
       "\\hline\n",
       "\t 1 &  4443\\\\\n",
       "\t 2 &    23\\\\\n",
       "\t 3 & 14976\\\\\n",
       "\t 4 &   418\\\\\n",
       "\t 5 & 10682\\\\\n",
       "\t 6 &  1025\\\\\n",
       "\t 7 &   993\\\\\n",
       "\\end{tabular}\n"
      ],
      "text/markdown": [
       "\n",
       "A data.frame: 7 × 2\n",
       "\n",
       "| marital_status_vector &lt;fct&gt; | Freq &lt;int&gt; |\n",
       "|---|---|\n",
       "| 1 |  4443 |\n",
       "| 2 |    23 |\n",
       "| 3 | 14976 |\n",
       "| 4 |   418 |\n",
       "| 5 | 10682 |\n",
       "| 6 |  1025 |\n",
       "| 7 |   993 |\n",
       "\n"
      ],
      "text/plain": [
       "  marital_status_vector Freq \n",
       "1 1                      4443\n",
       "2 2                        23\n",
       "3 3                     14976\n",
       "4 4                       418\n",
       "5 5                     10682\n",
       "6 6                      1025\n",
       "7 7                       993"
      ]
     },
     "metadata": {},
     "output_type": "display_data"
    },
    {
     "data": {
      "text/html": [
       "7"
      ],
      "text/latex": [
       "7"
      ],
      "text/markdown": [
       "7"
      ],
      "text/plain": [
       "[1] 7"
      ]
     },
     "metadata": {},
     "output_type": "display_data"
    }
   ],
   "source": [
    "# Find all types of response in marital_status_vector\n",
    "marital_status_count <- as.data.frame(table(marital_status_vector))\n",
    "marital_status_count\n",
    "nrow(marital_status_count)"
   ]
  },
  {
   "cell_type": "code",
   "execution_count": 108,
   "id": "3b862923-bff0-4f5b-a828-76e9991cdcd5",
   "metadata": {
    "collapsed": true,
    "jupyter": {
     "outputs_hidden": true
    },
    "tags": []
   },
   "outputs": [
    {
     "data": {
      "text/html": [
       "<table class=\"dataframe\">\n",
       "<caption>A data.frame: 15 × 2</caption>\n",
       "<thead>\n",
       "\t<tr><th scope=col>occupation_vector</th><th scope=col>Freq</th></tr>\n",
       "\t<tr><th scope=col>&lt;fct&gt;</th><th scope=col>&lt;int&gt;</th></tr>\n",
       "</thead>\n",
       "<tbody>\n",
       "\t<tr><td>1 </td><td>1843</td></tr>\n",
       "\t<tr><td>2 </td><td>3769</td></tr>\n",
       "\t<tr><td>3 </td><td>   9</td></tr>\n",
       "\t<tr><td>4 </td><td>4099</td></tr>\n",
       "\t<tr><td>5 </td><td>4066</td></tr>\n",
       "\t<tr><td>6 </td><td> 994</td></tr>\n",
       "\t<tr><td>7 </td><td>1370</td></tr>\n",
       "\t<tr><td>8 </td><td>2002</td></tr>\n",
       "\t<tr><td>9 </td><td>3295</td></tr>\n",
       "\t<tr><td>10</td><td> 149</td></tr>\n",
       "\t<tr><td>11</td><td>4140</td></tr>\n",
       "\t<tr><td>12</td><td> 649</td></tr>\n",
       "\t<tr><td>13</td><td>3650</td></tr>\n",
       "\t<tr><td>14</td><td> 928</td></tr>\n",
       "\t<tr><td>15</td><td>1597</td></tr>\n",
       "</tbody>\n",
       "</table>\n"
      ],
      "text/latex": [
       "A data.frame: 15 × 2\n",
       "\\begin{tabular}{ll}\n",
       " occupation\\_vector & Freq\\\\\n",
       " <fct> & <int>\\\\\n",
       "\\hline\n",
       "\t 1  & 1843\\\\\n",
       "\t 2  & 3769\\\\\n",
       "\t 3  &    9\\\\\n",
       "\t 4  & 4099\\\\\n",
       "\t 5  & 4066\\\\\n",
       "\t 6  &  994\\\\\n",
       "\t 7  & 1370\\\\\n",
       "\t 8  & 2002\\\\\n",
       "\t 9  & 3295\\\\\n",
       "\t 10 &  149\\\\\n",
       "\t 11 & 4140\\\\\n",
       "\t 12 &  649\\\\\n",
       "\t 13 & 3650\\\\\n",
       "\t 14 &  928\\\\\n",
       "\t 15 & 1597\\\\\n",
       "\\end{tabular}\n"
      ],
      "text/markdown": [
       "\n",
       "A data.frame: 15 × 2\n",
       "\n",
       "| occupation_vector &lt;fct&gt; | Freq &lt;int&gt; |\n",
       "|---|---|\n",
       "| 1  | 1843 |\n",
       "| 2  | 3769 |\n",
       "| 3  |    9 |\n",
       "| 4  | 4099 |\n",
       "| 5  | 4066 |\n",
       "| 6  |  994 |\n",
       "| 7  | 1370 |\n",
       "| 8  | 2002 |\n",
       "| 9  | 3295 |\n",
       "| 10 |  149 |\n",
       "| 11 | 4140 |\n",
       "| 12 |  649 |\n",
       "| 13 | 3650 |\n",
       "| 14 |  928 |\n",
       "| 15 | 1597 |\n",
       "\n"
      ],
      "text/plain": [
       "   occupation_vector Freq\n",
       "1  1                 1843\n",
       "2  2                 3769\n",
       "3  3                    9\n",
       "4  4                 4099\n",
       "5  5                 4066\n",
       "6  6                  994\n",
       "7  7                 1370\n",
       "8  8                 2002\n",
       "9  9                 3295\n",
       "10 10                 149\n",
       "11 11                4140\n",
       "12 12                 649\n",
       "13 13                3650\n",
       "14 14                 928\n",
       "15 15                1597"
      ]
     },
     "metadata": {},
     "output_type": "display_data"
    },
    {
     "data": {
      "text/html": [
       "15"
      ],
      "text/latex": [
       "15"
      ],
      "text/markdown": [
       "15"
      ],
      "text/plain": [
       "[1] 15"
      ]
     },
     "metadata": {},
     "output_type": "display_data"
    }
   ],
   "source": [
    "# Find all types of response in occupation_vector\n",
    "occupation_count <- as.data.frame(table(occupation_vector))\n",
    "occupation_count\n",
    "nrow(occupation_count)"
   ]
  },
  {
   "cell_type": "code",
   "execution_count": 109,
   "id": "dea23f6f-4642-46f9-bcf9-707e6f99d597",
   "metadata": {},
   "outputs": [],
   "source": [
    "# convert character variables to numeric variables\n",
    "\n",
    "income_data$marital_status <- as.numeric(factor(income_data$marital_status))\n",
    "\n",
    "income_data$workclass <- as.numeric(factor(income_data$workclass))\n",
    "\n",
    "income_data$education <- as.numeric(factor(income_data$education))\n",
    "\n",
    "income_data$income_above_50K <- as.numeric(factor(income_data$income_above_50K))\n",
    "\n",
    "income_data$occupation <- as.numeric(factor(income_data$occupation))\n",
    "\n",
    "income_data$sex <- as.numeric(factor(income_data$sex))\n",
    "\n",
    "income_data$race <- as.numeric(factor(income_data$race))\n",
    "\n",
    "income_data$relationship <- as.numeric(factor(income_data$relationship))\n",
    "\n",
    "income_data$native_country <- as.numeric(factor(income_data$native_country))"
   ]
  },
  {
   "cell_type": "code",
   "execution_count": 111,
   "id": "f880d4ae-f57a-4138-b4ce-2e2f2b315977",
   "metadata": {
    "tags": []
   },
   "outputs": [
    {
     "data": {
      "text/html": [
       "<table class=\"dataframe\">\n",
       "<caption>A matrix: 15 × 15 of type dbl</caption>\n",
       "<thead>\n",
       "\t<tr><th></th><th scope=col>age</th><th scope=col>workclass</th><th scope=col>finalweight</th><th scope=col>education</th><th scope=col>numyearseducation</th><th scope=col>marital_status</th><th scope=col>occupation</th><th scope=col>relationship</th><th scope=col>race</th><th scope=col>sex</th><th scope=col>capital_gain</th><th scope=col>capital_loss</th><th scope=col>hours_per_week</th><th scope=col>native_country</th><th scope=col>income_above_50K</th></tr>\n",
       "</thead>\n",
       "<tbody>\n",
       "\t<tr><th scope=row>age</th><td> 1.000000000</td><td> 0.003785596</td><td>-0.0766461986</td><td>-0.01050798</td><td> 0.03652684</td><td>-0.266292368</td><td>-0.020946343</td><td>-0.263697641</td><td> 0.028718079</td><td> 0.088831745</td><td> 0.0776743857</td><td> 0.057774786</td><td> 0.068755743</td><td>-0.001151309</td><td>-0.234038777</td></tr>\n",
       "\t<tr><th scope=row>workclass</th><td> 0.003785596</td><td> 1.000000000</td><td>-0.0165868330</td><td> 0.02353705</td><td> 0.05201480</td><td>-0.064797564</td><td> 0.255003772</td><td>-0.090449252</td><td> 0.049719722</td><td> 0.095941940</td><td> 0.0338276883</td><td> 0.012230708</td><td> 0.138974368</td><td>-0.007709765</td><td>-0.051645392</td></tr>\n",
       "\t<tr><th scope=row>finalweight</th><td>-0.076646199</td><td>-0.016586833</td><td> 1.0000000000</td><td>-0.02815609</td><td>-0.04315917</td><td> 0.028184085</td><td> 0.001553646</td><td> 0.008922229</td><td>-0.021278203</td><td> 0.026881683</td><td> 0.0004367429</td><td>-0.010258975</td><td>-0.018769974</td><td>-0.051957213</td><td> 0.009481166</td></tr>\n",
       "\t<tr><th scope=row>education</th><td>-0.010507984</td><td> 0.023537053</td><td>-0.0281560867</td><td> 1.00000000</td><td> 0.35917236</td><td>-0.038397991</td><td>-0.021273799</td><td>-0.010878996</td><td> 0.014135362</td><td>-0.027349250</td><td> 0.0300474720</td><td> 0.016744041</td><td> 0.055509958</td><td> 0.064291178</td><td>-0.079311330</td></tr>\n",
       "\t<tr><th scope=row>numyearseducation</th><td> 0.036526843</td><td> 0.052014797</td><td>-0.0431591683</td><td> 0.35917236</td><td> 1.00000000</td><td>-0.069338484</td><td> 0.109748404</td><td>-0.094145377</td><td> 0.031825380</td><td> 0.012255887</td><td> 0.1226274073</td><td> 0.079932146</td><td> 0.148126899</td><td> 0.050830878</td><td>-0.335181841</td></tr>\n",
       "\t<tr><th scope=row>marital_status</th><td>-0.266292368</td><td>-0.064797564</td><td> 0.0281840849</td><td>-0.03839799</td><td>-0.06933848</td><td> 1.000000000</td><td>-0.009616849</td><td> 0.185461472</td><td>-0.068025254</td><td>-0.129337037</td><td>-0.0433982519</td><td>-0.034181706</td><td>-0.190520920</td><td>-0.023827433</td><td> 0.199294638</td></tr>\n",
       "\t<tr><th scope=row>occupation</th><td>-0.020946343</td><td> 0.255003772</td><td> 0.0015536461</td><td>-0.02127380</td><td> 0.10974840</td><td>-0.009616849</td><td> 1.000000000</td><td>-0.075620372</td><td> 0.006779137</td><td> 0.080327650</td><td> 0.0255112283</td><td> 0.017978797</td><td> 0.080384169</td><td>-0.012531504</td><td>-0.075447783</td></tr>\n",
       "\t<tr><th scope=row>relationship</th><td>-0.263697641</td><td>-0.090449252</td><td> 0.0089222292</td><td>-0.01087900</td><td>-0.09414538</td><td> 0.185461472</td><td>-0.075620372</td><td> 1.000000000</td><td>-0.116051651</td><td>-0.582452803</td><td>-0.0579182718</td><td>-0.061064163</td><td>-0.248975076</td><td>-0.005504320</td><td> 0.250924467</td></tr>\n",
       "\t<tr><th scope=row>race</th><td> 0.028718079</td><td> 0.049719722</td><td>-0.0212782028</td><td> 0.01413536</td><td> 0.03182538</td><td>-0.068025254</td><td> 0.006779137</td><td>-0.116051651</td><td> 1.000000000</td><td> 0.087196670</td><td> 0.0111430359</td><td> 0.018901679</td><td> 0.041910082</td><td> 0.137848876</td><td>-0.071852942</td></tr>\n",
       "\t<tr><th scope=row>sex</th><td> 0.088831745</td><td> 0.095941940</td><td> 0.0268816830</td><td>-0.02734925</td><td> 0.01225589</td><td>-0.129337037</td><td> 0.080327650</td><td>-0.582452803</td><td> 0.087196670</td><td> 1.000000000</td><td> 0.0484768257</td><td> 0.045572412</td><td> 0.229311659</td><td>-0.008125089</td><td>-0.215995003</td></tr>\n",
       "\t<tr><th scope=row>capital_gain</th><td> 0.077674386</td><td> 0.033827688</td><td> 0.0004367429</td><td> 0.03004747</td><td> 0.12262741</td><td>-0.043398252</td><td> 0.025511228</td><td>-0.057918272</td><td> 0.011143036</td><td> 0.048476826</td><td> 1.0000000000</td><td>-0.031614109</td><td> 0.078408805</td><td>-0.001983527</td><td>-0.223332549</td></tr>\n",
       "\t<tr><th scope=row>capital_loss</th><td> 0.057774786</td><td> 0.012230708</td><td>-0.0102589747</td><td> 0.01674404</td><td> 0.07993215</td><td>-0.034181706</td><td> 0.017978797</td><td>-0.061064163</td><td> 0.018901679</td><td> 0.045572412</td><td>-0.0316141086</td><td> 1.000000000</td><td> 0.054256167</td><td> 0.000420478</td><td>-0.150523406</td></tr>\n",
       "\t<tr><th scope=row>hours_per_week</th><td> 0.068755743</td><td> 0.138974368</td><td>-0.0187699744</td><td> 0.05550996</td><td> 0.14812690</td><td>-0.190520920</td><td> 0.080384169</td><td>-0.248975076</td><td> 0.041910082</td><td> 0.229311659</td><td> 0.0784088050</td><td> 0.054256167</td><td> 1.000000000</td><td>-0.002670728</td><td>-0.229689576</td></tr>\n",
       "\t<tr><th scope=row>native_country</th><td>-0.001151309</td><td>-0.007709765</td><td>-0.0519572134</td><td> 0.06429118</td><td> 0.05083088</td><td>-0.023827433</td><td>-0.012531504</td><td>-0.005504320</td><td> 0.137848876</td><td>-0.008125089</td><td>-0.0019835275</td><td> 0.000420478</td><td>-0.002670728</td><td> 1.000000000</td><td>-0.015845404</td></tr>\n",
       "\t<tr><th scope=row>income_above_50K</th><td>-0.234038777</td><td>-0.051645392</td><td> 0.0094811657</td><td>-0.07931133</td><td>-0.33518184</td><td> 0.199294638</td><td>-0.075447783</td><td> 0.250924467</td><td>-0.071852942</td><td>-0.215995003</td><td>-0.2233325494</td><td>-0.150523406</td><td>-0.229689576</td><td>-0.015845404</td><td> 1.000000000</td></tr>\n",
       "</tbody>\n",
       "</table>\n"
      ],
      "text/latex": [
       "A matrix: 15 × 15 of type dbl\n",
       "\\begin{tabular}{r|lllllllllllllll}\n",
       "  & age & workclass & finalweight & education & numyearseducation & marital\\_status & occupation & relationship & race & sex & capital\\_gain & capital\\_loss & hours\\_per\\_week & native\\_country & income\\_above\\_50K\\\\\n",
       "\\hline\n",
       "\tage &  1.000000000 &  0.003785596 & -0.0766461986 & -0.01050798 &  0.03652684 & -0.266292368 & -0.020946343 & -0.263697641 &  0.028718079 &  0.088831745 &  0.0776743857 &  0.057774786 &  0.068755743 & -0.001151309 & -0.234038777\\\\\n",
       "\tworkclass &  0.003785596 &  1.000000000 & -0.0165868330 &  0.02353705 &  0.05201480 & -0.064797564 &  0.255003772 & -0.090449252 &  0.049719722 &  0.095941940 &  0.0338276883 &  0.012230708 &  0.138974368 & -0.007709765 & -0.051645392\\\\\n",
       "\tfinalweight & -0.076646199 & -0.016586833 &  1.0000000000 & -0.02815609 & -0.04315917 &  0.028184085 &  0.001553646 &  0.008922229 & -0.021278203 &  0.026881683 &  0.0004367429 & -0.010258975 & -0.018769974 & -0.051957213 &  0.009481166\\\\\n",
       "\teducation & -0.010507984 &  0.023537053 & -0.0281560867 &  1.00000000 &  0.35917236 & -0.038397991 & -0.021273799 & -0.010878996 &  0.014135362 & -0.027349250 &  0.0300474720 &  0.016744041 &  0.055509958 &  0.064291178 & -0.079311330\\\\\n",
       "\tnumyearseducation &  0.036526843 &  0.052014797 & -0.0431591683 &  0.35917236 &  1.00000000 & -0.069338484 &  0.109748404 & -0.094145377 &  0.031825380 &  0.012255887 &  0.1226274073 &  0.079932146 &  0.148126899 &  0.050830878 & -0.335181841\\\\\n",
       "\tmarital\\_status & -0.266292368 & -0.064797564 &  0.0281840849 & -0.03839799 & -0.06933848 &  1.000000000 & -0.009616849 &  0.185461472 & -0.068025254 & -0.129337037 & -0.0433982519 & -0.034181706 & -0.190520920 & -0.023827433 &  0.199294638\\\\\n",
       "\toccupation & -0.020946343 &  0.255003772 &  0.0015536461 & -0.02127380 &  0.10974840 & -0.009616849 &  1.000000000 & -0.075620372 &  0.006779137 &  0.080327650 &  0.0255112283 &  0.017978797 &  0.080384169 & -0.012531504 & -0.075447783\\\\\n",
       "\trelationship & -0.263697641 & -0.090449252 &  0.0089222292 & -0.01087900 & -0.09414538 &  0.185461472 & -0.075620372 &  1.000000000 & -0.116051651 & -0.582452803 & -0.0579182718 & -0.061064163 & -0.248975076 & -0.005504320 &  0.250924467\\\\\n",
       "\trace &  0.028718079 &  0.049719722 & -0.0212782028 &  0.01413536 &  0.03182538 & -0.068025254 &  0.006779137 & -0.116051651 &  1.000000000 &  0.087196670 &  0.0111430359 &  0.018901679 &  0.041910082 &  0.137848876 & -0.071852942\\\\\n",
       "\tsex &  0.088831745 &  0.095941940 &  0.0268816830 & -0.02734925 &  0.01225589 & -0.129337037 &  0.080327650 & -0.582452803 &  0.087196670 &  1.000000000 &  0.0484768257 &  0.045572412 &  0.229311659 & -0.008125089 & -0.215995003\\\\\n",
       "\tcapital\\_gain &  0.077674386 &  0.033827688 &  0.0004367429 &  0.03004747 &  0.12262741 & -0.043398252 &  0.025511228 & -0.057918272 &  0.011143036 &  0.048476826 &  1.0000000000 & -0.031614109 &  0.078408805 & -0.001983527 & -0.223332549\\\\\n",
       "\tcapital\\_loss &  0.057774786 &  0.012230708 & -0.0102589747 &  0.01674404 &  0.07993215 & -0.034181706 &  0.017978797 & -0.061064163 &  0.018901679 &  0.045572412 & -0.0316141086 &  1.000000000 &  0.054256167 &  0.000420478 & -0.150523406\\\\\n",
       "\thours\\_per\\_week &  0.068755743 &  0.138974368 & -0.0187699744 &  0.05550996 &  0.14812690 & -0.190520920 &  0.080384169 & -0.248975076 &  0.041910082 &  0.229311659 &  0.0784088050 &  0.054256167 &  1.000000000 & -0.002670728 & -0.229689576\\\\\n",
       "\tnative\\_country & -0.001151309 & -0.007709765 & -0.0519572134 &  0.06429118 &  0.05083088 & -0.023827433 & -0.012531504 & -0.005504320 &  0.137848876 & -0.008125089 & -0.0019835275 &  0.000420478 & -0.002670728 &  1.000000000 & -0.015845404\\\\\n",
       "\tincome\\_above\\_50K & -0.234038777 & -0.051645392 &  0.0094811657 & -0.07931133 & -0.33518184 &  0.199294638 & -0.075447783 &  0.250924467 & -0.071852942 & -0.215995003 & -0.2233325494 & -0.150523406 & -0.229689576 & -0.015845404 &  1.000000000\\\\\n",
       "\\end{tabular}\n"
      ],
      "text/markdown": [
       "\n",
       "A matrix: 15 × 15 of type dbl\n",
       "\n",
       "| <!--/--> | age | workclass | finalweight | education | numyearseducation | marital_status | occupation | relationship | race | sex | capital_gain | capital_loss | hours_per_week | native_country | income_above_50K |\n",
       "|---|---|---|---|---|---|---|---|---|---|---|---|---|---|---|---|\n",
       "| age |  1.000000000 |  0.003785596 | -0.0766461986 | -0.01050798 |  0.03652684 | -0.266292368 | -0.020946343 | -0.263697641 |  0.028718079 |  0.088831745 |  0.0776743857 |  0.057774786 |  0.068755743 | -0.001151309 | -0.234038777 |\n",
       "| workclass |  0.003785596 |  1.000000000 | -0.0165868330 |  0.02353705 |  0.05201480 | -0.064797564 |  0.255003772 | -0.090449252 |  0.049719722 |  0.095941940 |  0.0338276883 |  0.012230708 |  0.138974368 | -0.007709765 | -0.051645392 |\n",
       "| finalweight | -0.076646199 | -0.016586833 |  1.0000000000 | -0.02815609 | -0.04315917 |  0.028184085 |  0.001553646 |  0.008922229 | -0.021278203 |  0.026881683 |  0.0004367429 | -0.010258975 | -0.018769974 | -0.051957213 |  0.009481166 |\n",
       "| education | -0.010507984 |  0.023537053 | -0.0281560867 |  1.00000000 |  0.35917236 | -0.038397991 | -0.021273799 | -0.010878996 |  0.014135362 | -0.027349250 |  0.0300474720 |  0.016744041 |  0.055509958 |  0.064291178 | -0.079311330 |\n",
       "| numyearseducation |  0.036526843 |  0.052014797 | -0.0431591683 |  0.35917236 |  1.00000000 | -0.069338484 |  0.109748404 | -0.094145377 |  0.031825380 |  0.012255887 |  0.1226274073 |  0.079932146 |  0.148126899 |  0.050830878 | -0.335181841 |\n",
       "| marital_status | -0.266292368 | -0.064797564 |  0.0281840849 | -0.03839799 | -0.06933848 |  1.000000000 | -0.009616849 |  0.185461472 | -0.068025254 | -0.129337037 | -0.0433982519 | -0.034181706 | -0.190520920 | -0.023827433 |  0.199294638 |\n",
       "| occupation | -0.020946343 |  0.255003772 |  0.0015536461 | -0.02127380 |  0.10974840 | -0.009616849 |  1.000000000 | -0.075620372 |  0.006779137 |  0.080327650 |  0.0255112283 |  0.017978797 |  0.080384169 | -0.012531504 | -0.075447783 |\n",
       "| relationship | -0.263697641 | -0.090449252 |  0.0089222292 | -0.01087900 | -0.09414538 |  0.185461472 | -0.075620372 |  1.000000000 | -0.116051651 | -0.582452803 | -0.0579182718 | -0.061064163 | -0.248975076 | -0.005504320 |  0.250924467 |\n",
       "| race |  0.028718079 |  0.049719722 | -0.0212782028 |  0.01413536 |  0.03182538 | -0.068025254 |  0.006779137 | -0.116051651 |  1.000000000 |  0.087196670 |  0.0111430359 |  0.018901679 |  0.041910082 |  0.137848876 | -0.071852942 |\n",
       "| sex |  0.088831745 |  0.095941940 |  0.0268816830 | -0.02734925 |  0.01225589 | -0.129337037 |  0.080327650 | -0.582452803 |  0.087196670 |  1.000000000 |  0.0484768257 |  0.045572412 |  0.229311659 | -0.008125089 | -0.215995003 |\n",
       "| capital_gain |  0.077674386 |  0.033827688 |  0.0004367429 |  0.03004747 |  0.12262741 | -0.043398252 |  0.025511228 | -0.057918272 |  0.011143036 |  0.048476826 |  1.0000000000 | -0.031614109 |  0.078408805 | -0.001983527 | -0.223332549 |\n",
       "| capital_loss |  0.057774786 |  0.012230708 | -0.0102589747 |  0.01674404 |  0.07993215 | -0.034181706 |  0.017978797 | -0.061064163 |  0.018901679 |  0.045572412 | -0.0316141086 |  1.000000000 |  0.054256167 |  0.000420478 | -0.150523406 |\n",
       "| hours_per_week |  0.068755743 |  0.138974368 | -0.0187699744 |  0.05550996 |  0.14812690 | -0.190520920 |  0.080384169 | -0.248975076 |  0.041910082 |  0.229311659 |  0.0784088050 |  0.054256167 |  1.000000000 | -0.002670728 | -0.229689576 |\n",
       "| native_country | -0.001151309 | -0.007709765 | -0.0519572134 |  0.06429118 |  0.05083088 | -0.023827433 | -0.012531504 | -0.005504320 |  0.137848876 | -0.008125089 | -0.0019835275 |  0.000420478 | -0.002670728 |  1.000000000 | -0.015845404 |\n",
       "| income_above_50K | -0.234038777 | -0.051645392 |  0.0094811657 | -0.07931133 | -0.33518184 |  0.199294638 | -0.075447783 |  0.250924467 | -0.071852942 | -0.215995003 | -0.2233325494 | -0.150523406 | -0.229689576 | -0.015845404 |  1.000000000 |\n",
       "\n"
      ],
      "text/plain": [
       "                  age          workclass    finalweight   education  \n",
       "age                1.000000000  0.003785596 -0.0766461986 -0.01050798\n",
       "workclass          0.003785596  1.000000000 -0.0165868330  0.02353705\n",
       "finalweight       -0.076646199 -0.016586833  1.0000000000 -0.02815609\n",
       "education         -0.010507984  0.023537053 -0.0281560867  1.00000000\n",
       "numyearseducation  0.036526843  0.052014797 -0.0431591683  0.35917236\n",
       "marital_status    -0.266292368 -0.064797564  0.0281840849 -0.03839799\n",
       "occupation        -0.020946343  0.255003772  0.0015536461 -0.02127380\n",
       "relationship      -0.263697641 -0.090449252  0.0089222292 -0.01087900\n",
       "race               0.028718079  0.049719722 -0.0212782028  0.01413536\n",
       "sex                0.088831745  0.095941940  0.0268816830 -0.02734925\n",
       "capital_gain       0.077674386  0.033827688  0.0004367429  0.03004747\n",
       "capital_loss       0.057774786  0.012230708 -0.0102589747  0.01674404\n",
       "hours_per_week     0.068755743  0.138974368 -0.0187699744  0.05550996\n",
       "native_country    -0.001151309 -0.007709765 -0.0519572134  0.06429118\n",
       "income_above_50K  -0.234038777 -0.051645392  0.0094811657 -0.07931133\n",
       "                  numyearseducation marital_status occupation   relationship\n",
       "age                0.03652684       -0.266292368   -0.020946343 -0.263697641\n",
       "workclass          0.05201480       -0.064797564    0.255003772 -0.090449252\n",
       "finalweight       -0.04315917        0.028184085    0.001553646  0.008922229\n",
       "education          0.35917236       -0.038397991   -0.021273799 -0.010878996\n",
       "numyearseducation  1.00000000       -0.069338484    0.109748404 -0.094145377\n",
       "marital_status    -0.06933848        1.000000000   -0.009616849  0.185461472\n",
       "occupation         0.10974840       -0.009616849    1.000000000 -0.075620372\n",
       "relationship      -0.09414538        0.185461472   -0.075620372  1.000000000\n",
       "race               0.03182538       -0.068025254    0.006779137 -0.116051651\n",
       "sex                0.01225589       -0.129337037    0.080327650 -0.582452803\n",
       "capital_gain       0.12262741       -0.043398252    0.025511228 -0.057918272\n",
       "capital_loss       0.07993215       -0.034181706    0.017978797 -0.061064163\n",
       "hours_per_week     0.14812690       -0.190520920    0.080384169 -0.248975076\n",
       "native_country     0.05083088       -0.023827433   -0.012531504 -0.005504320\n",
       "income_above_50K  -0.33518184        0.199294638   -0.075447783  0.250924467\n",
       "                  race         sex          capital_gain  capital_loss\n",
       "age                0.028718079  0.088831745  0.0776743857  0.057774786\n",
       "workclass          0.049719722  0.095941940  0.0338276883  0.012230708\n",
       "finalweight       -0.021278203  0.026881683  0.0004367429 -0.010258975\n",
       "education          0.014135362 -0.027349250  0.0300474720  0.016744041\n",
       "numyearseducation  0.031825380  0.012255887  0.1226274073  0.079932146\n",
       "marital_status    -0.068025254 -0.129337037 -0.0433982519 -0.034181706\n",
       "occupation         0.006779137  0.080327650  0.0255112283  0.017978797\n",
       "relationship      -0.116051651 -0.582452803 -0.0579182718 -0.061064163\n",
       "race               1.000000000  0.087196670  0.0111430359  0.018901679\n",
       "sex                0.087196670  1.000000000  0.0484768257  0.045572412\n",
       "capital_gain       0.011143036  0.048476826  1.0000000000 -0.031614109\n",
       "capital_loss       0.018901679  0.045572412 -0.0316141086  1.000000000\n",
       "hours_per_week     0.041910082  0.229311659  0.0784088050  0.054256167\n",
       "native_country     0.137848876 -0.008125089 -0.0019835275  0.000420478\n",
       "income_above_50K  -0.071852942 -0.215995003 -0.2233325494 -0.150523406\n",
       "                  hours_per_week native_country income_above_50K\n",
       "age                0.068755743   -0.001151309   -0.234038777    \n",
       "workclass          0.138974368   -0.007709765   -0.051645392    \n",
       "finalweight       -0.018769974   -0.051957213    0.009481166    \n",
       "education          0.055509958    0.064291178   -0.079311330    \n",
       "numyearseducation  0.148126899    0.050830878   -0.335181841    \n",
       "marital_status    -0.190520920   -0.023827433    0.199294638    \n",
       "occupation         0.080384169   -0.012531504   -0.075447783    \n",
       "relationship      -0.248975076   -0.005504320    0.250924467    \n",
       "race               0.041910082    0.137848876   -0.071852942    \n",
       "sex                0.229311659   -0.008125089   -0.215995003    \n",
       "capital_gain       0.078408805   -0.001983527   -0.223332549    \n",
       "capital_loss       0.054256167    0.000420478   -0.150523406    \n",
       "hours_per_week     1.000000000   -0.002670728   -0.229689576    \n",
       "native_country    -0.002670728    1.000000000   -0.015845404    \n",
       "income_above_50K  -0.229689576   -0.015845404    1.000000000    "
      ]
     },
     "metadata": {},
     "output_type": "display_data"
    }
   ],
   "source": [
    "# correlation matrix for all variables\n",
    "cor_matrix <- cor(income_data)\n",
    "cor_matrix"
   ]
  },
  {
   "cell_type": "code",
   "execution_count": null,
   "id": "6587365a-13f8-4e0c-a672-cba28b414252",
   "metadata": {},
   "outputs": [],
   "source": [
    "# native country, education, workclass, occupation have too many levels and will therfore not be included in the predictive model\n",
    "# marital_status and relationship are quite similar, but marital_status has one more level than relationship and one of the levels has a low frequency count, sowe will use only relationship\n",
    "# capital gain, capital loss, finalweight are not metrics that align meaningfully with our research goals"
   ]
  },
  {
   "cell_type": "code",
   "execution_count": null,
   "id": "da4f6c66-1e60-4493-9ca1-d1193fc0727b",
   "metadata": {},
   "outputs": [],
   "source": [
    "# Next, we will perform forward selection to help with our feature selection for predicting icome_above_50K of the remaining pool of variables:\n",
    "# Age, numyearseducation, relationship, race, sex, hours_per_week"
   ]
  },
  {
   "cell_type": "code",
   "execution_count": null,
   "id": "73ad4fc5-1a15-4ac1-b744-af89c4da7935",
   "metadata": {},
   "outputs": [],
   "source": [
    "# forward selection"
   ]
  }
 ],
 "metadata": {
  "kernelspec": {
   "display_name": "R",
   "language": "R",
   "name": "ir"
  },
  "language_info": {
   "codemirror_mode": "r",
   "file_extension": ".r",
   "mimetype": "text/x-r-source",
   "name": "R",
   "pygments_lexer": "r",
   "version": "4.1.3"
  }
 },
 "nbformat": 4,
 "nbformat_minor": 5
}
