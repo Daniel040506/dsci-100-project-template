{
 "cells": [
  {
   "cell_type": "markdown",
   "id": "1e37394b",
   "metadata": {},
   "source": [
    "# Proposal: Predicting the Effect of Lifestyle Factors on the Income of American Citizens # \n",
    "## By Daniel Kouchakkhani, Faye McBride, Katherine Dai, & Lillian Milroy ##"
   ]
  },
  {
   "cell_type": "markdown",
   "id": "1def722c",
   "metadata": {},
   "source": [
    "### Adult Data Set Analysis ###\n",
    "\n",
    "#### Introduction ####\n",
    "\n",
    "In 1994, the average yearly income of an American citizen was $33,178 (U.S. Bureau of the Census, 1996). There are many factors that determine this income — racism, sexism, and ableism are just a few examples of oppression that unfairly lower the wage of marginalized people. Other factors include a person’s level of education and a person’s marital or relationship status. \n",
    "\n",
    "Barry Becker extracted data from a 1994 U.S. census that allows one to compare various factors of a person and whether their yearly income is above or below $50 000, he called this data set the Adult Data Set. This data set was limited to observations that occur more than once in the census with an age older than 16, and an adjusted gross income and hours worked greater than one. \n",
    "\n",
    "The Adult Data Set contains the following variables;\n",
    "* age: continuous.\n",
    "* workclass: Private, Self-emp-not-inc, Self-emp-inc, Federal-gov, Local-gov, State-gov, Without-pay, Never-worked.\n",
    "* finalweight: continuous.\n",
    "* education: Bachelors, Some-college, 11th, HS-grad, Prof-school, Assoc-acdm, Assoc-voc, 9th, 7th-8th, 12th, Masters, 1st-4th, 10th, Doctorate, 5th-6th, Preschool.\n",
    "* education-num: continuous.\n",
    "* marital-status: Married-civ-spouse, Divorced, Never-married, Separated, Widowed, Married-spouse-absent, Married-AF-spouse.\n",
    "* occupation: Tech-support, Craft-repair, Other-service, Sales, Exec-managerial, Prof-specialty, Handlers-cleaners, Machine-op-inspct, Adm-clerical, Farming-fishing, Transport-moving, Priv-house-serv, Protective-serv, Armed-Forces.\n",
    "* relationship: Wife, Own-child, Husband, Not-in-family, Other-relative, Unmarried.\n",
    "* race: White, Asian-Pac-Islander, Amer-Indian-Eskimo, Other, Black.\n",
    "* sex: Female, Male.\n",
    "* capital-gain: continuous.\n",
    "* capital-loss: continuous.\n",
    "* hours-per-week: continuous.\n",
    "* native-country: United-States, Cambodia, England, Puerto-Rico, Canada, Germany, Outlying-US(Guam-USVI-etc), India, Japan, Greece, South, China, Cuba, Iran, Honduras, Philippines, Italy, Poland, Jamaica, Vietnam, Mexico, Portugal, Ireland, France, Dominican-Republic, Laos, Ecuador, Taiwan, Haiti, Columbia, Hungary, Guatemala, Nicaragua, Scotland, Thailand, Yugoslavia, El-Salvador, Trinidad&Tobago, Peru, Hong, Holland-Netherlands.\n",
    "* yearly_income: <=50K, >50K.\n",
    "\n",
    "The Adult Data Set offers numerous predictors to determine the yearly income of an American citizen. We are curious about which one has the most influence. Thus, we will be answering the question “Which variable determines with the most accuracy whether a person’s yearly income is greater than or less than $50 000?”"
   ]
  },
  {
   "cell_type": "markdown",
   "id": "83988e2d",
   "metadata": {},
   "source": [
    "#### Exploratory Data Analysis ####"
   ]
  },
  {
   "cell_type": "markdown",
   "id": "05c17d01",
   "metadata": {},
   "source": [
    "We started by reading in the data and exploring relevant summary statistics. We then took steps to make it human-readable, and tidy enough for further analysis."
   ]
  },
  {
   "cell_type": "code",
   "execution_count": 1,
   "id": "8441b8d7",
   "metadata": {
    "tags": []
   },
   "outputs": [
    {
     "name": "stderr",
     "output_type": "stream",
     "text": [
      "── \u001b[1mAttaching packages\u001b[22m ─────────────────────────────────────── tidyverse 1.3.1 ──\n",
      "\n",
      "\u001b[32m✔\u001b[39m \u001b[34mggplot2\u001b[39m 3.3.6     \u001b[32m✔\u001b[39m \u001b[34mpurrr  \u001b[39m 0.3.4\n",
      "\u001b[32m✔\u001b[39m \u001b[34mtibble \u001b[39m 3.1.7     \u001b[32m✔\u001b[39m \u001b[34mdplyr  \u001b[39m 1.0.9\n",
      "\u001b[32m✔\u001b[39m \u001b[34mtidyr  \u001b[39m 1.2.0     \u001b[32m✔\u001b[39m \u001b[34mstringr\u001b[39m 1.4.0\n",
      "\u001b[32m✔\u001b[39m \u001b[34mreadr  \u001b[39m 2.1.2     \u001b[32m✔\u001b[39m \u001b[34mforcats\u001b[39m 0.5.1\n",
      "\n",
      "── \u001b[1mConflicts\u001b[22m ────────────────────────────────────────── tidyverse_conflicts() ──\n",
      "\u001b[31m✖\u001b[39m \u001b[34mdplyr\u001b[39m::\u001b[32mfilter()\u001b[39m masks \u001b[34mstats\u001b[39m::filter()\n",
      "\u001b[31m✖\u001b[39m \u001b[34mdplyr\u001b[39m::\u001b[32mlag()\u001b[39m    masks \u001b[34mstats\u001b[39m::lag()\n",
      "\n",
      "\n",
      "Attaching package: ‘janitor’\n",
      "\n",
      "\n",
      "The following objects are masked from ‘package:stats’:\n",
      "\n",
      "    chisq.test, fisher.test\n",
      "\n",
      "\n",
      "── \u001b[1mAttaching packages\u001b[22m ────────────────────────────────────── tidymodels 1.0.0 ──\n",
      "\n",
      "\u001b[32m✔\u001b[39m \u001b[34mbroom       \u001b[39m 1.0.0     \u001b[32m✔\u001b[39m \u001b[34mrsample     \u001b[39m 1.0.0\n",
      "\u001b[32m✔\u001b[39m \u001b[34mdials       \u001b[39m 1.0.0     \u001b[32m✔\u001b[39m \u001b[34mtune        \u001b[39m 1.0.0\n",
      "\u001b[32m✔\u001b[39m \u001b[34minfer       \u001b[39m 1.0.2     \u001b[32m✔\u001b[39m \u001b[34mworkflows   \u001b[39m 1.0.0\n",
      "\u001b[32m✔\u001b[39m \u001b[34mmodeldata   \u001b[39m 1.0.0     \u001b[32m✔\u001b[39m \u001b[34mworkflowsets\u001b[39m 1.0.0\n",
      "\u001b[32m✔\u001b[39m \u001b[34mparsnip     \u001b[39m 1.0.0     \u001b[32m✔\u001b[39m \u001b[34myardstick   \u001b[39m 1.0.0\n",
      "\u001b[32m✔\u001b[39m \u001b[34mrecipes     \u001b[39m 1.0.1     \n",
      "\n",
      "── \u001b[1mConflicts\u001b[22m ───────────────────────────────────────── tidymodels_conflicts() ──\n",
      "\u001b[31m✖\u001b[39m \u001b[34mscales\u001b[39m::\u001b[32mdiscard()\u001b[39m masks \u001b[34mpurrr\u001b[39m::discard()\n",
      "\u001b[31m✖\u001b[39m \u001b[34mdplyr\u001b[39m::\u001b[32mfilter()\u001b[39m   masks \u001b[34mstats\u001b[39m::filter()\n",
      "\u001b[31m✖\u001b[39m \u001b[34mrecipes\u001b[39m::\u001b[32mfixed()\u001b[39m  masks \u001b[34mstringr\u001b[39m::fixed()\n",
      "\u001b[31m✖\u001b[39m \u001b[34mdplyr\u001b[39m::\u001b[32mlag()\u001b[39m      masks \u001b[34mstats\u001b[39m::lag()\n",
      "\u001b[31m✖\u001b[39m \u001b[34myardstick\u001b[39m::\u001b[32mspec()\u001b[39m masks \u001b[34mreadr\u001b[39m::spec()\n",
      "\u001b[31m✖\u001b[39m \u001b[34mrecipes\u001b[39m::\u001b[32mstep()\u001b[39m   masks \u001b[34mstats\u001b[39m::step()\n",
      "\u001b[34m•\u001b[39m Learn how to get started at \u001b[32mhttps://www.tidymodels.org/start/\u001b[39m\n",
      "\n",
      "\n",
      "Attaching package: ‘mltools’\n",
      "\n",
      "\n",
      "The following objects are masked from ‘package:yardstick’:\n",
      "\n",
      "    mcc, rmse\n",
      "\n",
      "\n",
      "The following object is masked from ‘package:tidyr’:\n",
      "\n",
      "    replace_na\n",
      "\n",
      "\n",
      "\n",
      "Attaching package: ‘data.table’\n",
      "\n",
      "\n",
      "The following objects are masked from ‘package:dplyr’:\n",
      "\n",
      "    between, first, last\n",
      "\n",
      "\n",
      "The following object is masked from ‘package:purrr’:\n",
      "\n",
      "    transpose\n",
      "\n",
      "\n",
      "Loading required package: lattice\n",
      "\n",
      "\n",
      "Attaching package: ‘caret’\n",
      "\n",
      "\n",
      "The following objects are masked from ‘package:yardstick’:\n",
      "\n",
      "    precision, recall, sensitivity, specificity\n",
      "\n",
      "\n",
      "The following object is masked from ‘package:purrr’:\n",
      "\n",
      "    lift\n",
      "\n",
      "\n"
     ]
    },
    {
     "ename": "ERROR",
     "evalue": "Error in library(fastDummies): there is no package called ‘fastDummies’\n",
     "output_type": "error",
     "traceback": [
      "Error in library(fastDummies): there is no package called ‘fastDummies’\nTraceback:\n",
      "1. library(fastDummies)"
     ]
    }
   ],
   "source": [
    "#install.packages(\"data.validator\")\n",
    "#install.packages(\"mltools\")\n",
    "#install.packages(\"data.table\")\n",
    "#install.packages(\"caret\")\n",
    "#install.packages(\"fastDummies\")\n",
    "#install.packages(\"janitor\")\n",
    "library(tidyverse)\n",
    "library(ggplot2)\n",
    "library(dplyr)\n",
    "library(janitor)\n",
    "library(data.validator)\n",
    "library(repr)\n",
    "library(tidymodels)\n",
    "library(mltools)\n",
    "library(data.table)\n",
    "library(caret)\n",
    "library(fastDummies)"
   ]
  },
  {
   "cell_type": "code",
   "execution_count": 2,
   "id": "c6340bec",
   "metadata": {
    "tags": []
   },
   "outputs": [],
   "source": [
    "# Read in the dataset\n",
    "income_data <- read_csv(\"https://raw.githubusercontent.com/Daniel040506/dsci-100-project-template/main/adult.data\", col_names = FALSE)\n",
    "head(income_data, 3)"
   ]
  },
  {
   "cell_type": "code",
   "execution_count": 3,
   "id": "9be9179c",
   "metadata": {
    "tags": []
   },
   "outputs": [],
   "source": [
    "glimpse(income_data)"
   ]
  },
  {
   "cell_type": "code",
   "execution_count": 4,
   "id": "80afa115",
   "metadata": {},
   "outputs": [],
   "source": [
    "# find data dimensions\n",
    "data_dimensions <- dim(income_data)\n",
    "data_dimensions"
   ]
  },
  {
   "cell_type": "code",
   "execution_count": 5,
   "id": "1d8cc900",
   "metadata": {
    "tags": []
   },
   "outputs": [],
   "source": [
    "# Rename the columns\n",
    "colnames(income_data) <- c(\"age\",\"work_class\",\"final_weight\",\"education\",\"num_years_education\",\"marital_status\",\"occupation\",\"relationship\",\n",
    "                         \"race\",\"sex\",\"capital_gain\",\"capital_loss\",\"hours_per_week\",\"native_country\",\"income_above_50K\")"
   ]
  },
  {
   "cell_type": "code",
   "execution_count": 6,
   "id": "50125d19",
   "metadata": {
    "tags": []
   },
   "outputs": [],
   "source": [
    "# Explore data summary\n",
    "summary(income_data)"
   ]
  },
  {
   "cell_type": "code",
   "execution_count": 7,
   "id": "6f106b72",
   "metadata": {
    "tags": []
   },
   "outputs": [],
   "source": [
    "# Replace unknown values with NA\n",
    "income_data[income_data == \"?\"] <- \"NA\""
   ]
  },
  {
   "cell_type": "code",
   "execution_count": 8,
   "id": "41b2811c",
   "metadata": {},
   "outputs": [],
   "source": [
    "# How many missing values are there in the dataset?\n",
    "sum(is.na(income_data))"
   ]
  },
  {
   "cell_type": "code",
   "execution_count": 9,
   "id": "24963a42",
   "metadata": {
    "tags": []
   },
   "outputs": [],
   "source": [
    "# change income_above_50K column to binary\n",
    "\n",
    "income_data[\"income_above_50K\"][income_data[\"income_above_50K\"] == \">50K\"] <- \"0\"\n",
    "income_data[\"income_above_50K\"][income_data[\"income_above_50K\"] == \"<=50K\"] <- \"1\"\n",
    "income_data$income_above_50K <- as.numeric(as.character(income_data$income_above_50K))\n",
    "\n",
    "head(income_data, 10)"
   ]
  },
  {
   "cell_type": "code",
   "execution_count": 10,
   "id": "43a68f87",
   "metadata": {
    "tags": []
   },
   "outputs": [],
   "source": [
    "# find the class of each variable\n",
    "lapply(income_data, class)"
   ]
  },
  {
   "cell_type": "code",
   "execution_count": 11,
   "id": "d8ec5a65",
   "metadata": {
    "tags": []
   },
   "outputs": [],
   "source": [
    "# Get rid of empty data/missing values\n",
    "income_data_clean <- income_data |>\n",
    "    remove_empty(whic=c(\"rows\")) |>\n",
    "    remove_empty(whic=c(\"cols\"))\n",
    "head(income_data_clean, 3)"
   ]
  },
  {
   "cell_type": "markdown",
   "id": "18d3ed52",
   "metadata": {},
   "source": [
    "We created tables with count and  frequency data for each catrgorical variable, and then used these tables to make graphs. We hoped this would help us determine which categorical variables are suitable for further analysis. "
   ]
  },
  {
   "cell_type": "code",
   "execution_count": 12,
   "id": "102ddbba",
   "metadata": {
    "jupyter": {
     "source_hidden": true
    },
    "tags": []
   },
   "outputs": [],
   "source": [
    "# create vectors of categorical data\n",
    "\n",
    "work_class_vector <- income_data$work_class\n",
    "education_vector <- income_data$education\n",
    "marital_status_vector <- income_data$marital_status\n",
    "occupation_vector <- income_data$occupation\n",
    "relationship_vector <- income_data$relationship\n",
    "race_vector <- income_data$race\n",
    "sex_vector <- income_data$sex\n",
    "native_country_vector <- income_data$native_country\n",
    "income_above_50K_vector <- income_data$income_above_50K"
   ]
  },
  {
   "cell_type": "code",
   "execution_count": 13,
   "id": "00c7acd1",
   "metadata": {
    "tags": []
   },
   "outputs": [],
   "source": [
    "# Work_class\n",
    "\n",
    "work_class_count <- as.data.frame(table(work_class_vector))\n",
    "work_class_count\n",
    "nrow(work_class_count)\n",
    "\n",
    "work_class_graph <- ggplot(work_class_count, aes(x = work_class_vector, y = Freq, fill = work_class_vector)) +\n",
    "    geom_bar(stat = \"identity\") +\n",
    "    labs(x = \"Work Class (vectorized)\", y = \"Frequency\")\n",
    "work_class_graph"
   ]
  },
  {
   "cell_type": "code",
   "execution_count": 14,
   "id": "4c1dd0d8",
   "metadata": {
    "tags": []
   },
   "outputs": [],
   "source": [
    "# Education\n",
    "\n",
    "education_count <- as.data.frame(table(education_vector))\n",
    "education_count\n",
    "nrow(education_count)\n",
    "\n",
    "education_graph <- ggplot(education_count, aes(x = education_vector, y = Freq, fill = education_vector)) +\n",
    "    geom_bar(stat = \"identity\") +\n",
    "    labs(x = \"education (vectorized)\", y = \"Frequency\")\n",
    "education_graph"
   ]
  },
  {
   "cell_type": "code",
   "execution_count": 15,
   "id": "a2388cf4",
   "metadata": {
    "tags": []
   },
   "outputs": [],
   "source": [
    "# Marital_status\n",
    "\n",
    "marital_status_count <- as.data.frame(table(marital_status_vector))\n",
    "marital_status_count\n",
    "nrow(marital_status_count)\n",
    "\n",
    "marital_status_graph <- ggplot(marital_status_count, aes(x = marital_status_vector, y = Freq, fill = marital_status_vector)) +\n",
    "    geom_bar(stat = \"identity\") +\n",
    "    labs(x = \"Marital Status (vectorized)\", y = \"Frequency\")\n",
    "marital_status_graph"
   ]
  },
  {
   "cell_type": "code",
   "execution_count": 16,
   "id": "79c57e5f",
   "metadata": {
    "tags": []
   },
   "outputs": [],
   "source": [
    "# occupation\n",
    "income_data |>\n",
    "    group_by(occupation) |>\n",
    "    summarise(n = n()) |>\n",
    "    mutate(Freq = n/sum(n))"
   ]
  },
  {
   "cell_type": "code",
   "execution_count": 17,
   "id": "39e73a6b",
   "metadata": {
    "tags": []
   },
   "outputs": [],
   "source": [
    "# relationship\n",
    "\n",
    "relationship_count <- as.data.frame(table(relationship_vector))\n",
    "relationship_count\n",
    "nrow(relationship_count)\n",
    "\n",
    "relationship_graph <- ggplot(relationship_count, aes(x = relationship_vector, y = Freq, fill = relationship_vector)) +\n",
    "    geom_bar(stat = \"identity\") +\n",
    "    labs(x = \"Relationship (vectorized)\", y = \"Frequency\")\n",
    "relationship_graph"
   ]
  },
  {
   "cell_type": "code",
   "execution_count": 18,
   "id": "5bcc4558",
   "metadata": {
    "tags": []
   },
   "outputs": [],
   "source": [
    "# race\n",
    "\n",
    "race_count <- as.data.frame(table(race_vector))\n",
    "race_count\n",
    "nrow(race_count)\n",
    "\n",
    "race_graph <- ggplot(race_count, aes(x = race_vector, y = Freq, fill = race_vector)) +\n",
    "    geom_bar(stat = \"identity\") +\n",
    "    labs(x = \"Race (vectorized)\", y = \"Frequency\")\n",
    "race_graph"
   ]
  },
  {
   "cell_type": "code",
   "execution_count": 19,
   "id": "dd2d7751",
   "metadata": {
    "tags": []
   },
   "outputs": [],
   "source": [
    "# sex\n",
    "\n",
    "sex_count <- as.data.frame(table(sex_vector))\n",
    "sex_count\n",
    "nrow(sex_count)\n",
    "\n",
    "sex_graph <- ggplot(sex_count, aes(x = sex_vector, y = Freq, fill = sex_vector)) +\n",
    "    geom_bar(stat = \"identity\") +\n",
    "    labs(x = \"Race (vectorized)\", y = \"Frequency\")\n",
    "sex_graph"
   ]
  },
  {
   "cell_type": "code",
   "execution_count": 20,
   "id": "008a1a82",
   "metadata": {
    "tags": []
   },
   "outputs": [],
   "source": [
    "# native_country\n",
    "\n",
    "income_data |>\n",
    "    group_by(native_country) |>\n",
    "    summarise(n = n()) |>\n",
    "    mutate(Freq = n/sum(n))\n",
    "\n",
    "# We will not be creating a graph for native_country, because there are so many possible values that it would not be a good representation of the data."
   ]
  },
  {
   "cell_type": "markdown",
   "id": "902f6d32",
   "metadata": {
    "tags": []
   },
   "source": [
    "#### Methods ####\n",
    "We decided to use a forward selection model to inform our ultimate feature selection. In order to reduce the likelihood of errors occurring, we also decided to eliminate several variables as contenders at this point based on our analyses thus far before proceeding with forward selection.\n",
    "\n",
    "We observed that native_country, education, work_class, and occupation are polychotomous variables with many possible values. The scope of our analysis is too broad to include variables that require so much additional processing, so they were eliminated from consideration.\n",
    "\n",
    "The variables marital_status and relationship tell us the same information. marital_status has one more possible value than relationship, so we decided to keep relationship and eliminate marital_status.\n",
    "\n",
    "capital_gain and capital_loss are not metrics that align meaningfully with our research goals - we are more interested in exploring how income is related to lifestyle factors as opposed to fluctuation of income based on the sale of property and assets, so wel will not include them in the forward selection model.\n",
    "\n",
    "We have included the code we plan to use for our forward selection model below - it is still being debugged, but we intend to use the accuracy results to select our predictor variables.\n",
    "\n",
    "Once we have perfected the forward selection model, we will use the results stored in accuracies to help us choose the best combination of predictors for our response variable, income_above_50K. We will use the tabyl function to further examine the most accurate relationships the model indicates before deciding. Once we know what predictor(s) we are using, we will make a subset of the original income_data dataframe which includes the relevant data, and split it into training and testing sets.\n",
    "\n",
    "We will then use the training and test data to help us build and train a KNN classifier to predict the behaviour of our response variable. We plan to use a scatterplot to help visualize the classifier, and a cross-validation plot to represent the accuracy of the model."
   ]
  },
  {
   "cell_type": "code",
   "execution_count": 21,
   "id": "9db79789",
   "metadata": {
    "tags": []
   },
   "outputs": [],
   "source": [
    "# forward selection\n",
    "# subset potential predictors\n",
    "\n",
    "income_subset <- income_data_clean |>\n",
    "    select(income_above_50K,\n",
    "           age,\n",
    "           num_years_education,\n",
    "           relationship,\n",
    "           work_class,\n",
    "           race,\n",
    "           sex)\n",
    "income_subset <- as.data.frame(table(income_subset))\n",
    "head(income_subset, 3)\n",
    "possible_predictors <- colnames(income_subset |> select(-income_above_50K))\n",
    "possible_predictors                               "
   ]
  },
  {
   "cell_type": "code",
   "execution_count": 22,
   "id": "946ea0ca",
   "metadata": {
    "tags": []
   },
   "outputs": [
    {
     "ename": "ERROR",
     "evalue": "Error in dummy_columns(income_subset, select_columns = c(\"age\", \"num_years_education\", : could not find function \"dummy_columns\"\n",
     "output_type": "error",
     "traceback": [
      "Error in dummy_columns(income_subset, select_columns = c(\"age\", \"num_years_education\", : could not find function \"dummy_columns\"\nTraceback:\n"
     ]
    }
   ],
   "source": [
    "# Creat dummy variables for categorical variables\n",
    "dummy_income_data <- dummy_columns(income_subset, select_columns = c('age', 'num_years_education', 'relationship', 'work_class', 'race', 'sex'))"
   ]
  },
  {
   "cell_type": "code",
   "execution_count": 23,
   "id": "a1d75603",
   "metadata": {
    "tags": []
   },
   "outputs": [
    {
     "data": {
      "text/html": [
       "<table class=\"dataframe\">\n",
       "<caption>A tibble: 0 × 3</caption>\n",
       "<thead>\n",
       "\t<tr><th scope=col>size</th><th scope=col>model_string</th><th scope=col>accuracy</th></tr>\n",
       "\t<tr><th scope=col>&lt;int&gt;</th><th scope=col>&lt;chr&gt;</th><th scope=col>&lt;dbl&gt;</th></tr>\n",
       "</thead>\n",
       "<tbody>\n",
       "</tbody>\n",
       "</table>\n"
      ],
      "text/latex": [
       "A tibble: 0 × 3\n",
       "\\begin{tabular}{lll}\n",
       " size & model\\_string & accuracy\\\\\n",
       " <int> & <chr> & <dbl>\\\\\n",
       "\\hline\n",
       "\\end{tabular}\n"
      ],
      "text/markdown": [
       "\n",
       "A tibble: 0 × 3\n",
       "\n",
       "| size &lt;int&gt; | model_string &lt;chr&gt; | accuracy &lt;dbl&gt; |\n",
       "|---|---|---|\n",
       "\n"
      ],
      "text/plain": [
       "     size model_string accuracy"
      ]
     },
     "metadata": {},
     "output_type": "display_data"
    }
   ],
   "source": [
    "# Make an empty tibble called accuracies to store results in\n",
    "accuracies <- tibble(size = integer(), model_string = character(), accuracy = numeric())\n",
    "accuracies"
   ]
  },
  {
   "cell_type": "code",
   "execution_count": 24,
   "id": "9e9c6d6a",
   "metadata": {
    "tags": []
   },
   "outputs": [
    {
     "data": {
      "text/html": [
       "'income_above_50K ~ age+num_years_education+relationship+work_class+race+sex+Freq'"
      ],
      "text/latex": [
       "'income\\_above\\_50K \\textasciitilde{} age+num\\_years\\_education+relationship+work\\_class+race+sex+Freq'"
      ],
      "text/markdown": [
       "'income_above_50K ~ age+num_years_education+relationship+work_class+race+sex+Freq'"
      ],
      "text/plain": [
       "[1] \"income_above_50K ~ age+num_years_education+relationship+work_class+race+sex+Freq\""
      ]
     },
     "metadata": {},
     "output_type": "display_data"
    }
   ],
   "source": [
    "# Create a formula for the model that will be applied to the predictors\n",
    "\n",
    "formula <- paste(\"income_above_50K\", \"~\", paste(possible_predictors, collapse=\"+\"))\n",
    "formula"
   ]
  },
  {
   "cell_type": "code",
   "execution_count": 25,
   "id": "2fa6d4ea",
   "metadata": {},
   "outputs": [],
   "source": [
    "# Model specification\n",
    "knn_spec <- nearest_neighbor(weight_func = \"rectangular\", neighbors = tune()) |>\n",
    "    set_engine(\"kknn\") |>\n",
    "    set_mode(\"classification\")"
   ]
  },
  {
   "cell_type": "code",
   "execution_count": 26,
   "id": "3c6431ec",
   "metadata": {},
   "outputs": [
    {
     "data": {
      "text/html": [
       "<table class=\"dataframe\">\n",
       "<caption>A tibble: 6 × 15</caption>\n",
       "<thead>\n",
       "\t<tr><th scope=col>age</th><th scope=col>work_class</th><th scope=col>final_weight</th><th scope=col>education</th><th scope=col>num_years_education</th><th scope=col>marital_status</th><th scope=col>occupation</th><th scope=col>relationship</th><th scope=col>race</th><th scope=col>sex</th><th scope=col>capital_gain</th><th scope=col>capital_loss</th><th scope=col>hours_per_week</th><th scope=col>native_country</th><th scope=col>income_above_50K</th></tr>\n",
       "\t<tr><th scope=col>&lt;dbl&gt;</th><th scope=col>&lt;chr&gt;</th><th scope=col>&lt;dbl&gt;</th><th scope=col>&lt;chr&gt;</th><th scope=col>&lt;dbl&gt;</th><th scope=col>&lt;chr&gt;</th><th scope=col>&lt;chr&gt;</th><th scope=col>&lt;chr&gt;</th><th scope=col>&lt;chr&gt;</th><th scope=col>&lt;chr&gt;</th><th scope=col>&lt;dbl&gt;</th><th scope=col>&lt;dbl&gt;</th><th scope=col>&lt;dbl&gt;</th><th scope=col>&lt;chr&gt;</th><th scope=col>&lt;fct&gt;</th></tr>\n",
       "</thead>\n",
       "<tbody>\n",
       "\t<tr><td>39</td><td>State-gov       </td><td> 77516</td><td>Bachelors</td><td>13</td><td>Never-married     </td><td>Adm-clerical     </td><td>Not-in-family</td><td>White</td><td>Male  </td><td>2174</td><td>0</td><td>40</td><td>United-States</td><td>1</td></tr>\n",
       "\t<tr><td>50</td><td>Self-emp-not-inc</td><td> 83311</td><td>Bachelors</td><td>13</td><td>Married-civ-spouse</td><td>Exec-managerial  </td><td>Husband      </td><td>White</td><td>Male  </td><td>   0</td><td>0</td><td>13</td><td>United-States</td><td>1</td></tr>\n",
       "\t<tr><td>38</td><td>Private         </td><td>215646</td><td>HS-grad  </td><td> 9</td><td>Divorced          </td><td>Handlers-cleaners</td><td>Not-in-family</td><td>White</td><td>Male  </td><td>   0</td><td>0</td><td>40</td><td>United-States</td><td>1</td></tr>\n",
       "\t<tr><td>53</td><td>Private         </td><td>234721</td><td>11th     </td><td> 7</td><td>Married-civ-spouse</td><td>Handlers-cleaners</td><td>Husband      </td><td>Black</td><td>Male  </td><td>   0</td><td>0</td><td>40</td><td>United-States</td><td>1</td></tr>\n",
       "\t<tr><td>28</td><td>Private         </td><td>338409</td><td>Bachelors</td><td>13</td><td>Married-civ-spouse</td><td>Prof-specialty   </td><td>Wife         </td><td>Black</td><td>Female</td><td>   0</td><td>0</td><td>40</td><td>Cuba         </td><td>1</td></tr>\n",
       "\t<tr><td>37</td><td>Private         </td><td>284582</td><td>Masters  </td><td>14</td><td>Married-civ-spouse</td><td>Exec-managerial  </td><td>Wife         </td><td>White</td><td>Female</td><td>   0</td><td>0</td><td>40</td><td>United-States</td><td>1</td></tr>\n",
       "</tbody>\n",
       "</table>\n"
      ],
      "text/latex": [
       "A tibble: 6 × 15\n",
       "\\begin{tabular}{lllllllllllllll}\n",
       " age & work\\_class & final\\_weight & education & num\\_years\\_education & marital\\_status & occupation & relationship & race & sex & capital\\_gain & capital\\_loss & hours\\_per\\_week & native\\_country & income\\_above\\_50K\\\\\n",
       " <dbl> & <chr> & <dbl> & <chr> & <dbl> & <chr> & <chr> & <chr> & <chr> & <chr> & <dbl> & <dbl> & <dbl> & <chr> & <fct>\\\\\n",
       "\\hline\n",
       "\t 39 & State-gov        &  77516 & Bachelors & 13 & Never-married      & Adm-clerical      & Not-in-family & White & Male   & 2174 & 0 & 40 & United-States & 1\\\\\n",
       "\t 50 & Self-emp-not-inc &  83311 & Bachelors & 13 & Married-civ-spouse & Exec-managerial   & Husband       & White & Male   &    0 & 0 & 13 & United-States & 1\\\\\n",
       "\t 38 & Private          & 215646 & HS-grad   &  9 & Divorced           & Handlers-cleaners & Not-in-family & White & Male   &    0 & 0 & 40 & United-States & 1\\\\\n",
       "\t 53 & Private          & 234721 & 11th      &  7 & Married-civ-spouse & Handlers-cleaners & Husband       & Black & Male   &    0 & 0 & 40 & United-States & 1\\\\\n",
       "\t 28 & Private          & 338409 & Bachelors & 13 & Married-civ-spouse & Prof-specialty    & Wife          & Black & Female &    0 & 0 & 40 & Cuba          & 1\\\\\n",
       "\t 37 & Private          & 284582 & Masters   & 14 & Married-civ-spouse & Exec-managerial   & Wife          & White & Female &    0 & 0 & 40 & United-States & 1\\\\\n",
       "\\end{tabular}\n"
      ],
      "text/markdown": [
       "\n",
       "A tibble: 6 × 15\n",
       "\n",
       "| age &lt;dbl&gt; | work_class &lt;chr&gt; | final_weight &lt;dbl&gt; | education &lt;chr&gt; | num_years_education &lt;dbl&gt; | marital_status &lt;chr&gt; | occupation &lt;chr&gt; | relationship &lt;chr&gt; | race &lt;chr&gt; | sex &lt;chr&gt; | capital_gain &lt;dbl&gt; | capital_loss &lt;dbl&gt; | hours_per_week &lt;dbl&gt; | native_country &lt;chr&gt; | income_above_50K &lt;fct&gt; |\n",
       "|---|---|---|---|---|---|---|---|---|---|---|---|---|---|---|\n",
       "| 39 | State-gov        |  77516 | Bachelors | 13 | Never-married      | Adm-clerical      | Not-in-family | White | Male   | 2174 | 0 | 40 | United-States | 1 |\n",
       "| 50 | Self-emp-not-inc |  83311 | Bachelors | 13 | Married-civ-spouse | Exec-managerial   | Husband       | White | Male   |    0 | 0 | 13 | United-States | 1 |\n",
       "| 38 | Private          | 215646 | HS-grad   |  9 | Divorced           | Handlers-cleaners | Not-in-family | White | Male   |    0 | 0 | 40 | United-States | 1 |\n",
       "| 53 | Private          | 234721 | 11th      |  7 | Married-civ-spouse | Handlers-cleaners | Husband       | Black | Male   |    0 | 0 | 40 | United-States | 1 |\n",
       "| 28 | Private          | 338409 | Bachelors | 13 | Married-civ-spouse | Prof-specialty    | Wife          | Black | Female |    0 | 0 | 40 | Cuba          | 1 |\n",
       "| 37 | Private          | 284582 | Masters   | 14 | Married-civ-spouse | Exec-managerial   | Wife          | White | Female |    0 | 0 | 40 | United-States | 1 |\n",
       "\n"
      ],
      "text/plain": [
       "  age work_class       final_weight education num_years_education\n",
       "1 39  State-gov         77516       Bachelors 13                 \n",
       "2 50  Self-emp-not-inc  83311       Bachelors 13                 \n",
       "3 38  Private          215646       HS-grad    9                 \n",
       "4 53  Private          234721       11th       7                 \n",
       "5 28  Private          338409       Bachelors 13                 \n",
       "6 37  Private          284582       Masters   14                 \n",
       "  marital_status     occupation        relationship  race  sex    capital_gain\n",
       "1 Never-married      Adm-clerical      Not-in-family White Male   2174        \n",
       "2 Married-civ-spouse Exec-managerial   Husband       White Male      0        \n",
       "3 Divorced           Handlers-cleaners Not-in-family White Male      0        \n",
       "4 Married-civ-spouse Handlers-cleaners Husband       Black Male      0        \n",
       "5 Married-civ-spouse Prof-specialty    Wife          Black Female    0        \n",
       "6 Married-civ-spouse Exec-managerial   Wife          White Female    0        \n",
       "  capital_loss hours_per_week native_country income_above_50K\n",
       "1 0            40             United-States  1               \n",
       "2 0            13             United-States  1               \n",
       "3 0            40             United-States  1               \n",
       "4 0            40             United-States  1               \n",
       "5 0            40             Cuba           1               \n",
       "6 0            40             United-States  1               "
      ]
     },
     "metadata": {},
     "output_type": "display_data"
    }
   ],
   "source": [
    "income_data_clean <- income_data_clean %>%\n",
    "    mutate(income_above_50K = as.factor(income_above_50K))\n",
    "\n",
    "head(income_data_clean)\n",
    "\n",
    "\n",
    "# Create object for 5-fold cross-validation\n",
    "income_vfold <- vfold_cv(income_data_clean, v = 5, strata = income_above_50K)"
   ]
  },
  {
   "cell_type": "code",
   "execution_count": 29,
   "id": "a83d823f",
   "metadata": {},
   "outputs": [],
   "source": [
    "# Store the total number of predictors\n",
    "n_total <- length(possible_predictors)\n",
    "\n",
    "# Create a vector to store the selected predictors in\n",
    "selected <- c()\n",
    "\n",
    "ks <- tibble(neighbors = seq(from = 1, to = 2, by = 1))"
   ]
  },
  {
   "cell_type": "code",
   "execution_count": 35,
   "id": "b3082b7b",
   "metadata": {},
   "outputs": [
    {
     "name": "stdout",
     "output_type": "stream",
     "text": [
      "[1] \"income_above_50K ~ num_years_education+relationship\"\n",
      "[[1]]\n",
      "\u001b[90m# A tibble: 2 × 8\u001b[39m\n",
      "  neighbors .metric  .estimator  mean     n std_err .config         model_string\n",
      "      \u001b[3m\u001b[90m<dbl>\u001b[39m\u001b[23m \u001b[3m\u001b[90m<chr>\u001b[39m\u001b[23m    \u001b[3m\u001b[90m<chr>\u001b[39m\u001b[23m      \u001b[3m\u001b[90m<dbl>\u001b[39m\u001b[23m \u001b[3m\u001b[90m<int>\u001b[39m\u001b[23m   \u001b[3m\u001b[90m<dbl>\u001b[39m\u001b[23m \u001b[3m\u001b[90m<chr>\u001b[39m\u001b[23m           \u001b[3m\u001b[90m<chr>\u001b[39m\u001b[23m       \n",
      "\u001b[90m1\u001b[39m         1 accuracy binary     0.736     5  0.014\u001b[4m8\u001b[24m Preprocessor1_… income_abov…\n",
      "\u001b[90m2\u001b[39m         2 accuracy binary     0.734     5  0.011\u001b[4m8\u001b[24m Preprocessor1_… income_abov…\n",
      "\n",
      "[1] \"income_above_50K ~ num_years_education+work_class\"\n",
      "[[1]]\n",
      "\u001b[90m# A tibble: 2 × 8\u001b[39m\n",
      "  neighbors .metric  .estimator  mean     n std_err .config         model_string\n",
      "      \u001b[3m\u001b[90m<dbl>\u001b[39m\u001b[23m \u001b[3m\u001b[90m<chr>\u001b[39m\u001b[23m    \u001b[3m\u001b[90m<chr>\u001b[39m\u001b[23m      \u001b[3m\u001b[90m<dbl>\u001b[39m\u001b[23m \u001b[3m\u001b[90m<int>\u001b[39m\u001b[23m   \u001b[3m\u001b[90m<dbl>\u001b[39m\u001b[23m \u001b[3m\u001b[90m<chr>\u001b[39m\u001b[23m           \u001b[3m\u001b[90m<chr>\u001b[39m\u001b[23m       \n",
      "\u001b[90m1\u001b[39m         1 accuracy binary     0.736     5  0.014\u001b[4m8\u001b[24m Preprocessor1_… income_abov…\n",
      "\u001b[90m2\u001b[39m         2 accuracy binary     0.734     5  0.011\u001b[4m8\u001b[24m Preprocessor1_… income_abov…\n",
      "\n",
      "[[2]]\n",
      "\u001b[90m# A tibble: 2 × 8\u001b[39m\n",
      "  neighbors .metric  .estimator  mean     n std_err .config         model_string\n",
      "      \u001b[3m\u001b[90m<dbl>\u001b[39m\u001b[23m \u001b[3m\u001b[90m<chr>\u001b[39m\u001b[23m    \u001b[3m\u001b[90m<chr>\u001b[39m\u001b[23m      \u001b[3m\u001b[90m<dbl>\u001b[39m\u001b[23m \u001b[3m\u001b[90m<int>\u001b[39m\u001b[23m   \u001b[3m\u001b[90m<dbl>\u001b[39m\u001b[23m \u001b[3m\u001b[90m<chr>\u001b[39m\u001b[23m           \u001b[3m\u001b[90m<chr>\u001b[39m\u001b[23m       \n",
      "\u001b[90m1\u001b[39m         1 accuracy binary     0.635     5 0.022\u001b[4m1\u001b[24m  Preprocessor1_… income_abov…\n",
      "\u001b[90m2\u001b[39m         2 accuracy binary     0.605     5 0.006\u001b[4m1\u001b[24m\u001b[4m3\u001b[24m Preprocessor1_… income_abov…\n",
      "\n"
     ]
    },
    {
     "data": {
      "text/html": [
       "<ol>\n",
       "\t<li><table class=\"dataframe\">\n",
       "<caption>A tibble: 2 × 8</caption>\n",
       "<thead>\n",
       "\t<tr><th scope=col>neighbors</th><th scope=col>.metric</th><th scope=col>.estimator</th><th scope=col>mean</th><th scope=col>n</th><th scope=col>std_err</th><th scope=col>.config</th><th scope=col>model_string</th></tr>\n",
       "\t<tr><th scope=col>&lt;dbl&gt;</th><th scope=col>&lt;chr&gt;</th><th scope=col>&lt;chr&gt;</th><th scope=col>&lt;dbl&gt;</th><th scope=col>&lt;int&gt;</th><th scope=col>&lt;dbl&gt;</th><th scope=col>&lt;chr&gt;</th><th scope=col>&lt;chr&gt;</th></tr>\n",
       "</thead>\n",
       "<tbody>\n",
       "\t<tr><td>1</td><td>accuracy</td><td>binary</td><td>0.7356037</td><td>5</td><td>0.01478741</td><td>Preprocessor1_Model1</td><td>income_above_50K ~ num_years_education+relationship</td></tr>\n",
       "\t<tr><td>2</td><td>accuracy</td><td>binary</td><td>0.7337306</td><td>5</td><td>0.01177622</td><td>Preprocessor1_Model2</td><td>income_above_50K ~ num_years_education+relationship</td></tr>\n",
       "</tbody>\n",
       "</table>\n",
       "</li>\n",
       "\t<li><table class=\"dataframe\">\n",
       "<caption>A tibble: 2 × 8</caption>\n",
       "<thead>\n",
       "\t<tr><th scope=col>neighbors</th><th scope=col>.metric</th><th scope=col>.estimator</th><th scope=col>mean</th><th scope=col>n</th><th scope=col>std_err</th><th scope=col>.config</th><th scope=col>model_string</th></tr>\n",
       "\t<tr><th scope=col>&lt;dbl&gt;</th><th scope=col>&lt;chr&gt;</th><th scope=col>&lt;chr&gt;</th><th scope=col>&lt;dbl&gt;</th><th scope=col>&lt;int&gt;</th><th scope=col>&lt;dbl&gt;</th><th scope=col>&lt;chr&gt;</th><th scope=col>&lt;chr&gt;</th></tr>\n",
       "</thead>\n",
       "<tbody>\n",
       "\t<tr><td>1</td><td>accuracy</td><td>binary</td><td>0.6347165</td><td>5</td><td>0.022102617</td><td>Preprocessor1_Model1</td><td>income_above_50K ~ num_years_education+work_class</td></tr>\n",
       "\t<tr><td>2</td><td>accuracy</td><td>binary</td><td>0.6054174</td><td>5</td><td>0.006131166</td><td>Preprocessor1_Model2</td><td>income_above_50K ~ num_years_education+work_class</td></tr>\n",
       "</tbody>\n",
       "</table>\n",
       "</li>\n",
       "</ol>\n"
      ],
      "text/latex": [
       "\\begin{enumerate}\n",
       "\\item A tibble: 2 × 8\n",
       "\\begin{tabular}{llllllll}\n",
       " neighbors & .metric & .estimator & mean & n & std\\_err & .config & model\\_string\\\\\n",
       " <dbl> & <chr> & <chr> & <dbl> & <int> & <dbl> & <chr> & <chr>\\\\\n",
       "\\hline\n",
       "\t 1 & accuracy & binary & 0.7356037 & 5 & 0.01478741 & Preprocessor1\\_Model1 & income\\_above\\_50K \\textasciitilde{} num\\_years\\_education+relationship\\\\\n",
       "\t 2 & accuracy & binary & 0.7337306 & 5 & 0.01177622 & Preprocessor1\\_Model2 & income\\_above\\_50K \\textasciitilde{} num\\_years\\_education+relationship\\\\\n",
       "\\end{tabular}\n",
       "\n",
       "\\item A tibble: 2 × 8\n",
       "\\begin{tabular}{llllllll}\n",
       " neighbors & .metric & .estimator & mean & n & std\\_err & .config & model\\_string\\\\\n",
       " <dbl> & <chr> & <chr> & <dbl> & <int> & <dbl> & <chr> & <chr>\\\\\n",
       "\\hline\n",
       "\t 1 & accuracy & binary & 0.6347165 & 5 & 0.022102617 & Preprocessor1\\_Model1 & income\\_above\\_50K \\textasciitilde{} num\\_years\\_education+work\\_class\\\\\n",
       "\t 2 & accuracy & binary & 0.6054174 & 5 & 0.006131166 & Preprocessor1\\_Model2 & income\\_above\\_50K \\textasciitilde{} num\\_years\\_education+work\\_class\\\\\n",
       "\\end{tabular}\n",
       "\n",
       "\\end{enumerate}\n"
      ],
      "text/markdown": [
       "1. \n",
       "A tibble: 2 × 8\n",
       "\n",
       "| neighbors &lt;dbl&gt; | .metric &lt;chr&gt; | .estimator &lt;chr&gt; | mean &lt;dbl&gt; | n &lt;int&gt; | std_err &lt;dbl&gt; | .config &lt;chr&gt; | model_string &lt;chr&gt; |\n",
       "|---|---|---|---|---|---|---|---|\n",
       "| 1 | accuracy | binary | 0.7356037 | 5 | 0.01478741 | Preprocessor1_Model1 | income_above_50K ~ num_years_education+relationship |\n",
       "| 2 | accuracy | binary | 0.7337306 | 5 | 0.01177622 | Preprocessor1_Model2 | income_above_50K ~ num_years_education+relationship |\n",
       "\n",
       "\n",
       "2. \n",
       "A tibble: 2 × 8\n",
       "\n",
       "| neighbors &lt;dbl&gt; | .metric &lt;chr&gt; | .estimator &lt;chr&gt; | mean &lt;dbl&gt; | n &lt;int&gt; | std_err &lt;dbl&gt; | .config &lt;chr&gt; | model_string &lt;chr&gt; |\n",
       "|---|---|---|---|---|---|---|---|\n",
       "| 1 | accuracy | binary | 0.6347165 | 5 | 0.022102617 | Preprocessor1_Model1 | income_above_50K ~ num_years_education+work_class |\n",
       "| 2 | accuracy | binary | 0.6054174 | 5 | 0.006131166 | Preprocessor1_Model2 | income_above_50K ~ num_years_education+work_class |\n",
       "\n",
       "\n",
       "\n",
       "\n"
      ],
      "text/plain": [
       "[[1]]\n",
       "\u001b[90m# A tibble: 2 × 8\u001b[39m\n",
       "  neighbors .metric  .estimator  mean     n std_err .config         model_string\n",
       "      \u001b[3m\u001b[90m<dbl>\u001b[39m\u001b[23m \u001b[3m\u001b[90m<chr>\u001b[39m\u001b[23m    \u001b[3m\u001b[90m<chr>\u001b[39m\u001b[23m      \u001b[3m\u001b[90m<dbl>\u001b[39m\u001b[23m \u001b[3m\u001b[90m<int>\u001b[39m\u001b[23m   \u001b[3m\u001b[90m<dbl>\u001b[39m\u001b[23m \u001b[3m\u001b[90m<chr>\u001b[39m\u001b[23m           \u001b[3m\u001b[90m<chr>\u001b[39m\u001b[23m       \n",
       "\u001b[90m1\u001b[39m         1 accuracy binary     0.736     5  0.014\u001b[4m8\u001b[24m Preprocessor1_… income_abov…\n",
       "\u001b[90m2\u001b[39m         2 accuracy binary     0.734     5  0.011\u001b[4m8\u001b[24m Preprocessor1_… income_abov…\n",
       "\n",
       "[[2]]\n",
       "\u001b[90m# A tibble: 2 × 8\u001b[39m\n",
       "  neighbors .metric  .estimator  mean     n std_err .config         model_string\n",
       "      \u001b[3m\u001b[90m<dbl>\u001b[39m\u001b[23m \u001b[3m\u001b[90m<chr>\u001b[39m\u001b[23m    \u001b[3m\u001b[90m<chr>\u001b[39m\u001b[23m      \u001b[3m\u001b[90m<dbl>\u001b[39m\u001b[23m \u001b[3m\u001b[90m<int>\u001b[39m\u001b[23m   \u001b[3m\u001b[90m<dbl>\u001b[39m\u001b[23m \u001b[3m\u001b[90m<chr>\u001b[39m\u001b[23m           \u001b[3m\u001b[90m<chr>\u001b[39m\u001b[23m       \n",
       "\u001b[90m1\u001b[39m         1 accuracy binary     0.635     5 0.022\u001b[4m1\u001b[24m  Preprocessor1_… income_abov…\n",
       "\u001b[90m2\u001b[39m         2 accuracy binary     0.605     5 0.006\u001b[4m1\u001b[24m\u001b[4m3\u001b[24m Preprocessor1_… income_abov…\n"
      ]
     },
     "metadata": {},
     "output_type": "display_data"
    }
   ],
   "source": [
    "# Make an empty tibble called accuracies to store results in\n",
    "accuracies <- tibble(size = integer(), model_string = character(), accuracy = numeric())\n",
    "\n",
    "all_models <- list()\n",
    "\n",
    "# Create a for loop to iterate through all of the predictors\n",
    "for (i in 1:n_total) {  \n",
    "    #accs <- list()\n",
    "    #models <- list()\n",
    "    for (j in 1:length(possible_predictors)) {  \n",
    "        new_preds <- c(selected, possible_predictors[[j]])\n",
    "        model_string <- paste(\"income_above_50K\", \"~\", paste(new_preds, collapse=\"+\"))\n",
    "         print(model_string)\n",
    "        # Recipe for model string   \n",
    "        income_recipe <- recipe(as.formula(model_string), data = income_data_clean) |>\n",
    "                            step_scale(all_numeric_predictors()) |>\n",
    "                            step_center(all_numeric_predictors()) |>\n",
    "                            step_dummy(all_nominal_predictors())\n",
    "        \n",
    "        # tune classifier with predictors and find accuracy for best K\n",
    "        acc <- workflow() |>\n",
    "            add_recipe(income_recipe) |>\n",
    "            add_model(knn_spec) |>\n",
    "            tune_grid(resamples = income_vfold, grid = ks) |>\n",
    "            collect_metrics() |>\n",
    "            filter(.metric == \"accuracy\") %>%\n",
    "        mutate(model_string = model_string)\n",
    "    \n",
    "        # Use the dataframe made earlier to store the result\n",
    "        accs[[j]] <- acc\n",
    "        models[[j]] <- model_string\n",
    "        all_models[[j]] <- acc\n",
    "        print(accs)\n",
    "        \n",
    "        if (j == 2){break}\n",
    "    }\n",
    "    #jstar <- which.max(unlist(accs))\n",
    "    #accuracies <- accuracies |>\n",
    "    #    add_row(size = i,\n",
    "    #            model_string = models[[jstar]],\n",
    "    #            accuracy = accs[[jstar]])\n",
    "    #selected <- c(selected, possible_predictors[[jstar]])\n",
    "    #possible_predictors <- possible_predictors[-jstar]\n",
    "    break\n",
    "}\n",
    "all_models"
   ]
  },
  {
   "cell_type": "code",
   "execution_count": 36,
   "id": "196fd22b",
   "metadata": {},
   "outputs": [],
   "source": [
    "library(readr)"
   ]
  },
  {
   "cell_type": "code",
   "execution_count": 38,
   "id": "914b9c6e",
   "metadata": {},
   "outputs": [],
   "source": [
    "saveRDS(all_models, './model_results.RDS')"
   ]
  },
  {
   "cell_type": "code",
   "execution_count": 42,
   "id": "58c701c5",
   "metadata": {},
   "outputs": [
    {
     "data": {
      "text/html": [
       "<ol>\n",
       "\t<li><table class=\"dataframe\">\n",
       "<caption>A tibble: 2 × 8</caption>\n",
       "<thead>\n",
       "\t<tr><th scope=col>neighbors</th><th scope=col>.metric</th><th scope=col>.estimator</th><th scope=col>mean</th><th scope=col>n</th><th scope=col>std_err</th><th scope=col>.config</th><th scope=col>model_string</th></tr>\n",
       "\t<tr><th scope=col>&lt;dbl&gt;</th><th scope=col>&lt;chr&gt;</th><th scope=col>&lt;chr&gt;</th><th scope=col>&lt;dbl&gt;</th><th scope=col>&lt;int&gt;</th><th scope=col>&lt;dbl&gt;</th><th scope=col>&lt;chr&gt;</th><th scope=col>&lt;chr&gt;</th></tr>\n",
       "</thead>\n",
       "<tbody>\n",
       "\t<tr><td>1</td><td>accuracy</td><td>binary</td><td>0.7356037</td><td>5</td><td>0.01478741</td><td>Preprocessor1_Model1</td><td>income_above_50K ~ num_years_education+relationship</td></tr>\n",
       "\t<tr><td>2</td><td>accuracy</td><td>binary</td><td>0.7337306</td><td>5</td><td>0.01177622</td><td>Preprocessor1_Model2</td><td>income_above_50K ~ num_years_education+relationship</td></tr>\n",
       "</tbody>\n",
       "</table>\n",
       "</li>\n",
       "\t<li><table class=\"dataframe\">\n",
       "<caption>A tibble: 2 × 8</caption>\n",
       "<thead>\n",
       "\t<tr><th scope=col>neighbors</th><th scope=col>.metric</th><th scope=col>.estimator</th><th scope=col>mean</th><th scope=col>n</th><th scope=col>std_err</th><th scope=col>.config</th><th scope=col>model_string</th></tr>\n",
       "\t<tr><th scope=col>&lt;dbl&gt;</th><th scope=col>&lt;chr&gt;</th><th scope=col>&lt;chr&gt;</th><th scope=col>&lt;dbl&gt;</th><th scope=col>&lt;int&gt;</th><th scope=col>&lt;dbl&gt;</th><th scope=col>&lt;chr&gt;</th><th scope=col>&lt;chr&gt;</th></tr>\n",
       "</thead>\n",
       "<tbody>\n",
       "\t<tr><td>1</td><td>accuracy</td><td>binary</td><td>0.6347165</td><td>5</td><td>0.022102617</td><td>Preprocessor1_Model1</td><td>income_above_50K ~ num_years_education+work_class</td></tr>\n",
       "\t<tr><td>2</td><td>accuracy</td><td>binary</td><td>0.6054174</td><td>5</td><td>0.006131166</td><td>Preprocessor1_Model2</td><td>income_above_50K ~ num_years_education+work_class</td></tr>\n",
       "</tbody>\n",
       "</table>\n",
       "</li>\n",
       "</ol>\n"
      ],
      "text/latex": [
       "\\begin{enumerate}\n",
       "\\item A tibble: 2 × 8\n",
       "\\begin{tabular}{llllllll}\n",
       " neighbors & .metric & .estimator & mean & n & std\\_err & .config & model\\_string\\\\\n",
       " <dbl> & <chr> & <chr> & <dbl> & <int> & <dbl> & <chr> & <chr>\\\\\n",
       "\\hline\n",
       "\t 1 & accuracy & binary & 0.7356037 & 5 & 0.01478741 & Preprocessor1\\_Model1 & income\\_above\\_50K \\textasciitilde{} num\\_years\\_education+relationship\\\\\n",
       "\t 2 & accuracy & binary & 0.7337306 & 5 & 0.01177622 & Preprocessor1\\_Model2 & income\\_above\\_50K \\textasciitilde{} num\\_years\\_education+relationship\\\\\n",
       "\\end{tabular}\n",
       "\n",
       "\\item A tibble: 2 × 8\n",
       "\\begin{tabular}{llllllll}\n",
       " neighbors & .metric & .estimator & mean & n & std\\_err & .config & model\\_string\\\\\n",
       " <dbl> & <chr> & <chr> & <dbl> & <int> & <dbl> & <chr> & <chr>\\\\\n",
       "\\hline\n",
       "\t 1 & accuracy & binary & 0.6347165 & 5 & 0.022102617 & Preprocessor1\\_Model1 & income\\_above\\_50K \\textasciitilde{} num\\_years\\_education+work\\_class\\\\\n",
       "\t 2 & accuracy & binary & 0.6054174 & 5 & 0.006131166 & Preprocessor1\\_Model2 & income\\_above\\_50K \\textasciitilde{} num\\_years\\_education+work\\_class\\\\\n",
       "\\end{tabular}\n",
       "\n",
       "\\end{enumerate}\n"
      ],
      "text/markdown": [
       "1. \n",
       "A tibble: 2 × 8\n",
       "\n",
       "| neighbors &lt;dbl&gt; | .metric &lt;chr&gt; | .estimator &lt;chr&gt; | mean &lt;dbl&gt; | n &lt;int&gt; | std_err &lt;dbl&gt; | .config &lt;chr&gt; | model_string &lt;chr&gt; |\n",
       "|---|---|---|---|---|---|---|---|\n",
       "| 1 | accuracy | binary | 0.7356037 | 5 | 0.01478741 | Preprocessor1_Model1 | income_above_50K ~ num_years_education+relationship |\n",
       "| 2 | accuracy | binary | 0.7337306 | 5 | 0.01177622 | Preprocessor1_Model2 | income_above_50K ~ num_years_education+relationship |\n",
       "\n",
       "\n",
       "2. \n",
       "A tibble: 2 × 8\n",
       "\n",
       "| neighbors &lt;dbl&gt; | .metric &lt;chr&gt; | .estimator &lt;chr&gt; | mean &lt;dbl&gt; | n &lt;int&gt; | std_err &lt;dbl&gt; | .config &lt;chr&gt; | model_string &lt;chr&gt; |\n",
       "|---|---|---|---|---|---|---|---|\n",
       "| 1 | accuracy | binary | 0.6347165 | 5 | 0.022102617 | Preprocessor1_Model1 | income_above_50K ~ num_years_education+work_class |\n",
       "| 2 | accuracy | binary | 0.6054174 | 5 | 0.006131166 | Preprocessor1_Model2 | income_above_50K ~ num_years_education+work_class |\n",
       "\n",
       "\n",
       "\n",
       "\n"
      ],
      "text/plain": [
       "[[1]]\n",
       "\u001b[90m# A tibble: 2 × 8\u001b[39m\n",
       "  neighbors .metric  .estimator  mean     n std_err .config         model_string\n",
       "      \u001b[3m\u001b[90m<dbl>\u001b[39m\u001b[23m \u001b[3m\u001b[90m<chr>\u001b[39m\u001b[23m    \u001b[3m\u001b[90m<chr>\u001b[39m\u001b[23m      \u001b[3m\u001b[90m<dbl>\u001b[39m\u001b[23m \u001b[3m\u001b[90m<int>\u001b[39m\u001b[23m   \u001b[3m\u001b[90m<dbl>\u001b[39m\u001b[23m \u001b[3m\u001b[90m<chr>\u001b[39m\u001b[23m           \u001b[3m\u001b[90m<chr>\u001b[39m\u001b[23m       \n",
       "\u001b[90m1\u001b[39m         1 accuracy binary     0.736     5  0.014\u001b[4m8\u001b[24m Preprocessor1_… income_abov…\n",
       "\u001b[90m2\u001b[39m         2 accuracy binary     0.734     5  0.011\u001b[4m8\u001b[24m Preprocessor1_… income_abov…\n",
       "\n",
       "[[2]]\n",
       "\u001b[90m# A tibble: 2 × 8\u001b[39m\n",
       "  neighbors .metric  .estimator  mean     n std_err .config         model_string\n",
       "      \u001b[3m\u001b[90m<dbl>\u001b[39m\u001b[23m \u001b[3m\u001b[90m<chr>\u001b[39m\u001b[23m    \u001b[3m\u001b[90m<chr>\u001b[39m\u001b[23m      \u001b[3m\u001b[90m<dbl>\u001b[39m\u001b[23m \u001b[3m\u001b[90m<int>\u001b[39m\u001b[23m   \u001b[3m\u001b[90m<dbl>\u001b[39m\u001b[23m \u001b[3m\u001b[90m<chr>\u001b[39m\u001b[23m           \u001b[3m\u001b[90m<chr>\u001b[39m\u001b[23m       \n",
       "\u001b[90m1\u001b[39m         1 accuracy binary     0.635     5 0.022\u001b[4m1\u001b[24m  Preprocessor1_… income_abov…\n",
       "\u001b[90m2\u001b[39m         2 accuracy binary     0.605     5 0.006\u001b[4m1\u001b[24m\u001b[4m3\u001b[24m Preprocessor1_… income_abov…\n"
      ]
     },
     "metadata": {},
     "output_type": "display_data"
    }
   ],
   "source": [
    "sadf <- readRDS(\"model_results.RDS\")\n",
    "sadf"
   ]
  },
  {
   "cell_type": "code",
   "execution_count": 43,
   "id": "e4f0ecc2",
   "metadata": {},
   "outputs": [
    {
     "data": {
      "text/html": [
       "<table class=\"dataframe\">\n",
       "<caption>A tibble: 4 × 8</caption>\n",
       "<thead>\n",
       "\t<tr><th scope=col>neighbors</th><th scope=col>.metric</th><th scope=col>.estimator</th><th scope=col>mean</th><th scope=col>n</th><th scope=col>std_err</th><th scope=col>.config</th><th scope=col>model_string</th></tr>\n",
       "\t<tr><th scope=col>&lt;dbl&gt;</th><th scope=col>&lt;chr&gt;</th><th scope=col>&lt;chr&gt;</th><th scope=col>&lt;dbl&gt;</th><th scope=col>&lt;int&gt;</th><th scope=col>&lt;dbl&gt;</th><th scope=col>&lt;chr&gt;</th><th scope=col>&lt;chr&gt;</th></tr>\n",
       "</thead>\n",
       "<tbody>\n",
       "\t<tr><td>1</td><td>accuracy</td><td>binary</td><td>0.7356037</td><td>5</td><td>0.014787411</td><td>Preprocessor1_Model1</td><td>income_above_50K ~ num_years_education+relationship</td></tr>\n",
       "\t<tr><td>2</td><td>accuracy</td><td>binary</td><td>0.7337306</td><td>5</td><td>0.011776218</td><td>Preprocessor1_Model2</td><td>income_above_50K ~ num_years_education+relationship</td></tr>\n",
       "\t<tr><td>1</td><td>accuracy</td><td>binary</td><td>0.6347165</td><td>5</td><td>0.022102617</td><td>Preprocessor1_Model1</td><td>income_above_50K ~ num_years_education+work_class  </td></tr>\n",
       "\t<tr><td>2</td><td>accuracy</td><td>binary</td><td>0.6054174</td><td>5</td><td>0.006131166</td><td>Preprocessor1_Model2</td><td>income_above_50K ~ num_years_education+work_class  </td></tr>\n",
       "</tbody>\n",
       "</table>\n"
      ],
      "text/latex": [
       "A tibble: 4 × 8\n",
       "\\begin{tabular}{llllllll}\n",
       " neighbors & .metric & .estimator & mean & n & std\\_err & .config & model\\_string\\\\\n",
       " <dbl> & <chr> & <chr> & <dbl> & <int> & <dbl> & <chr> & <chr>\\\\\n",
       "\\hline\n",
       "\t 1 & accuracy & binary & 0.7356037 & 5 & 0.014787411 & Preprocessor1\\_Model1 & income\\_above\\_50K \\textasciitilde{} num\\_years\\_education+relationship\\\\\n",
       "\t 2 & accuracy & binary & 0.7337306 & 5 & 0.011776218 & Preprocessor1\\_Model2 & income\\_above\\_50K \\textasciitilde{} num\\_years\\_education+relationship\\\\\n",
       "\t 1 & accuracy & binary & 0.6347165 & 5 & 0.022102617 & Preprocessor1\\_Model1 & income\\_above\\_50K \\textasciitilde{} num\\_years\\_education+work\\_class  \\\\\n",
       "\t 2 & accuracy & binary & 0.6054174 & 5 & 0.006131166 & Preprocessor1\\_Model2 & income\\_above\\_50K \\textasciitilde{} num\\_years\\_education+work\\_class  \\\\\n",
       "\\end{tabular}\n"
      ],
      "text/markdown": [
       "\n",
       "A tibble: 4 × 8\n",
       "\n",
       "| neighbors &lt;dbl&gt; | .metric &lt;chr&gt; | .estimator &lt;chr&gt; | mean &lt;dbl&gt; | n &lt;int&gt; | std_err &lt;dbl&gt; | .config &lt;chr&gt; | model_string &lt;chr&gt; |\n",
       "|---|---|---|---|---|---|---|---|\n",
       "| 1 | accuracy | binary | 0.7356037 | 5 | 0.014787411 | Preprocessor1_Model1 | income_above_50K ~ num_years_education+relationship |\n",
       "| 2 | accuracy | binary | 0.7337306 | 5 | 0.011776218 | Preprocessor1_Model2 | income_above_50K ~ num_years_education+relationship |\n",
       "| 1 | accuracy | binary | 0.6347165 | 5 | 0.022102617 | Preprocessor1_Model1 | income_above_50K ~ num_years_education+work_class   |\n",
       "| 2 | accuracy | binary | 0.6054174 | 5 | 0.006131166 | Preprocessor1_Model2 | income_above_50K ~ num_years_education+work_class   |\n",
       "\n"
      ],
      "text/plain": [
       "  neighbors .metric  .estimator mean      n std_err     .config             \n",
       "1 1         accuracy binary     0.7356037 5 0.014787411 Preprocessor1_Model1\n",
       "2 2         accuracy binary     0.7337306 5 0.011776218 Preprocessor1_Model2\n",
       "3 1         accuracy binary     0.6347165 5 0.022102617 Preprocessor1_Model1\n",
       "4 2         accuracy binary     0.6054174 5 0.006131166 Preprocessor1_Model2\n",
       "  model_string                                       \n",
       "1 income_above_50K ~ num_years_education+relationship\n",
       "2 income_above_50K ~ num_years_education+relationship\n",
       "3 income_above_50K ~ num_years_education+work_class  \n",
       "4 income_above_50K ~ num_years_education+work_class  "
      ]
     },
     "metadata": {},
     "output_type": "display_data"
    }
   ],
   "source": [
    "bind_rows(sadf)"
   ]
  },
  {
   "cell_type": "code",
   "execution_count": null,
   "id": "00b1dedb",
   "metadata": {},
   "outputs": [],
   "source": [
    "show_notes(.Last.tune.result)"
   ]
  },
  {
   "cell_type": "markdown",
   "id": "099f18e1",
   "metadata": {},
   "source": [
    "#### Expected Outcomes and Significance ####\n",
    "\n",
    "We expect that of the variables we are considering as predictors at this point, num_years_education and age will have the most influence on whether someone earns more than or less than $50 000 per year. These findings would stress the importance of ensuring education and various occupation types are accessible to everyone and could inspire change. For instance, universities could lower tuition to make education accessible to people from various financial backgrounds. Further studies could analyze the variables that determine the education or occupation someone can receive. This would pinpoint focal areas in making education and various occupation types more accessible. \n"
   ]
  },
  {
   "cell_type": "markdown",
   "id": "c27b0a6a",
   "metadata": {},
   "source": [
    "#### References ####\n",
    "\n",
    "U.S. Bureau of the Census, Current Population Reports, P60-193, Money Income in the United States: 1995 (With Separate Data on Valuation of Noncash Benefits), U.S. Government Printing Office, Washington, DC, 1996.\n",
    "\n",
    "\"Data Science: A First Introduction\". T. Timbers, T. Campbell, & M. Lee. Chapter 6.8.2, \"Finding a good subset of predictors\"; Chapter 6.8.3,  \"Forward selection in R\". 2022."
   ]
  },
  {
   "cell_type": "markdown",
   "id": "e91475f6",
   "metadata": {},
   "source": [
    "Test"
   ]
  }
 ],
 "metadata": {
  "kernelspec": {
   "display_name": "R",
   "language": "R",
   "name": "ir"
  },
  "language_info": {
   "codemirror_mode": "r",
   "file_extension": ".r",
   "mimetype": "text/x-r-source",
   "name": "R",
   "pygments_lexer": "r",
   "version": "4.1.3"
  }
 },
 "nbformat": 4,
 "nbformat_minor": 5
}
