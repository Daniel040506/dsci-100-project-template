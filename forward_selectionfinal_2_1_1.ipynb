{
 "cells": [
  {
   "cell_type": "markdown",
   "id": "4b1032f2-3308-40a4-9ea6-1943ff0e8d06",
   "metadata": {},
   "source": [
    "# Proposal: Predicting the Effect of Lifestyle Factors on the Income of American Citizens # \n",
    "## By Daniel Kouchakkhani, Faye McBride, Katherine Dai, & Lillian Milroy ##"
   ]
  },
  {
   "cell_type": "markdown",
   "id": "f0a79718-7c27-469e-aebc-356aa2e99da7",
   "metadata": {},
   "source": [
    "### Adult Data Set Analysis ###\n",
    "\n",
    "#### Introduction ####\n",
    "\n",
    "In 1994, the average yearly income of an American citizen was $33,178 (U.S. Bureau of the Census, 1996). There are many factors that determine this income — racism, sexism, and ableism are just a few examples of oppression that unfairly lower the wage of marginalized people. Other factors include a person’s level of education and a person’s marital or relationship status. \n",
    "\n",
    "Barry Becker extracted data from a 1994 U.S. census that allows one to compare various factors of a person and whether their yearly income is above or below $50 000, he called this data set the Adult Data Set. This data set was limited to observations that occur more than once in the census with an age older than 16, and an adjusted gross income and hours worked greater than one. \n",
    "\n",
    "The Adult Data Set contains the following variables;\n",
    "* age: continuous.\n",
    "* workclass: Private, Self-emp-not-inc, Self-emp-inc, Federal-gov, Local-gov, State-gov, Without-pay, Never-worked.\n",
    "* finalweight: continuous.\n",
    "* education: Bachelors, Some-college, 11th, HS-grad, Prof-school, Assoc-acdm, Assoc-voc, 9th, 7th-8th, 12th, Masters, 1st-4th, 10th, Doctorate, 5th-6th, Preschool.\n",
    "* education-num: continuous.\n",
    "* marital-status: Married-civ-spouse, Divorced, Never-married, Separated, Widowed, Married-spouse-absent, Married-AF-spouse.\n",
    "* occupation: Tech-support, Craft-repair, Other-service, Sales, Exec-managerial, Prof-specialty, Handlers-cleaners, Machine-op-inspct, Adm-clerical, Farming-fishing, Transport-moving, Priv-house-serv, Protective-serv, Armed-Forces.\n",
    "* relationship: Wife, Own-child, Husband, Not-in-family, Other-relative, Unmarried.\n",
    "* race: White, Asian-Pac-Islander, Amer-Indian-Eskimo, Other, Black.\n",
    "* sex: Female, Male.\n",
    "* capital-gain: continuous.\n",
    "* capital-loss: continuous.\n",
    "* hours-per-week: continuous.\n",
    "* native-country: United-States, Cambodia, England, Puerto-Rico, Canada, Germany, Outlying-US(Guam-USVI-etc), India, Japan, Greece, South, China, Cuba, Iran, Honduras, Philippines, Italy, Poland, Jamaica, Vietnam, Mexico, Portugal, Ireland, France, Dominican-Republic, Laos, Ecuador, Taiwan, Haiti, Columbia, Hungary, Guatemala, Nicaragua, Scotland, Thailand, Yugoslavia, El-Salvador, Trinidad&Tobago, Peru, Hong, Holland-Netherlands.\n",
    "* yearly_income: <=50K, >50K.\n",
    "\n",
    "The Adult Data Set offers numerous predictors to determine the yearly income of an American citizen. We are curious about which one has the most influence. Thus, we will be answering the question “Which variable determines with the most accuracy whether a person’s yearly income is greater than or less than $50 000?”"
   ]
  },
  {
   "cell_type": "markdown",
   "id": "3be43a05-c7b3-48c1-9e3a-cd13cbbdf387",
   "metadata": {},
   "source": [
    "#### Exploratory Data Analysis ####"
   ]
  },
  {
   "cell_type": "markdown",
   "id": "9031d26f-ed77-462a-a32d-8b0a991f94ef",
   "metadata": {},
   "source": [
    "We started by reading in the data and exploring relevant summary statistics. We then took steps to make it human-readable, and tidy enough for further analysis."
   ]
  },
  {
   "cell_type": "code",
   "execution_count": 1,
   "id": "d39f246d-1b29-472b-9f3c-5f40cd892304",
   "metadata": {
    "tags": []
   },
   "outputs": [
    {
     "name": "stderr",
     "output_type": "stream",
     "text": [
      "Updating HTML index of packages in '.Library'\n",
      "\n",
      "Making 'packages.html' ...\n",
      " done\n",
      "\n",
      "Updating HTML index of packages in '.Library'\n",
      "\n",
      "Making 'packages.html' ...\n",
      " done\n",
      "\n",
      "Updating HTML index of packages in '.Library'\n",
      "\n",
      "Making 'packages.html' ...\n",
      " done\n",
      "\n",
      "Updating HTML index of packages in '.Library'\n",
      "\n",
      "Making 'packages.html' ...\n",
      " done\n",
      "\n",
      "Updating HTML index of packages in '.Library'\n",
      "\n",
      "Making 'packages.html' ...\n",
      " done\n",
      "\n",
      "Updating HTML index of packages in '.Library'\n",
      "\n",
      "Making 'packages.html' ...\n",
      " done\n",
      "\n",
      "── \u001b[1mAttaching packages\u001b[22m ─────────────────────────────────────── tidyverse 1.3.1 ──\n",
      "\n",
      "\u001b[32m✔\u001b[39m \u001b[34mggplot2\u001b[39m 3.3.6     \u001b[32m✔\u001b[39m \u001b[34mpurrr  \u001b[39m 0.3.4\n",
      "\u001b[32m✔\u001b[39m \u001b[34mtibble \u001b[39m 3.1.7     \u001b[32m✔\u001b[39m \u001b[34mdplyr  \u001b[39m 1.0.9\n",
      "\u001b[32m✔\u001b[39m \u001b[34mtidyr  \u001b[39m 1.2.0     \u001b[32m✔\u001b[39m \u001b[34mstringr\u001b[39m 1.4.0\n",
      "\u001b[32m✔\u001b[39m \u001b[34mreadr  \u001b[39m 2.1.2     \u001b[32m✔\u001b[39m \u001b[34mforcats\u001b[39m 0.5.1\n",
      "\n",
      "── \u001b[1mConflicts\u001b[22m ────────────────────────────────────────── tidyverse_conflicts() ──\n",
      "\u001b[31m✖\u001b[39m \u001b[34mdplyr\u001b[39m::\u001b[32mfilter()\u001b[39m masks \u001b[34mstats\u001b[39m::filter()\n",
      "\u001b[31m✖\u001b[39m \u001b[34mdplyr\u001b[39m::\u001b[32mlag()\u001b[39m    masks \u001b[34mstats\u001b[39m::lag()\n",
      "\n",
      "\n",
      "Attaching package: ‘janitor’\n",
      "\n",
      "\n",
      "The following objects are masked from ‘package:stats’:\n",
      "\n",
      "    chisq.test, fisher.test\n",
      "\n",
      "\n",
      "── \u001b[1mAttaching packages\u001b[22m ────────────────────────────────────── tidymodels 1.0.0 ──\n",
      "\n",
      "\u001b[32m✔\u001b[39m \u001b[34mbroom       \u001b[39m 1.0.0     \u001b[32m✔\u001b[39m \u001b[34mrsample     \u001b[39m 1.0.0\n",
      "\u001b[32m✔\u001b[39m \u001b[34mdials       \u001b[39m 1.0.0     \u001b[32m✔\u001b[39m \u001b[34mtune        \u001b[39m 1.0.0\n",
      "\u001b[32m✔\u001b[39m \u001b[34minfer       \u001b[39m 1.0.2     \u001b[32m✔\u001b[39m \u001b[34mworkflows   \u001b[39m 1.0.0\n",
      "\u001b[32m✔\u001b[39m \u001b[34mmodeldata   \u001b[39m 1.0.0     \u001b[32m✔\u001b[39m \u001b[34mworkflowsets\u001b[39m 1.0.0\n",
      "\u001b[32m✔\u001b[39m \u001b[34mparsnip     \u001b[39m 1.0.0     \u001b[32m✔\u001b[39m \u001b[34myardstick   \u001b[39m 1.0.0\n",
      "\u001b[32m✔\u001b[39m \u001b[34mrecipes     \u001b[39m 1.0.1     \n",
      "\n",
      "── \u001b[1mConflicts\u001b[22m ───────────────────────────────────────── tidymodels_conflicts() ──\n",
      "\u001b[31m✖\u001b[39m \u001b[34mscales\u001b[39m::\u001b[32mdiscard()\u001b[39m masks \u001b[34mpurrr\u001b[39m::discard()\n",
      "\u001b[31m✖\u001b[39m \u001b[34mdplyr\u001b[39m::\u001b[32mfilter()\u001b[39m   masks \u001b[34mstats\u001b[39m::filter()\n",
      "\u001b[31m✖\u001b[39m \u001b[34mrecipes\u001b[39m::\u001b[32mfixed()\u001b[39m  masks \u001b[34mstringr\u001b[39m::fixed()\n",
      "\u001b[31m✖\u001b[39m \u001b[34mdplyr\u001b[39m::\u001b[32mlag()\u001b[39m      masks \u001b[34mstats\u001b[39m::lag()\n",
      "\u001b[31m✖\u001b[39m \u001b[34myardstick\u001b[39m::\u001b[32mspec()\u001b[39m masks \u001b[34mreadr\u001b[39m::spec()\n",
      "\u001b[31m✖\u001b[39m \u001b[34mrecipes\u001b[39m::\u001b[32mstep()\u001b[39m   masks \u001b[34mstats\u001b[39m::step()\n",
      "\u001b[34m•\u001b[39m Learn how to get started at \u001b[32mhttps://www.tidymodels.org/start/\u001b[39m\n",
      "\n",
      "\n",
      "Attaching package: ‘mltools’\n",
      "\n",
      "\n",
      "The following objects are masked from ‘package:yardstick’:\n",
      "\n",
      "    mcc, rmse\n",
      "\n",
      "\n",
      "The following object is masked from ‘package:tidyr’:\n",
      "\n",
      "    replace_na\n",
      "\n",
      "\n",
      "\n",
      "Attaching package: ‘data.table’\n",
      "\n",
      "\n",
      "The following objects are masked from ‘package:dplyr’:\n",
      "\n",
      "    between, first, last\n",
      "\n",
      "\n",
      "The following object is masked from ‘package:purrr’:\n",
      "\n",
      "    transpose\n",
      "\n",
      "\n",
      "Loading required package: lattice\n",
      "\n",
      "\n",
      "Attaching package: ‘caret’\n",
      "\n",
      "\n",
      "The following objects are masked from ‘package:yardstick’:\n",
      "\n",
      "    precision, recall, sensitivity, specificity\n",
      "\n",
      "\n",
      "The following object is masked from ‘package:purrr’:\n",
      "\n",
      "    lift\n",
      "\n",
      "\n"
     ]
    }
   ],
   "source": [
    "install.packages(\"data.validator\")\n",
    "install.packages(\"mltools\")\n",
    "install.packages(\"data.table\")\n",
    "install.packages(\"caret\")\n",
    "install.packages(\"fastDummies\")\n",
    "install.packages(\"janitor\")\n",
    "library(tidyverse)\n",
    "library(ggplot2)\n",
    "library(dplyr)\n",
    "library(janitor)\n",
    "library(data.validator)\n",
    "library(repr)\n",
    "library(tidymodels)\n",
    "library(mltools)\n",
    "library(data.table)\n",
    "library(caret)\n",
    "library(fastDummies)"
   ]
  },
  {
   "cell_type": "code",
   "execution_count": 2,
   "id": "3e7d8ac0-c57d-4a4d-9f3e-0b94432caec8",
   "metadata": {
    "tags": []
   },
   "outputs": [
    {
     "name": "stderr",
     "output_type": "stream",
     "text": [
      "\u001b[1mRows: \u001b[22m\u001b[34m32561\u001b[39m \u001b[1mColumns: \u001b[22m\u001b[34m15\u001b[39m\n",
      "\u001b[36m──\u001b[39m \u001b[1mColumn specification\u001b[22m \u001b[36m────────────────────────────────────────────────────────\u001b[39m\n",
      "\u001b[1mDelimiter:\u001b[22m \",\"\n",
      "\u001b[31mchr\u001b[39m (9): X2, X4, X6, X7, X8, X9, X10, X14, X15\n",
      "\u001b[32mdbl\u001b[39m (6): X1, X3, X5, X11, X12, X13\n",
      "\n",
      "\u001b[36mℹ\u001b[39m Use `spec()` to retrieve the full column specification for this data.\n",
      "\u001b[36mℹ\u001b[39m Specify the column types or set `show_col_types = FALSE` to quiet this message.\n"
     ]
    },
    {
     "data": {
      "text/html": [
       "<table class=\"dataframe\">\n",
       "<caption>A tibble: 3 × 15</caption>\n",
       "<thead>\n",
       "\t<tr><th scope=col>X1</th><th scope=col>X2</th><th scope=col>X3</th><th scope=col>X4</th><th scope=col>X5</th><th scope=col>X6</th><th scope=col>X7</th><th scope=col>X8</th><th scope=col>X9</th><th scope=col>X10</th><th scope=col>X11</th><th scope=col>X12</th><th scope=col>X13</th><th scope=col>X14</th><th scope=col>X15</th></tr>\n",
       "\t<tr><th scope=col>&lt;dbl&gt;</th><th scope=col>&lt;chr&gt;</th><th scope=col>&lt;dbl&gt;</th><th scope=col>&lt;chr&gt;</th><th scope=col>&lt;dbl&gt;</th><th scope=col>&lt;chr&gt;</th><th scope=col>&lt;chr&gt;</th><th scope=col>&lt;chr&gt;</th><th scope=col>&lt;chr&gt;</th><th scope=col>&lt;chr&gt;</th><th scope=col>&lt;dbl&gt;</th><th scope=col>&lt;dbl&gt;</th><th scope=col>&lt;dbl&gt;</th><th scope=col>&lt;chr&gt;</th><th scope=col>&lt;chr&gt;</th></tr>\n",
       "</thead>\n",
       "<tbody>\n",
       "\t<tr><td>39</td><td><span style=white-space:pre-wrap>State-gov       </span></td><td> 77516</td><td>Bachelors</td><td>13</td><td><span style=white-space:pre-wrap>Never-married     </span></td><td><span style=white-space:pre-wrap>Adm-clerical     </span></td><td>Not-in-family</td><td>White</td><td>Male</td><td>2174</td><td>0</td><td>40</td><td>United-States</td><td>&lt;=50K</td></tr>\n",
       "\t<tr><td>50</td><td>Self-emp-not-inc</td><td> 83311</td><td>Bachelors</td><td>13</td><td>Married-civ-spouse</td><td><span style=white-space:pre-wrap>Exec-managerial  </span></td><td><span style=white-space:pre-wrap>Husband      </span></td><td>White</td><td>Male</td><td><span style=white-space:pre-wrap>   0</span></td><td>0</td><td>13</td><td>United-States</td><td>&lt;=50K</td></tr>\n",
       "\t<tr><td>38</td><td><span style=white-space:pre-wrap>Private         </span></td><td>215646</td><td><span style=white-space:pre-wrap>HS-grad  </span></td><td> 9</td><td><span style=white-space:pre-wrap>Divorced          </span></td><td>Handlers-cleaners</td><td>Not-in-family</td><td>White</td><td>Male</td><td><span style=white-space:pre-wrap>   0</span></td><td>0</td><td>40</td><td>United-States</td><td>&lt;=50K</td></tr>\n",
       "</tbody>\n",
       "</table>\n"
      ],
      "text/latex": [
       "A tibble: 3 × 15\n",
       "\\begin{tabular}{lllllllllllllll}\n",
       " X1 & X2 & X3 & X4 & X5 & X6 & X7 & X8 & X9 & X10 & X11 & X12 & X13 & X14 & X15\\\\\n",
       " <dbl> & <chr> & <dbl> & <chr> & <dbl> & <chr> & <chr> & <chr> & <chr> & <chr> & <dbl> & <dbl> & <dbl> & <chr> & <chr>\\\\\n",
       "\\hline\n",
       "\t 39 & State-gov        &  77516 & Bachelors & 13 & Never-married      & Adm-clerical      & Not-in-family & White & Male & 2174 & 0 & 40 & United-States & <=50K\\\\\n",
       "\t 50 & Self-emp-not-inc &  83311 & Bachelors & 13 & Married-civ-spouse & Exec-managerial   & Husband       & White & Male &    0 & 0 & 13 & United-States & <=50K\\\\\n",
       "\t 38 & Private          & 215646 & HS-grad   &  9 & Divorced           & Handlers-cleaners & Not-in-family & White & Male &    0 & 0 & 40 & United-States & <=50K\\\\\n",
       "\\end{tabular}\n"
      ],
      "text/markdown": [
       "\n",
       "A tibble: 3 × 15\n",
       "\n",
       "| X1 &lt;dbl&gt; | X2 &lt;chr&gt; | X3 &lt;dbl&gt; | X4 &lt;chr&gt; | X5 &lt;dbl&gt; | X6 &lt;chr&gt; | X7 &lt;chr&gt; | X8 &lt;chr&gt; | X9 &lt;chr&gt; | X10 &lt;chr&gt; | X11 &lt;dbl&gt; | X12 &lt;dbl&gt; | X13 &lt;dbl&gt; | X14 &lt;chr&gt; | X15 &lt;chr&gt; |\n",
       "|---|---|---|---|---|---|---|---|---|---|---|---|---|---|---|\n",
       "| 39 | State-gov        |  77516 | Bachelors | 13 | Never-married      | Adm-clerical      | Not-in-family | White | Male | 2174 | 0 | 40 | United-States | &lt;=50K |\n",
       "| 50 | Self-emp-not-inc |  83311 | Bachelors | 13 | Married-civ-spouse | Exec-managerial   | Husband       | White | Male |    0 | 0 | 13 | United-States | &lt;=50K |\n",
       "| 38 | Private          | 215646 | HS-grad   |  9 | Divorced           | Handlers-cleaners | Not-in-family | White | Male |    0 | 0 | 40 | United-States | &lt;=50K |\n",
       "\n"
      ],
      "text/plain": [
       "  X1 X2               X3     X4        X5 X6                 X7               \n",
       "1 39 State-gov         77516 Bachelors 13 Never-married      Adm-clerical     \n",
       "2 50 Self-emp-not-inc  83311 Bachelors 13 Married-civ-spouse Exec-managerial  \n",
       "3 38 Private          215646 HS-grad    9 Divorced           Handlers-cleaners\n",
       "  X8            X9    X10  X11  X12 X13 X14           X15  \n",
       "1 Not-in-family White Male 2174 0   40  United-States <=50K\n",
       "2 Husband       White Male    0 0   13  United-States <=50K\n",
       "3 Not-in-family White Male    0 0   40  United-States <=50K"
      ]
     },
     "metadata": {},
     "output_type": "display_data"
    }
   ],
   "source": [
    "# Read in the dataset\n",
    "income_data <- read_csv(\"https://raw.githubusercontent.com/Daniel040506/dsci-100-project-template/main/adult.data\", col_names = FALSE)\n",
    "head(income_data, 3)"
   ]
  },
  {
   "cell_type": "code",
   "execution_count": 3,
   "id": "444602a6-153c-4508-91ad-b4d0c19043f4",
   "metadata": {
    "tags": []
   },
   "outputs": [
    {
     "name": "stdout",
     "output_type": "stream",
     "text": [
      "Rows: 32,561\n",
      "Columns: 15\n",
      "$ X1  \u001b[3m\u001b[90m<dbl>\u001b[39m\u001b[23m 39, 50, 38, 53, 28, 37, 49, 52, 31, 42, 37, 30, 23, 32, 40, 34, 25…\n",
      "$ X2  \u001b[3m\u001b[90m<chr>\u001b[39m\u001b[23m \"State-gov\", \"Self-emp-not-inc\", \"Private\", \"Private\", \"Private\", …\n",
      "$ X3  \u001b[3m\u001b[90m<dbl>\u001b[39m\u001b[23m 77516, 83311, 215646, 234721, 338409, 284582, 160187, 209642, 4578…\n",
      "$ X4  \u001b[3m\u001b[90m<chr>\u001b[39m\u001b[23m \"Bachelors\", \"Bachelors\", \"HS-grad\", \"11th\", \"Bachelors\", \"Masters…\n",
      "$ X5  \u001b[3m\u001b[90m<dbl>\u001b[39m\u001b[23m 13, 13, 9, 7, 13, 14, 5, 9, 14, 13, 10, 13, 13, 12, 11, 4, 9, 9, 7…\n",
      "$ X6  \u001b[3m\u001b[90m<chr>\u001b[39m\u001b[23m \"Never-married\", \"Married-civ-spouse\", \"Divorced\", \"Married-civ-sp…\n",
      "$ X7  \u001b[3m\u001b[90m<chr>\u001b[39m\u001b[23m \"Adm-clerical\", \"Exec-managerial\", \"Handlers-cleaners\", \"Handlers-…\n",
      "$ X8  \u001b[3m\u001b[90m<chr>\u001b[39m\u001b[23m \"Not-in-family\", \"Husband\", \"Not-in-family\", \"Husband\", \"Wife\", \"W…\n",
      "$ X9  \u001b[3m\u001b[90m<chr>\u001b[39m\u001b[23m \"White\", \"White\", \"White\", \"Black\", \"Black\", \"White\", \"Black\", \"Wh…\n",
      "$ X10 \u001b[3m\u001b[90m<chr>\u001b[39m\u001b[23m \"Male\", \"Male\", \"Male\", \"Male\", \"Female\", \"Female\", \"Female\", \"Mal…\n",
      "$ X11 \u001b[3m\u001b[90m<dbl>\u001b[39m\u001b[23m 2174, 0, 0, 0, 0, 0, 0, 0, 14084, 5178, 0, 0, 0, 0, 0, 0, 0, 0, 0,…\n",
      "$ X12 \u001b[3m\u001b[90m<dbl>\u001b[39m\u001b[23m 0, 0, 0, 0, 0, 0, 0, 0, 0, 0, 0, 0, 0, 0, 0, 0, 0, 0, 0, 0, 0, 0, …\n",
      "$ X13 \u001b[3m\u001b[90m<dbl>\u001b[39m\u001b[23m 40, 13, 40, 40, 40, 40, 16, 45, 50, 40, 80, 40, 30, 50, 40, 45, 35…\n",
      "$ X14 \u001b[3m\u001b[90m<chr>\u001b[39m\u001b[23m \"United-States\", \"United-States\", \"United-States\", \"United-States\"…\n",
      "$ X15 \u001b[3m\u001b[90m<chr>\u001b[39m\u001b[23m \"<=50K\", \"<=50K\", \"<=50K\", \"<=50K\", \"<=50K\", \"<=50K\", \"<=50K\", \">5…\n"
     ]
    }
   ],
   "source": [
    "glimpse(income_data)"
   ]
  },
  {
   "cell_type": "code",
   "execution_count": 4,
   "id": "48bc0174-7dce-4811-8404-b655f918da4f",
   "metadata": {},
   "outputs": [
    {
     "data": {
      "text/html": [
       "<style>\n",
       ".list-inline {list-style: none; margin:0; padding: 0}\n",
       ".list-inline>li {display: inline-block}\n",
       ".list-inline>li:not(:last-child)::after {content: \"\\00b7\"; padding: 0 .5ex}\n",
       "</style>\n",
       "<ol class=list-inline><li>32561</li><li>15</li></ol>\n"
      ],
      "text/latex": [
       "\\begin{enumerate*}\n",
       "\\item 32561\n",
       "\\item 15\n",
       "\\end{enumerate*}\n"
      ],
      "text/markdown": [
       "1. 32561\n",
       "2. 15\n",
       "\n",
       "\n"
      ],
      "text/plain": [
       "[1] 32561    15"
      ]
     },
     "metadata": {},
     "output_type": "display_data"
    }
   ],
   "source": [
    "# find data dimensions\n",
    "data_dimensions <- dim(income_data)\n",
    "data_dimensions"
   ]
  },
  {
   "cell_type": "code",
   "execution_count": 5,
   "id": "6a52b265-84e6-40a7-84ee-3444b312dac9",
   "metadata": {
    "tags": []
   },
   "outputs": [],
   "source": [
    "# Rename the columns\n",
    "colnames(income_data) <- c(\"age\",\"work_class\",\"final_weight\",\"education\",\"num_years_education\",\"marital_status\",\"occupation\",\"relationship\",\n",
    "                         \"race\",\"sex\",\"capital_gain\",\"capital_loss\",\"hours_per_week\",\"native_country\",\"income_above_50K\")"
   ]
  },
  {
   "cell_type": "code",
   "execution_count": 6,
   "id": "acfb3bc0-ed58-45c1-84d5-548cb65e9d88",
   "metadata": {
    "tags": []
   },
   "outputs": [
    {
     "data": {
      "text/plain": [
       "      age         work_class         final_weight      education        \n",
       " Min.   :17.00   Length:32561       Min.   :  12285   Length:32561      \n",
       " 1st Qu.:28.00   Class :character   1st Qu.: 117827   Class :character  \n",
       " Median :37.00   Mode  :character   Median : 178356   Mode  :character  \n",
       " Mean   :38.58                      Mean   : 189778                     \n",
       " 3rd Qu.:48.00                      3rd Qu.: 237051                     \n",
       " Max.   :90.00                      Max.   :1484705                     \n",
       " num_years_education marital_status      occupation        relationship      \n",
       " Min.   : 1.00       Length:32561       Length:32561       Length:32561      \n",
       " 1st Qu.: 9.00       Class :character   Class :character   Class :character  \n",
       " Median :10.00       Mode  :character   Mode  :character   Mode  :character  \n",
       " Mean   :10.08                                                               \n",
       " 3rd Qu.:12.00                                                               \n",
       " Max.   :16.00                                                               \n",
       "     race               sex             capital_gain    capital_loss   \n",
       " Length:32561       Length:32561       Min.   :    0   Min.   :   0.0  \n",
       " Class :character   Class :character   1st Qu.:    0   1st Qu.:   0.0  \n",
       " Mode  :character   Mode  :character   Median :    0   Median :   0.0  \n",
       "                                       Mean   : 1078   Mean   :  87.3  \n",
       "                                       3rd Qu.:    0   3rd Qu.:   0.0  \n",
       "                                       Max.   :99999   Max.   :4356.0  \n",
       " hours_per_week  native_country     income_above_50K  \n",
       " Min.   : 1.00   Length:32561       Length:32561      \n",
       " 1st Qu.:40.00   Class :character   Class :character  \n",
       " Median :40.00   Mode  :character   Mode  :character  \n",
       " Mean   :40.44                                        \n",
       " 3rd Qu.:45.00                                        \n",
       " Max.   :99.00                                        "
      ]
     },
     "metadata": {},
     "output_type": "display_data"
    }
   ],
   "source": [
    "# Explore data summary\n",
    "summary(income_data)"
   ]
  },
  {
   "cell_type": "code",
   "execution_count": 7,
   "id": "6cd43b55-b4b6-4e1c-90e1-7f061c1998db",
   "metadata": {
    "tags": []
   },
   "outputs": [],
   "source": [
    "# Replace unknown values with NA\n",
    "income_data[income_data == \"?\"] <- \"NA\""
   ]
  },
  {
   "cell_type": "code",
   "execution_count": 8,
   "id": "9aab3190-7e11-4ce5-af80-22895946d82e",
   "metadata": {},
   "outputs": [
    {
     "data": {
      "text/html": [
       "0"
      ],
      "text/latex": [
       "0"
      ],
      "text/markdown": [
       "0"
      ],
      "text/plain": [
       "[1] 0"
      ]
     },
     "metadata": {},
     "output_type": "display_data"
    }
   ],
   "source": [
    "# How many missing values are there in the dataset?\n",
    "sum(is.na(income_data))"
   ]
  },
  {
   "cell_type": "code",
   "execution_count": 9,
   "id": "9d086b15-096c-4f3f-a8b8-85b3c0778444",
   "metadata": {
    "tags": []
   },
   "outputs": [
    {
     "data": {
      "text/html": [
       "<table class=\"dataframe\">\n",
       "<caption>A tibble: 10 × 15</caption>\n",
       "<thead>\n",
       "\t<tr><th scope=col>age</th><th scope=col>work_class</th><th scope=col>final_weight</th><th scope=col>education</th><th scope=col>num_years_education</th><th scope=col>marital_status</th><th scope=col>occupation</th><th scope=col>relationship</th><th scope=col>race</th><th scope=col>sex</th><th scope=col>capital_gain</th><th scope=col>capital_loss</th><th scope=col>hours_per_week</th><th scope=col>native_country</th><th scope=col>income_above_50K</th></tr>\n",
       "\t<tr><th scope=col>&lt;dbl&gt;</th><th scope=col>&lt;chr&gt;</th><th scope=col>&lt;dbl&gt;</th><th scope=col>&lt;chr&gt;</th><th scope=col>&lt;dbl&gt;</th><th scope=col>&lt;chr&gt;</th><th scope=col>&lt;chr&gt;</th><th scope=col>&lt;chr&gt;</th><th scope=col>&lt;chr&gt;</th><th scope=col>&lt;chr&gt;</th><th scope=col>&lt;dbl&gt;</th><th scope=col>&lt;dbl&gt;</th><th scope=col>&lt;dbl&gt;</th><th scope=col>&lt;chr&gt;</th><th scope=col>&lt;dbl&gt;</th></tr>\n",
       "</thead>\n",
       "<tbody>\n",
       "\t<tr><td>39</td><td>State-gov       </td><td> 77516</td><td>Bachelors</td><td>13</td><td>Never-married        </td><td>Adm-clerical     </td><td>Not-in-family</td><td>White</td><td>Male  </td><td> 2174</td><td>0</td><td>40</td><td>United-States</td><td>1</td></tr>\n",
       "\t<tr><td>50</td><td>Self-emp-not-inc</td><td> 83311</td><td>Bachelors</td><td>13</td><td>Married-civ-spouse   </td><td>Exec-managerial  </td><td>Husband      </td><td>White</td><td>Male  </td><td>    0</td><td>0</td><td>13</td><td>United-States</td><td>1</td></tr>\n",
       "\t<tr><td>38</td><td>Private         </td><td>215646</td><td>HS-grad  </td><td> 9</td><td>Divorced             </td><td>Handlers-cleaners</td><td>Not-in-family</td><td>White</td><td>Male  </td><td>    0</td><td>0</td><td>40</td><td>United-States</td><td>1</td></tr>\n",
       "\t<tr><td>53</td><td>Private         </td><td>234721</td><td>11th     </td><td> 7</td><td>Married-civ-spouse   </td><td>Handlers-cleaners</td><td>Husband      </td><td>Black</td><td>Male  </td><td>    0</td><td>0</td><td>40</td><td>United-States</td><td>1</td></tr>\n",
       "\t<tr><td>28</td><td>Private         </td><td>338409</td><td>Bachelors</td><td>13</td><td>Married-civ-spouse   </td><td>Prof-specialty   </td><td>Wife         </td><td>Black</td><td>Female</td><td>    0</td><td>0</td><td>40</td><td>Cuba         </td><td>1</td></tr>\n",
       "\t<tr><td>37</td><td>Private         </td><td>284582</td><td>Masters  </td><td>14</td><td>Married-civ-spouse   </td><td>Exec-managerial  </td><td>Wife         </td><td>White</td><td>Female</td><td>    0</td><td>0</td><td>40</td><td>United-States</td><td>1</td></tr>\n",
       "\t<tr><td>49</td><td>Private         </td><td>160187</td><td>9th      </td><td> 5</td><td>Married-spouse-absent</td><td>Other-service    </td><td>Not-in-family</td><td>Black</td><td>Female</td><td>    0</td><td>0</td><td>16</td><td>Jamaica      </td><td>1</td></tr>\n",
       "\t<tr><td>52</td><td>Self-emp-not-inc</td><td>209642</td><td>HS-grad  </td><td> 9</td><td>Married-civ-spouse   </td><td>Exec-managerial  </td><td>Husband      </td><td>White</td><td>Male  </td><td>    0</td><td>0</td><td>45</td><td>United-States</td><td>0</td></tr>\n",
       "\t<tr><td>31</td><td>Private         </td><td> 45781</td><td>Masters  </td><td>14</td><td>Never-married        </td><td>Prof-specialty   </td><td>Not-in-family</td><td>White</td><td>Female</td><td>14084</td><td>0</td><td>50</td><td>United-States</td><td>0</td></tr>\n",
       "\t<tr><td>42</td><td>Private         </td><td>159449</td><td>Bachelors</td><td>13</td><td>Married-civ-spouse   </td><td>Exec-managerial  </td><td>Husband      </td><td>White</td><td>Male  </td><td> 5178</td><td>0</td><td>40</td><td>United-States</td><td>0</td></tr>\n",
       "</tbody>\n",
       "</table>\n"
      ],
      "text/latex": [
       "A tibble: 10 × 15\n",
       "\\begin{tabular}{lllllllllllllll}\n",
       " age & work\\_class & final\\_weight & education & num\\_years\\_education & marital\\_status & occupation & relationship & race & sex & capital\\_gain & capital\\_loss & hours\\_per\\_week & native\\_country & income\\_above\\_50K\\\\\n",
       " <dbl> & <chr> & <dbl> & <chr> & <dbl> & <chr> & <chr> & <chr> & <chr> & <chr> & <dbl> & <dbl> & <dbl> & <chr> & <dbl>\\\\\n",
       "\\hline\n",
       "\t 39 & State-gov        &  77516 & Bachelors & 13 & Never-married         & Adm-clerical      & Not-in-family & White & Male   &  2174 & 0 & 40 & United-States & 1\\\\\n",
       "\t 50 & Self-emp-not-inc &  83311 & Bachelors & 13 & Married-civ-spouse    & Exec-managerial   & Husband       & White & Male   &     0 & 0 & 13 & United-States & 1\\\\\n",
       "\t 38 & Private          & 215646 & HS-grad   &  9 & Divorced              & Handlers-cleaners & Not-in-family & White & Male   &     0 & 0 & 40 & United-States & 1\\\\\n",
       "\t 53 & Private          & 234721 & 11th      &  7 & Married-civ-spouse    & Handlers-cleaners & Husband       & Black & Male   &     0 & 0 & 40 & United-States & 1\\\\\n",
       "\t 28 & Private          & 338409 & Bachelors & 13 & Married-civ-spouse    & Prof-specialty    & Wife          & Black & Female &     0 & 0 & 40 & Cuba          & 1\\\\\n",
       "\t 37 & Private          & 284582 & Masters   & 14 & Married-civ-spouse    & Exec-managerial   & Wife          & White & Female &     0 & 0 & 40 & United-States & 1\\\\\n",
       "\t 49 & Private          & 160187 & 9th       &  5 & Married-spouse-absent & Other-service     & Not-in-family & Black & Female &     0 & 0 & 16 & Jamaica       & 1\\\\\n",
       "\t 52 & Self-emp-not-inc & 209642 & HS-grad   &  9 & Married-civ-spouse    & Exec-managerial   & Husband       & White & Male   &     0 & 0 & 45 & United-States & 0\\\\\n",
       "\t 31 & Private          &  45781 & Masters   & 14 & Never-married         & Prof-specialty    & Not-in-family & White & Female & 14084 & 0 & 50 & United-States & 0\\\\\n",
       "\t 42 & Private          & 159449 & Bachelors & 13 & Married-civ-spouse    & Exec-managerial   & Husband       & White & Male   &  5178 & 0 & 40 & United-States & 0\\\\\n",
       "\\end{tabular}\n"
      ],
      "text/markdown": [
       "\n",
       "A tibble: 10 × 15\n",
       "\n",
       "| age &lt;dbl&gt; | work_class &lt;chr&gt; | final_weight &lt;dbl&gt; | education &lt;chr&gt; | num_years_education &lt;dbl&gt; | marital_status &lt;chr&gt; | occupation &lt;chr&gt; | relationship &lt;chr&gt; | race &lt;chr&gt; | sex &lt;chr&gt; | capital_gain &lt;dbl&gt; | capital_loss &lt;dbl&gt; | hours_per_week &lt;dbl&gt; | native_country &lt;chr&gt; | income_above_50K &lt;dbl&gt; |\n",
       "|---|---|---|---|---|---|---|---|---|---|---|---|---|---|---|\n",
       "| 39 | State-gov        |  77516 | Bachelors | 13 | Never-married         | Adm-clerical      | Not-in-family | White | Male   |  2174 | 0 | 40 | United-States | 1 |\n",
       "| 50 | Self-emp-not-inc |  83311 | Bachelors | 13 | Married-civ-spouse    | Exec-managerial   | Husband       | White | Male   |     0 | 0 | 13 | United-States | 1 |\n",
       "| 38 | Private          | 215646 | HS-grad   |  9 | Divorced              | Handlers-cleaners | Not-in-family | White | Male   |     0 | 0 | 40 | United-States | 1 |\n",
       "| 53 | Private          | 234721 | 11th      |  7 | Married-civ-spouse    | Handlers-cleaners | Husband       | Black | Male   |     0 | 0 | 40 | United-States | 1 |\n",
       "| 28 | Private          | 338409 | Bachelors | 13 | Married-civ-spouse    | Prof-specialty    | Wife          | Black | Female |     0 | 0 | 40 | Cuba          | 1 |\n",
       "| 37 | Private          | 284582 | Masters   | 14 | Married-civ-spouse    | Exec-managerial   | Wife          | White | Female |     0 | 0 | 40 | United-States | 1 |\n",
       "| 49 | Private          | 160187 | 9th       |  5 | Married-spouse-absent | Other-service     | Not-in-family | Black | Female |     0 | 0 | 16 | Jamaica       | 1 |\n",
       "| 52 | Self-emp-not-inc | 209642 | HS-grad   |  9 | Married-civ-spouse    | Exec-managerial   | Husband       | White | Male   |     0 | 0 | 45 | United-States | 0 |\n",
       "| 31 | Private          |  45781 | Masters   | 14 | Never-married         | Prof-specialty    | Not-in-family | White | Female | 14084 | 0 | 50 | United-States | 0 |\n",
       "| 42 | Private          | 159449 | Bachelors | 13 | Married-civ-spouse    | Exec-managerial   | Husband       | White | Male   |  5178 | 0 | 40 | United-States | 0 |\n",
       "\n"
      ],
      "text/plain": [
       "   age work_class       final_weight education num_years_education\n",
       "1  39  State-gov         77516       Bachelors 13                 \n",
       "2  50  Self-emp-not-inc  83311       Bachelors 13                 \n",
       "3  38  Private          215646       HS-grad    9                 \n",
       "4  53  Private          234721       11th       7                 \n",
       "5  28  Private          338409       Bachelors 13                 \n",
       "6  37  Private          284582       Masters   14                 \n",
       "7  49  Private          160187       9th        5                 \n",
       "8  52  Self-emp-not-inc 209642       HS-grad    9                 \n",
       "9  31  Private           45781       Masters   14                 \n",
       "10 42  Private          159449       Bachelors 13                 \n",
       "   marital_status        occupation        relationship  race  sex   \n",
       "1  Never-married         Adm-clerical      Not-in-family White Male  \n",
       "2  Married-civ-spouse    Exec-managerial   Husband       White Male  \n",
       "3  Divorced              Handlers-cleaners Not-in-family White Male  \n",
       "4  Married-civ-spouse    Handlers-cleaners Husband       Black Male  \n",
       "5  Married-civ-spouse    Prof-specialty    Wife          Black Female\n",
       "6  Married-civ-spouse    Exec-managerial   Wife          White Female\n",
       "7  Married-spouse-absent Other-service     Not-in-family Black Female\n",
       "8  Married-civ-spouse    Exec-managerial   Husband       White Male  \n",
       "9  Never-married         Prof-specialty    Not-in-family White Female\n",
       "10 Married-civ-spouse    Exec-managerial   Husband       White Male  \n",
       "   capital_gain capital_loss hours_per_week native_country income_above_50K\n",
       "1   2174        0            40             United-States  1               \n",
       "2      0        0            13             United-States  1               \n",
       "3      0        0            40             United-States  1               \n",
       "4      0        0            40             United-States  1               \n",
       "5      0        0            40             Cuba           1               \n",
       "6      0        0            40             United-States  1               \n",
       "7      0        0            16             Jamaica        1               \n",
       "8      0        0            45             United-States  0               \n",
       "9  14084        0            50             United-States  0               \n",
       "10  5178        0            40             United-States  0               "
      ]
     },
     "metadata": {},
     "output_type": "display_data"
    }
   ],
   "source": [
    "# change income_above_50K column to binary\n",
    "\n",
    "income_data[\"income_above_50K\"][income_data[\"income_above_50K\"] == \">50K\"] <- \"0\"\n",
    "income_data[\"income_above_50K\"][income_data[\"income_above_50K\"] == \"<=50K\"] <- \"1\"\n",
    "income_data$income_above_50K <- as.numeric(as.character(income_data$income_above_50K))\n",
    "\n",
    "head(income_data, 10)"
   ]
  },
  {
   "cell_type": "code",
   "execution_count": 10,
   "id": "70e1124d-e6eb-46c3-a56f-c9058ced9d9a",
   "metadata": {
    "tags": []
   },
   "outputs": [
    {
     "data": {
      "text/html": [
       "<dl>\n",
       "\t<dt>$age</dt>\n",
       "\t\t<dd>'numeric'</dd>\n",
       "\t<dt>$work_class</dt>\n",
       "\t\t<dd>'character'</dd>\n",
       "\t<dt>$final_weight</dt>\n",
       "\t\t<dd>'numeric'</dd>\n",
       "\t<dt>$education</dt>\n",
       "\t\t<dd>'character'</dd>\n",
       "\t<dt>$num_years_education</dt>\n",
       "\t\t<dd>'numeric'</dd>\n",
       "\t<dt>$marital_status</dt>\n",
       "\t\t<dd>'character'</dd>\n",
       "\t<dt>$occupation</dt>\n",
       "\t\t<dd>'character'</dd>\n",
       "\t<dt>$relationship</dt>\n",
       "\t\t<dd>'character'</dd>\n",
       "\t<dt>$race</dt>\n",
       "\t\t<dd>'character'</dd>\n",
       "\t<dt>$sex</dt>\n",
       "\t\t<dd>'character'</dd>\n",
       "\t<dt>$capital_gain</dt>\n",
       "\t\t<dd>'numeric'</dd>\n",
       "\t<dt>$capital_loss</dt>\n",
       "\t\t<dd>'numeric'</dd>\n",
       "\t<dt>$hours_per_week</dt>\n",
       "\t\t<dd>'numeric'</dd>\n",
       "\t<dt>$native_country</dt>\n",
       "\t\t<dd>'character'</dd>\n",
       "\t<dt>$income_above_50K</dt>\n",
       "\t\t<dd>'numeric'</dd>\n",
       "</dl>\n"
      ],
      "text/latex": [
       "\\begin{description}\n",
       "\\item[\\$age] 'numeric'\n",
       "\\item[\\$work\\_class] 'character'\n",
       "\\item[\\$final\\_weight] 'numeric'\n",
       "\\item[\\$education] 'character'\n",
       "\\item[\\$num\\_years\\_education] 'numeric'\n",
       "\\item[\\$marital\\_status] 'character'\n",
       "\\item[\\$occupation] 'character'\n",
       "\\item[\\$relationship] 'character'\n",
       "\\item[\\$race] 'character'\n",
       "\\item[\\$sex] 'character'\n",
       "\\item[\\$capital\\_gain] 'numeric'\n",
       "\\item[\\$capital\\_loss] 'numeric'\n",
       "\\item[\\$hours\\_per\\_week] 'numeric'\n",
       "\\item[\\$native\\_country] 'character'\n",
       "\\item[\\$income\\_above\\_50K] 'numeric'\n",
       "\\end{description}\n"
      ],
      "text/markdown": [
       "$age\n",
       ":   'numeric'\n",
       "$work_class\n",
       ":   'character'\n",
       "$final_weight\n",
       ":   'numeric'\n",
       "$education\n",
       ":   'character'\n",
       "$num_years_education\n",
       ":   'numeric'\n",
       "$marital_status\n",
       ":   'character'\n",
       "$occupation\n",
       ":   'character'\n",
       "$relationship\n",
       ":   'character'\n",
       "$race\n",
       ":   'character'\n",
       "$sex\n",
       ":   'character'\n",
       "$capital_gain\n",
       ":   'numeric'\n",
       "$capital_loss\n",
       ":   'numeric'\n",
       "$hours_per_week\n",
       ":   'numeric'\n",
       "$native_country\n",
       ":   'character'\n",
       "$income_above_50K\n",
       ":   'numeric'\n",
       "\n",
       "\n"
      ],
      "text/plain": [
       "$age\n",
       "[1] \"numeric\"\n",
       "\n",
       "$work_class\n",
       "[1] \"character\"\n",
       "\n",
       "$final_weight\n",
       "[1] \"numeric\"\n",
       "\n",
       "$education\n",
       "[1] \"character\"\n",
       "\n",
       "$num_years_education\n",
       "[1] \"numeric\"\n",
       "\n",
       "$marital_status\n",
       "[1] \"character\"\n",
       "\n",
       "$occupation\n",
       "[1] \"character\"\n",
       "\n",
       "$relationship\n",
       "[1] \"character\"\n",
       "\n",
       "$race\n",
       "[1] \"character\"\n",
       "\n",
       "$sex\n",
       "[1] \"character\"\n",
       "\n",
       "$capital_gain\n",
       "[1] \"numeric\"\n",
       "\n",
       "$capital_loss\n",
       "[1] \"numeric\"\n",
       "\n",
       "$hours_per_week\n",
       "[1] \"numeric\"\n",
       "\n",
       "$native_country\n",
       "[1] \"character\"\n",
       "\n",
       "$income_above_50K\n",
       "[1] \"numeric\"\n"
      ]
     },
     "metadata": {},
     "output_type": "display_data"
    }
   ],
   "source": [
    "# find the class of each variable\n",
    "lapply(income_data, class)"
   ]
  },
  {
   "cell_type": "code",
   "execution_count": 11,
   "id": "cc639c0a-2140-4659-8348-65edc0157716",
   "metadata": {
    "tags": []
   },
   "outputs": [
    {
     "data": {
      "text/html": [
       "<table class=\"dataframe\">\n",
       "<caption>A tibble: 3 × 15</caption>\n",
       "<thead>\n",
       "\t<tr><th scope=col>age</th><th scope=col>work_class</th><th scope=col>final_weight</th><th scope=col>education</th><th scope=col>num_years_education</th><th scope=col>marital_status</th><th scope=col>occupation</th><th scope=col>relationship</th><th scope=col>race</th><th scope=col>sex</th><th scope=col>capital_gain</th><th scope=col>capital_loss</th><th scope=col>hours_per_week</th><th scope=col>native_country</th><th scope=col>income_above_50K</th></tr>\n",
       "\t<tr><th scope=col>&lt;dbl&gt;</th><th scope=col>&lt;chr&gt;</th><th scope=col>&lt;dbl&gt;</th><th scope=col>&lt;chr&gt;</th><th scope=col>&lt;dbl&gt;</th><th scope=col>&lt;chr&gt;</th><th scope=col>&lt;chr&gt;</th><th scope=col>&lt;chr&gt;</th><th scope=col>&lt;chr&gt;</th><th scope=col>&lt;chr&gt;</th><th scope=col>&lt;dbl&gt;</th><th scope=col>&lt;dbl&gt;</th><th scope=col>&lt;dbl&gt;</th><th scope=col>&lt;chr&gt;</th><th scope=col>&lt;dbl&gt;</th></tr>\n",
       "</thead>\n",
       "<tbody>\n",
       "\t<tr><td>39</td><td>State-gov       </td><td> 77516</td><td>Bachelors</td><td>13</td><td>Never-married     </td><td>Adm-clerical     </td><td>Not-in-family</td><td>White</td><td>Male</td><td>2174</td><td>0</td><td>40</td><td>United-States</td><td>1</td></tr>\n",
       "\t<tr><td>50</td><td>Self-emp-not-inc</td><td> 83311</td><td>Bachelors</td><td>13</td><td>Married-civ-spouse</td><td>Exec-managerial  </td><td>Husband      </td><td>White</td><td>Male</td><td>   0</td><td>0</td><td>13</td><td>United-States</td><td>1</td></tr>\n",
       "\t<tr><td>38</td><td>Private         </td><td>215646</td><td>HS-grad  </td><td> 9</td><td>Divorced          </td><td>Handlers-cleaners</td><td>Not-in-family</td><td>White</td><td>Male</td><td>   0</td><td>0</td><td>40</td><td>United-States</td><td>1</td></tr>\n",
       "</tbody>\n",
       "</table>\n"
      ],
      "text/latex": [
       "A tibble: 3 × 15\n",
       "\\begin{tabular}{lllllllllllllll}\n",
       " age & work\\_class & final\\_weight & education & num\\_years\\_education & marital\\_status & occupation & relationship & race & sex & capital\\_gain & capital\\_loss & hours\\_per\\_week & native\\_country & income\\_above\\_50K\\\\\n",
       " <dbl> & <chr> & <dbl> & <chr> & <dbl> & <chr> & <chr> & <chr> & <chr> & <chr> & <dbl> & <dbl> & <dbl> & <chr> & <dbl>\\\\\n",
       "\\hline\n",
       "\t 39 & State-gov        &  77516 & Bachelors & 13 & Never-married      & Adm-clerical      & Not-in-family & White & Male & 2174 & 0 & 40 & United-States & 1\\\\\n",
       "\t 50 & Self-emp-not-inc &  83311 & Bachelors & 13 & Married-civ-spouse & Exec-managerial   & Husband       & White & Male &    0 & 0 & 13 & United-States & 1\\\\\n",
       "\t 38 & Private          & 215646 & HS-grad   &  9 & Divorced           & Handlers-cleaners & Not-in-family & White & Male &    0 & 0 & 40 & United-States & 1\\\\\n",
       "\\end{tabular}\n"
      ],
      "text/markdown": [
       "\n",
       "A tibble: 3 × 15\n",
       "\n",
       "| age &lt;dbl&gt; | work_class &lt;chr&gt; | final_weight &lt;dbl&gt; | education &lt;chr&gt; | num_years_education &lt;dbl&gt; | marital_status &lt;chr&gt; | occupation &lt;chr&gt; | relationship &lt;chr&gt; | race &lt;chr&gt; | sex &lt;chr&gt; | capital_gain &lt;dbl&gt; | capital_loss &lt;dbl&gt; | hours_per_week &lt;dbl&gt; | native_country &lt;chr&gt; | income_above_50K &lt;dbl&gt; |\n",
       "|---|---|---|---|---|---|---|---|---|---|---|---|---|---|---|\n",
       "| 39 | State-gov        |  77516 | Bachelors | 13 | Never-married      | Adm-clerical      | Not-in-family | White | Male | 2174 | 0 | 40 | United-States | 1 |\n",
       "| 50 | Self-emp-not-inc |  83311 | Bachelors | 13 | Married-civ-spouse | Exec-managerial   | Husband       | White | Male |    0 | 0 | 13 | United-States | 1 |\n",
       "| 38 | Private          | 215646 | HS-grad   |  9 | Divorced           | Handlers-cleaners | Not-in-family | White | Male |    0 | 0 | 40 | United-States | 1 |\n",
       "\n"
      ],
      "text/plain": [
       "  age work_class       final_weight education num_years_education\n",
       "1 39  State-gov         77516       Bachelors 13                 \n",
       "2 50  Self-emp-not-inc  83311       Bachelors 13                 \n",
       "3 38  Private          215646       HS-grad    9                 \n",
       "  marital_status     occupation        relationship  race  sex  capital_gain\n",
       "1 Never-married      Adm-clerical      Not-in-family White Male 2174        \n",
       "2 Married-civ-spouse Exec-managerial   Husband       White Male    0        \n",
       "3 Divorced           Handlers-cleaners Not-in-family White Male    0        \n",
       "  capital_loss hours_per_week native_country income_above_50K\n",
       "1 0            40             United-States  1               \n",
       "2 0            13             United-States  1               \n",
       "3 0            40             United-States  1               "
      ]
     },
     "metadata": {},
     "output_type": "display_data"
    }
   ],
   "source": [
    "# Get rid of empty data/missing values\n",
    "income_data_clean <- income_data |>\n",
    "    remove_empty(whic=c(\"rows\")) |>\n",
    "    remove_empty(whic=c(\"cols\"))\n",
    "head(income_data_clean, 3)"
   ]
  },
  {
   "cell_type": "markdown",
   "id": "2d403b2d-e0ae-4beb-823b-87e866428def",
   "metadata": {},
   "source": [
    "We created tables with count and  frequency data for each catrgorical variable, and then used these tables to make graphs. We hoped this would help us determine which categorical variables are suitable for further analysis. "
   ]
  },
  {
   "cell_type": "code",
   "execution_count": 12,
   "id": "ce8ce9e7-4c3c-465f-8cda-95360502da0c",
   "metadata": {
    "tags": []
   },
   "outputs": [],
   "source": [
    "# create vectors of categorical data\n",
    "\n",
    "work_class_vector <- income_data$work_class\n",
    "education_vector <- income_data$education\n",
    "marital_status_vector <- income_data$marital_status\n",
    "occupation_vector <- income_data$occupation\n",
    "relationship_vector <- income_data$relationship\n",
    "race_vector <- income_data$race\n",
    "sex_vector <- income_data$sex\n",
    "native_country_vector <- income_data$native_country\n",
    "income_above_50K_vector <- income_data$income_above_50K"
   ]
  },
  {
   "cell_type": "code",
   "execution_count": 13,
   "id": "cd8cd92a-3e32-4e18-98fc-b6cbfea5295f",
   "metadata": {
    "tags": []
   },
   "outputs": [
    {
     "data": {
      "text/html": [
       "<table class=\"dataframe\">\n",
       "<caption>A data.frame: 9 × 2</caption>\n",
       "<thead>\n",
       "\t<tr><th scope=col>work_class_vector</th><th scope=col>Freq</th></tr>\n",
       "\t<tr><th scope=col>&lt;fct&gt;</th><th scope=col>&lt;int&gt;</th></tr>\n",
       "</thead>\n",
       "<tbody>\n",
       "\t<tr><td>Federal-gov     </td><td>  960</td></tr>\n",
       "\t<tr><td>Local-gov       </td><td> 2093</td></tr>\n",
       "\t<tr><td>NA              </td><td> 1836</td></tr>\n",
       "\t<tr><td>Never-worked    </td><td>    7</td></tr>\n",
       "\t<tr><td>Private         </td><td>22696</td></tr>\n",
       "\t<tr><td>Self-emp-inc    </td><td> 1116</td></tr>\n",
       "\t<tr><td>Self-emp-not-inc</td><td> 2541</td></tr>\n",
       "\t<tr><td>State-gov       </td><td> 1298</td></tr>\n",
       "\t<tr><td>Without-pay     </td><td>   14</td></tr>\n",
       "</tbody>\n",
       "</table>\n"
      ],
      "text/latex": [
       "A data.frame: 9 × 2\n",
       "\\begin{tabular}{ll}\n",
       " work\\_class\\_vector & Freq\\\\\n",
       " <fct> & <int>\\\\\n",
       "\\hline\n",
       "\t Federal-gov      &   960\\\\\n",
       "\t Local-gov        &  2093\\\\\n",
       "\t NA               &  1836\\\\\n",
       "\t Never-worked     &     7\\\\\n",
       "\t Private          & 22696\\\\\n",
       "\t Self-emp-inc     &  1116\\\\\n",
       "\t Self-emp-not-inc &  2541\\\\\n",
       "\t State-gov        &  1298\\\\\n",
       "\t Without-pay      &    14\\\\\n",
       "\\end{tabular}\n"
      ],
      "text/markdown": [
       "\n",
       "A data.frame: 9 × 2\n",
       "\n",
       "| work_class_vector &lt;fct&gt; | Freq &lt;int&gt; |\n",
       "|---|---|\n",
       "| Federal-gov      |   960 |\n",
       "| Local-gov        |  2093 |\n",
       "| NA               |  1836 |\n",
       "| Never-worked     |     7 |\n",
       "| Private          | 22696 |\n",
       "| Self-emp-inc     |  1116 |\n",
       "| Self-emp-not-inc |  2541 |\n",
       "| State-gov        |  1298 |\n",
       "| Without-pay      |    14 |\n",
       "\n"
      ],
      "text/plain": [
       "  work_class_vector Freq \n",
       "1 Federal-gov         960\n",
       "2 Local-gov          2093\n",
       "3 NA                 1836\n",
       "4 Never-worked          7\n",
       "5 Private           22696\n",
       "6 Self-emp-inc       1116\n",
       "7 Self-emp-not-inc   2541\n",
       "8 State-gov          1298\n",
       "9 Without-pay          14"
      ]
     },
     "metadata": {},
     "output_type": "display_data"
    },
    {
     "data": {
      "text/html": [
       "9"
      ],
      "text/latex": [
       "9"
      ],
      "text/markdown": [
       "9"
      ],
      "text/plain": [
       "[1] 9"
      ]
     },
     "metadata": {},
     "output_type": "display_data"
    },
    {
     "data": {
      "image/png": "[encoded data removed]",
      "text/plain": [
       "plot without title"
      ]
     },
     "metadata": {
      "image/png": {
       "height": 420,
       "width": 420
      }
     },
     "output_type": "display_data"
    }
   ],
   "source": [
    "# Work_class\n",
    "\n",
    "work_class_count <- as.data.frame(table(work_class_vector))\n",
    "work_class_count\n",
    "nrow(work_class_count)\n",
    "\n",
    "work_class_graph <- ggplot(work_class_count, aes(x = work_class_vector, y = Freq, fill = work_class_vector)) +\n",
    "    geom_bar(stat = \"identity\") +\n",
    "    labs(x = \"Work Class (vectorized)\", y = \"Frequency\")\n",
    "work_class_graph"
   ]
  },
  {
   "cell_type": "code",
   "execution_count": 14,
   "id": "beebdbe1-c05b-4622-825d-2b021955a4d9",
   "metadata": {
    "tags": []
   },
   "outputs": [
    {
     "data": {
      "text/html": [
       "<table class=\"dataframe\">\n",
       "<caption>A data.frame: 16 × 2</caption>\n",
       "<thead>\n",
       "\t<tr><th scope=col>education_vector</th><th scope=col>Freq</th></tr>\n",
       "\t<tr><th scope=col>&lt;fct&gt;</th><th scope=col>&lt;int&gt;</th></tr>\n",
       "</thead>\n",
       "<tbody>\n",
       "\t<tr><td>10th        </td><td>  933</td></tr>\n",
       "\t<tr><td>11th        </td><td> 1175</td></tr>\n",
       "\t<tr><td>12th        </td><td>  433</td></tr>\n",
       "\t<tr><td>1st-4th     </td><td>  168</td></tr>\n",
       "\t<tr><td>5th-6th     </td><td>  333</td></tr>\n",
       "\t<tr><td>7th-8th     </td><td>  646</td></tr>\n",
       "\t<tr><td>9th         </td><td>  514</td></tr>\n",
       "\t<tr><td>Assoc-acdm  </td><td> 1067</td></tr>\n",
       "\t<tr><td>Assoc-voc   </td><td> 1382</td></tr>\n",
       "\t<tr><td>Bachelors   </td><td> 5355</td></tr>\n",
       "\t<tr><td>Doctorate   </td><td>  413</td></tr>\n",
       "\t<tr><td>HS-grad     </td><td>10501</td></tr>\n",
       "\t<tr><td>Masters     </td><td> 1723</td></tr>\n",
       "\t<tr><td>Preschool   </td><td>   51</td></tr>\n",
       "\t<tr><td>Prof-school </td><td>  576</td></tr>\n",
       "\t<tr><td>Some-college</td><td> 7291</td></tr>\n",
       "</tbody>\n",
       "</table>\n"
      ],
      "text/latex": [
       "A data.frame: 16 × 2\n",
       "\\begin{tabular}{ll}\n",
       " education\\_vector & Freq\\\\\n",
       " <fct> & <int>\\\\\n",
       "\\hline\n",
       "\t 10th         &   933\\\\\n",
       "\t 11th         &  1175\\\\\n",
       "\t 12th         &   433\\\\\n",
       "\t 1st-4th      &   168\\\\\n",
       "\t 5th-6th      &   333\\\\\n",
       "\t 7th-8th      &   646\\\\\n",
       "\t 9th          &   514\\\\\n",
       "\t Assoc-acdm   &  1067\\\\\n",
       "\t Assoc-voc    &  1382\\\\\n",
       "\t Bachelors    &  5355\\\\\n",
       "\t Doctorate    &   413\\\\\n",
       "\t HS-grad      & 10501\\\\\n",
       "\t Masters      &  1723\\\\\n",
       "\t Preschool    &    51\\\\\n",
       "\t Prof-school  &   576\\\\\n",
       "\t Some-college &  7291\\\\\n",
       "\\end{tabular}\n"
      ],
      "text/markdown": [
       "\n",
       "A data.frame: 16 × 2\n",
       "\n",
       "| education_vector &lt;fct&gt; | Freq &lt;int&gt; |\n",
       "|---|---|\n",
       "| 10th         |   933 |\n",
       "| 11th         |  1175 |\n",
       "| 12th         |   433 |\n",
       "| 1st-4th      |   168 |\n",
       "| 5th-6th      |   333 |\n",
       "| 7th-8th      |   646 |\n",
       "| 9th          |   514 |\n",
       "| Assoc-acdm   |  1067 |\n",
       "| Assoc-voc    |  1382 |\n",
       "| Bachelors    |  5355 |\n",
       "| Doctorate    |   413 |\n",
       "| HS-grad      | 10501 |\n",
       "| Masters      |  1723 |\n",
       "| Preschool    |    51 |\n",
       "| Prof-school  |   576 |\n",
       "| Some-college |  7291 |\n",
       "\n"
      ],
      "text/plain": [
       "   education_vector Freq \n",
       "1  10th               933\n",
       "2  11th              1175\n",
       "3  12th               433\n",
       "4  1st-4th            168\n",
       "5  5th-6th            333\n",
       "6  7th-8th            646\n",
       "7  9th                514\n",
       "8  Assoc-acdm        1067\n",
       "9  Assoc-voc         1382\n",
       "10 Bachelors         5355\n",
       "11 Doctorate          413\n",
       "12 HS-grad          10501\n",
       "13 Masters           1723\n",
       "14 Preschool           51\n",
       "15 Prof-school        576\n",
       "16 Some-college      7291"
      ]
     },
     "metadata": {},
     "output_type": "display_data"
    },
    {
     "data": {
      "text/html": [
       "16"
      ],
      "text/latex": [
       "16"
      ],
      "text/markdown": [
       "16"
      ],
      "text/plain": [
       "[1] 16"
      ]
     },
     "metadata": {},
     "output_type": "display_data"
    },
    {
     "data": {
      "image/png": "[encoded data removed]",
      "text/plain": [
       "plot without title"
      ]
     },
     "metadata": {
      "image/png": {
       "height": 420,
       "width": 420
      }
     },
     "output_type": "display_data"
    }
   ],
   "source": [
    "# Education\n",
    "\n",
    "education_count <- as.data.frame(table(education_vector))\n",
    "education_count\n",
    "nrow(education_count)\n",
    "\n",
    "education_graph <- ggplot(education_count, aes(x = education_vector, y = Freq, fill = education_vector)) +\n",
    "    geom_bar(stat = \"identity\") +\n",
    "    labs(x = \"education (vectorized)\", y = \"Frequency\")\n",
    "education_graph"
   ]
  },
  {
   "cell_type": "code",
   "execution_count": 15,
   "id": "fac93a6e-0432-40b2-b236-d00af81ef807",
   "metadata": {
    "tags": []
   },
   "outputs": [
    {
     "data": {
      "text/html": [
       "<table class=\"dataframe\">\n",
       "<caption>A data.frame: 7 × 2</caption>\n",
       "<thead>\n",
       "\t<tr><th scope=col>marital_status_vector</th><th scope=col>Freq</th></tr>\n",
       "\t<tr><th scope=col>&lt;fct&gt;</th><th scope=col>&lt;int&gt;</th></tr>\n",
       "</thead>\n",
       "<tbody>\n",
       "\t<tr><td>Divorced             </td><td> 4443</td></tr>\n",
       "\t<tr><td>Married-AF-spouse    </td><td>   23</td></tr>\n",
       "\t<tr><td>Married-civ-spouse   </td><td>14976</td></tr>\n",
       "\t<tr><td>Married-spouse-absent</td><td>  418</td></tr>\n",
       "\t<tr><td>Never-married        </td><td>10683</td></tr>\n",
       "\t<tr><td>Separated            </td><td> 1025</td></tr>\n",
       "\t<tr><td>Widowed              </td><td>  993</td></tr>\n",
       "</tbody>\n",
       "</table>\n"
      ],
      "text/latex": [
       "A data.frame: 7 × 2\n",
       "\\begin{tabular}{ll}\n",
       " marital\\_status\\_vector & Freq\\\\\n",
       " <fct> & <int>\\\\\n",
       "\\hline\n",
       "\t Divorced              &  4443\\\\\n",
       "\t Married-AF-spouse     &    23\\\\\n",
       "\t Married-civ-spouse    & 14976\\\\\n",
       "\t Married-spouse-absent &   418\\\\\n",
       "\t Never-married         & 10683\\\\\n",
       "\t Separated             &  1025\\\\\n",
       "\t Widowed               &   993\\\\\n",
       "\\end{tabular}\n"
      ],
      "text/markdown": [
       "\n",
       "A data.frame: 7 × 2\n",
       "\n",
       "| marital_status_vector &lt;fct&gt; | Freq &lt;int&gt; |\n",
       "|---|---|\n",
       "| Divorced              |  4443 |\n",
       "| Married-AF-spouse     |    23 |\n",
       "| Married-civ-spouse    | 14976 |\n",
       "| Married-spouse-absent |   418 |\n",
       "| Never-married         | 10683 |\n",
       "| Separated             |  1025 |\n",
       "| Widowed               |   993 |\n",
       "\n"
      ],
      "text/plain": [
       "  marital_status_vector Freq \n",
       "1 Divorced               4443\n",
       "2 Married-AF-spouse        23\n",
       "3 Married-civ-spouse    14976\n",
       "4 Married-spouse-absent   418\n",
       "5 Never-married         10683\n",
       "6 Separated              1025\n",
       "7 Widowed                 993"
      ]
     },
     "metadata": {},
     "output_type": "display_data"
    },
    {
     "data": {
      "text/html": [
       "7"
      ],
      "text/latex": [
       "7"
      ],
      "text/markdown": [
       "7"
      ],
      "text/plain": [
       "[1] 7"
      ]
     },
     "metadata": {},
     "output_type": "display_data"
    },
    {
     "data": {
      "image/png": "[encoded data removed]",
      "text/plain": [
       "plot without title"
      ]
     },
     "metadata": {
      "image/png": {
       "height": 420,
       "width": 420
      }
     },
     "output_type": "display_data"
    }
   ],
   "source": [
    "# Marital_status\n",
    "\n",
    "marital_status_count <- as.data.frame(table(marital_status_vector))\n",
    "marital_status_count\n",
    "nrow(marital_status_count)\n",
    "\n",
    "marital_status_graph <- ggplot(marital_status_count, aes(x = marital_status_vector, y = Freq, fill = marital_status_vector)) +\n",
    "    geom_bar(stat = \"identity\") +\n",
    "    labs(x = \"Marital Status (vectorized)\", y = \"Frequency\")\n",
    "marital_status_graph"
   ]
  },
  {
   "cell_type": "code",
   "execution_count": 16,
   "id": "efc64434-a391-41e4-b52f-3a3b82bba665",
   "metadata": {
    "tags": []
   },
   "outputs": [
    {
     "data": {
      "text/html": [
       "<table class=\"dataframe\">\n",
       "<caption>A tibble: 15 × 3</caption>\n",
       "<thead>\n",
       "\t<tr><th scope=col>occupation</th><th scope=col>n</th><th scope=col>Freq</th></tr>\n",
       "\t<tr><th scope=col>&lt;chr&gt;</th><th scope=col>&lt;int&gt;</th><th scope=col>&lt;dbl&gt;</th></tr>\n",
       "</thead>\n",
       "<tbody>\n",
       "\t<tr><td>Adm-clerical     </td><td>3770</td><td>0.1157826848</td></tr>\n",
       "\t<tr><td>Armed-Forces     </td><td>   9</td><td>0.0002764043</td></tr>\n",
       "\t<tr><td>Craft-repair     </td><td>4099</td><td>0.1258867971</td></tr>\n",
       "\t<tr><td>Exec-managerial  </td><td>4066</td><td>0.1248733147</td></tr>\n",
       "\t<tr><td>Farming-fishing  </td><td> 994</td><td>0.0305273180</td></tr>\n",
       "\t<tr><td>Handlers-cleaners</td><td>1370</td><td>0.0420748749</td></tr>\n",
       "\t<tr><td>Machine-op-inspct</td><td>2002</td><td>0.0614845981</td></tr>\n",
       "\t<tr><td>NA               </td><td>1843</td><td>0.0566014557</td></tr>\n",
       "\t<tr><td>Other-service    </td><td>3295</td><td>0.1011946808</td></tr>\n",
       "\t<tr><td>Priv-house-serv  </td><td> 149</td><td>0.0045760265</td></tr>\n",
       "\t<tr><td>Prof-specialty   </td><td>4140</td><td>0.1271459722</td></tr>\n",
       "\t<tr><td>Protective-serv  </td><td> 649</td><td>0.0199318203</td></tr>\n",
       "\t<tr><td>Sales            </td><td>3650</td><td>0.1120972943</td></tr>\n",
       "\t<tr><td>Tech-support     </td><td> 928</td><td>0.0285003532</td></tr>\n",
       "\t<tr><td>Transport-moving </td><td>1597</td><td>0.0490464052</td></tr>\n",
       "</tbody>\n",
       "</table>\n"
      ],
      "text/latex": [
       "A tibble: 15 × 3\n",
       "\\begin{tabular}{lll}\n",
       " occupation & n & Freq\\\\\n",
       " <chr> & <int> & <dbl>\\\\\n",
       "\\hline\n",
       "\t Adm-clerical      & 3770 & 0.1157826848\\\\\n",
       "\t Armed-Forces      &    9 & 0.0002764043\\\\\n",
       "\t Craft-repair      & 4099 & 0.1258867971\\\\\n",
       "\t Exec-managerial   & 4066 & 0.1248733147\\\\\n",
       "\t Farming-fishing   &  994 & 0.0305273180\\\\\n",
       "\t Handlers-cleaners & 1370 & 0.0420748749\\\\\n",
       "\t Machine-op-inspct & 2002 & 0.0614845981\\\\\n",
       "\t NA                & 1843 & 0.0566014557\\\\\n",
       "\t Other-service     & 3295 & 0.1011946808\\\\\n",
       "\t Priv-house-serv   &  149 & 0.0045760265\\\\\n",
       "\t Prof-specialty    & 4140 & 0.1271459722\\\\\n",
       "\t Protective-serv   &  649 & 0.0199318203\\\\\n",
       "\t Sales             & 3650 & 0.1120972943\\\\\n",
       "\t Tech-support      &  928 & 0.0285003532\\\\\n",
       "\t Transport-moving  & 1597 & 0.0490464052\\\\\n",
       "\\end{tabular}\n"
      ],
      "text/markdown": [
       "\n",
       "A tibble: 15 × 3\n",
       "\n",
       "| occupation &lt;chr&gt; | n &lt;int&gt; | Freq &lt;dbl&gt; |\n",
       "|---|---|---|\n",
       "| Adm-clerical      | 3770 | 0.1157826848 |\n",
       "| Armed-Forces      |    9 | 0.0002764043 |\n",
       "| Craft-repair      | 4099 | 0.1258867971 |\n",
       "| Exec-managerial   | 4066 | 0.1248733147 |\n",
       "| Farming-fishing   |  994 | 0.0305273180 |\n",
       "| Handlers-cleaners | 1370 | 0.0420748749 |\n",
       "| Machine-op-inspct | 2002 | 0.0614845981 |\n",
       "| NA                | 1843 | 0.0566014557 |\n",
       "| Other-service     | 3295 | 0.1011946808 |\n",
       "| Priv-house-serv   |  149 | 0.0045760265 |\n",
       "| Prof-specialty    | 4140 | 0.1271459722 |\n",
       "| Protective-serv   |  649 | 0.0199318203 |\n",
       "| Sales             | 3650 | 0.1120972943 |\n",
       "| Tech-support      |  928 | 0.0285003532 |\n",
       "| Transport-moving  | 1597 | 0.0490464052 |\n",
       "\n"
      ],
      "text/plain": [
       "   occupation        n    Freq        \n",
       "1  Adm-clerical      3770 0.1157826848\n",
       "2  Armed-Forces         9 0.0002764043\n",
       "3  Craft-repair      4099 0.1258867971\n",
       "4  Exec-managerial   4066 0.1248733147\n",
       "5  Farming-fishing    994 0.0305273180\n",
       "6  Handlers-cleaners 1370 0.0420748749\n",
       "7  Machine-op-inspct 2002 0.0614845981\n",
       "8  NA                1843 0.0566014557\n",
       "9  Other-service     3295 0.1011946808\n",
       "10 Priv-house-serv    149 0.0045760265\n",
       "11 Prof-specialty    4140 0.1271459722\n",
       "12 Protective-serv    649 0.0199318203\n",
       "13 Sales             3650 0.1120972943\n",
       "14 Tech-support       928 0.0285003532\n",
       "15 Transport-moving  1597 0.0490464052"
      ]
     },
     "metadata": {},
     "output_type": "display_data"
    }
   ],
   "source": [
    "# occupation\n",
    "income_data |>\n",
    "    group_by(occupation) |>\n",
    "    summarise(n = n()) |>\n",
    "    mutate(Freq = n/sum(n))"
   ]
  },
  {
   "cell_type": "code",
   "execution_count": 17,
   "id": "9841c308-a901-40c7-8a41-00c25cd13068",
   "metadata": {
    "tags": []
   },
   "outputs": [
    {
     "data": {
      "text/html": [
       "<table class=\"dataframe\">\n",
       "<caption>A data.frame: 6 × 2</caption>\n",
       "<thead>\n",
       "\t<tr><th scope=col>relationship_vector</th><th scope=col>Freq</th></tr>\n",
       "\t<tr><th scope=col>&lt;fct&gt;</th><th scope=col>&lt;int&gt;</th></tr>\n",
       "</thead>\n",
       "<tbody>\n",
       "\t<tr><td>Husband       </td><td>13193</td></tr>\n",
       "\t<tr><td>Not-in-family </td><td> 8305</td></tr>\n",
       "\t<tr><td>Other-relative</td><td>  981</td></tr>\n",
       "\t<tr><td>Own-child     </td><td> 5068</td></tr>\n",
       "\t<tr><td>Unmarried     </td><td> 3446</td></tr>\n",
       "\t<tr><td>Wife          </td><td> 1568</td></tr>\n",
       "</tbody>\n",
       "</table>\n"
      ],
      "text/latex": [
       "A data.frame: 6 × 2\n",
       "\\begin{tabular}{ll}\n",
       " relationship\\_vector & Freq\\\\\n",
       " <fct> & <int>\\\\\n",
       "\\hline\n",
       "\t Husband        & 13193\\\\\n",
       "\t Not-in-family  &  8305\\\\\n",
       "\t Other-relative &   981\\\\\n",
       "\t Own-child      &  5068\\\\\n",
       "\t Unmarried      &  3446\\\\\n",
       "\t Wife           &  1568\\\\\n",
       "\\end{tabular}\n"
      ],
      "text/markdown": [
       "\n",
       "A data.frame: 6 × 2\n",
       "\n",
       "| relationship_vector &lt;fct&gt; | Freq &lt;int&gt; |\n",
       "|---|---|\n",
       "| Husband        | 13193 |\n",
       "| Not-in-family  |  8305 |\n",
       "| Other-relative |   981 |\n",
       "| Own-child      |  5068 |\n",
       "| Unmarried      |  3446 |\n",
       "| Wife           |  1568 |\n",
       "\n"
      ],
      "text/plain": [
       "  relationship_vector Freq \n",
       "1 Husband             13193\n",
       "2 Not-in-family        8305\n",
       "3 Other-relative        981\n",
       "4 Own-child            5068\n",
       "5 Unmarried            3446\n",
       "6 Wife                 1568"
      ]
     },
     "metadata": {},
     "output_type": "display_data"
    },
    {
     "data": {
      "text/html": [
       "6"
      ],
      "text/latex": [
       "6"
      ],
      "text/markdown": [
       "6"
      ],
      "text/plain": [
       "[1] 6"
      ]
     },
     "metadata": {},
     "output_type": "display_data"
    },
    {
     "data": {
      "image/png": "[encoded data removed]",
      "text/plain": [
       "plot without title"
      ]
     },
     "metadata": {
      "image/png": {
       "height": 420,
       "width": 420
      }
     },
     "output_type": "display_data"
    }
   ],
   "source": [
    "# relationship\n",
    "\n",
    "relationship_count <- as.data.frame(table(relationship_vector))\n",
    "relationship_count\n",
    "nrow(relationship_count)\n",
    "\n",
    "relationship_graph <- ggplot(relationship_count, aes(x = relationship_vector, y = Freq, fill = relationship_vector)) +\n",
    "    geom_bar(stat = \"identity\") +\n",
    "    labs(x = \"Relationship (vectorized)\", y = \"Frequency\")\n",
    "relationship_graph"
   ]
  },
  {
   "cell_type": "code",
   "execution_count": 18,
   "id": "12b6a844-ce9b-4e6f-a17d-dc74ec7fbf96",
   "metadata": {
    "tags": []
   },
   "outputs": [
    {
     "data": {
      "text/html": [
       "<table class=\"dataframe\">\n",
       "<caption>A data.frame: 5 × 2</caption>\n",
       "<thead>\n",
       "\t<tr><th scope=col>race_vector</th><th scope=col>Freq</th></tr>\n",
       "\t<tr><th scope=col>&lt;fct&gt;</th><th scope=col>&lt;int&gt;</th></tr>\n",
       "</thead>\n",
       "<tbody>\n",
       "\t<tr><td>Amer-Indian-Eskimo</td><td>  311</td></tr>\n",
       "\t<tr><td>Asian-Pac-Islander</td><td> 1039</td></tr>\n",
       "\t<tr><td>Black             </td><td> 3124</td></tr>\n",
       "\t<tr><td>Other             </td><td>  271</td></tr>\n",
       "\t<tr><td>White             </td><td>27816</td></tr>\n",
       "</tbody>\n",
       "</table>\n"
      ],
      "text/latex": [
       "A data.frame: 5 × 2\n",
       "\\begin{tabular}{ll}\n",
       " race\\_vector & Freq\\\\\n",
       " <fct> & <int>\\\\\n",
       "\\hline\n",
       "\t Amer-Indian-Eskimo &   311\\\\\n",
       "\t Asian-Pac-Islander &  1039\\\\\n",
       "\t Black              &  3124\\\\\n",
       "\t Other              &   271\\\\\n",
       "\t White              & 27816\\\\\n",
       "\\end{tabular}\n"
      ],
      "text/markdown": [
       "\n",
       "A data.frame: 5 × 2\n",
       "\n",
       "| race_vector &lt;fct&gt; | Freq &lt;int&gt; |\n",
       "|---|---|\n",
       "| Amer-Indian-Eskimo |   311 |\n",
       "| Asian-Pac-Islander |  1039 |\n",
       "| Black              |  3124 |\n",
       "| Other              |   271 |\n",
       "| White              | 27816 |\n",
       "\n"
      ],
      "text/plain": [
       "  race_vector        Freq \n",
       "1 Amer-Indian-Eskimo   311\n",
       "2 Asian-Pac-Islander  1039\n",
       "3 Black               3124\n",
       "4 Other                271\n",
       "5 White              27816"
      ]
     },
     "metadata": {},
     "output_type": "display_data"
    },
    {
     "data": {
      "text/html": [
       "5"
      ],
      "text/latex": [
       "5"
      ],
      "text/markdown": [
       "5"
      ],
      "text/plain": [
       "[1] 5"
      ]
     },
     "metadata": {},
     "output_type": "display_data"
    },
    {
     "data": {
      "image/png": "[encoded data removed]",
      "text/plain": [
       "plot without title"
      ]
     },
     "metadata": {
      "image/png": {
       "height": 420,
       "width": 420
      }
     },
     "output_type": "display_data"
    }
   ],
   "source": [
    "# race\n",
    "\n",
    "race_count <- as.data.frame(table(race_vector))\n",
    "race_count\n",
    "nrow(race_count)\n",
    "\n",
    "race_graph <- ggplot(race_count, aes(x = race_vector, y = Freq, fill = race_vector)) +\n",
    "    geom_bar(stat = \"identity\") +\n",
    "    labs(x = \"Race (vectorized)\", y = \"Frequency\")\n",
    "race_graph"
   ]
  },
  {
   "cell_type": "code",
   "execution_count": 19,
   "id": "5303bcaf-6197-49b8-9ecd-cf1a99204f75",
   "metadata": {
    "tags": []
   },
   "outputs": [
    {
     "data": {
      "text/html": [
       "<table class=\"dataframe\">\n",
       "<caption>A data.frame: 2 × 2</caption>\n",
       "<thead>\n",
       "\t<tr><th scope=col>sex_vector</th><th scope=col>Freq</th></tr>\n",
       "\t<tr><th scope=col>&lt;fct&gt;</th><th scope=col>&lt;int&gt;</th></tr>\n",
       "</thead>\n",
       "<tbody>\n",
       "\t<tr><td>Female</td><td>10771</td></tr>\n",
       "\t<tr><td>Male  </td><td>21790</td></tr>\n",
       "</tbody>\n",
       "</table>\n"
      ],
      "text/latex": [
       "A data.frame: 2 × 2\n",
       "\\begin{tabular}{ll}\n",
       " sex\\_vector & Freq\\\\\n",
       " <fct> & <int>\\\\\n",
       "\\hline\n",
       "\t Female & 10771\\\\\n",
       "\t Male   & 21790\\\\\n",
       "\\end{tabular}\n"
      ],
      "text/markdown": [
       "\n",
       "A data.frame: 2 × 2\n",
       "\n",
       "| sex_vector &lt;fct&gt; | Freq &lt;int&gt; |\n",
       "|---|---|\n",
       "| Female | 10771 |\n",
       "| Male   | 21790 |\n",
       "\n"
      ],
      "text/plain": [
       "  sex_vector Freq \n",
       "1 Female     10771\n",
       "2 Male       21790"
      ]
     },
     "metadata": {},
     "output_type": "display_data"
    },
    {
     "data": {
      "text/html": [
       "2"
      ],
      "text/latex": [
       "2"
      ],
      "text/markdown": [
       "2"
      ],
      "text/plain": [
       "[1] 2"
      ]
     },
     "metadata": {},
     "output_type": "display_data"
    },
    {
     "data": {
      "image/png": "[encoded data removed]",
      "text/plain": [
       "plot without title"
      ]
     },
     "metadata": {
      "image/png": {
       "height": 420,
       "width": 420
      }
     },
     "output_type": "display_data"
    }
   ],
   "source": [
    "# sex\n",
    "\n",
    "sex_count <- as.data.frame(table(sex_vector))\n",
    "sex_count\n",
    "nrow(sex_count)\n",
    "\n",
    "sex_graph <- ggplot(sex_count, aes(x = sex_vector, y = Freq, fill = sex_vector)) +\n",
    "    geom_bar(stat = \"identity\") +\n",
    "    labs(x = \"Race (vectorized)\", y = \"Frequency\")\n",
    "sex_graph"
   ]
  },
  {
   "cell_type": "code",
   "execution_count": 20,
   "id": "9e3b5a32-a3b2-49c6-b2bc-7acb323498d0",
   "metadata": {
    "tags": []
   },
   "outputs": [
    {
     "data": {
      "text/html": [
       "<table class=\"dataframe\">\n",
       "<caption>A tibble: 42 × 3</caption>\n",
       "<thead>\n",
       "\t<tr><th scope=col>native_country</th><th scope=col>n</th><th scope=col>Freq</th></tr>\n",
       "\t<tr><th scope=col>&lt;chr&gt;</th><th scope=col>&lt;int&gt;</th><th scope=col>&lt;dbl&gt;</th></tr>\n",
       "</thead>\n",
       "<tbody>\n",
       "\t<tr><td>Cambodia                  </td><td>   19</td><td>5.835202e-04</td></tr>\n",
       "\t<tr><td>Canada                    </td><td>  121</td><td>3.716102e-03</td></tr>\n",
       "\t<tr><td>China                     </td><td>   75</td><td>2.303369e-03</td></tr>\n",
       "\t<tr><td>Columbia                  </td><td>   59</td><td>1.811984e-03</td></tr>\n",
       "\t<tr><td>Cuba                      </td><td>   95</td><td>2.917601e-03</td></tr>\n",
       "\t<tr><td>Dominican-Republic        </td><td>   70</td><td>2.149811e-03</td></tr>\n",
       "\t<tr><td>Ecuador                   </td><td>   28</td><td>8.599244e-04</td></tr>\n",
       "\t<tr><td>El-Salvador               </td><td>  106</td><td>3.255428e-03</td></tr>\n",
       "\t<tr><td>England                   </td><td>   90</td><td>2.764043e-03</td></tr>\n",
       "\t<tr><td>France                    </td><td>   29</td><td>8.906360e-04</td></tr>\n",
       "\t<tr><td>Germany                   </td><td>  137</td><td>4.207487e-03</td></tr>\n",
       "\t<tr><td>Greece                    </td><td>   29</td><td>8.906360e-04</td></tr>\n",
       "\t<tr><td>Guatemala                 </td><td>   64</td><td>1.965542e-03</td></tr>\n",
       "\t<tr><td>Haiti                     </td><td>   44</td><td>1.351310e-03</td></tr>\n",
       "\t<tr><td>Holand-Netherlands        </td><td>    1</td><td>3.071159e-05</td></tr>\n",
       "\t<tr><td>Honduras                  </td><td>   13</td><td>3.992506e-04</td></tr>\n",
       "\t<tr><td>Hong                      </td><td>   20</td><td>6.142317e-04</td></tr>\n",
       "\t<tr><td>Hungary                   </td><td>   13</td><td>3.992506e-04</td></tr>\n",
       "\t<tr><td>India                     </td><td>  100</td><td>3.071159e-03</td></tr>\n",
       "\t<tr><td>Iran                      </td><td>   43</td><td>1.320598e-03</td></tr>\n",
       "\t<tr><td>Ireland                   </td><td>   24</td><td>7.370781e-04</td></tr>\n",
       "\t<tr><td>Italy                     </td><td>   73</td><td>2.241946e-03</td></tr>\n",
       "\t<tr><td>Jamaica                   </td><td>   81</td><td>2.487639e-03</td></tr>\n",
       "\t<tr><td>Japan                     </td><td>   62</td><td>1.904118e-03</td></tr>\n",
       "\t<tr><td>Laos                      </td><td>   18</td><td>5.528086e-04</td></tr>\n",
       "\t<tr><td>Mexico                    </td><td>  643</td><td>1.974755e-02</td></tr>\n",
       "\t<tr><td>NA                        </td><td>  583</td><td>1.790486e-02</td></tr>\n",
       "\t<tr><td>Nicaragua                 </td><td>   34</td><td>1.044194e-03</td></tr>\n",
       "\t<tr><td>Outlying-US(Guam-USVI-etc)</td><td>   14</td><td>4.299622e-04</td></tr>\n",
       "\t<tr><td>Peru                      </td><td>   31</td><td>9.520592e-04</td></tr>\n",
       "\t<tr><td>Philippines               </td><td>  198</td><td>6.080894e-03</td></tr>\n",
       "\t<tr><td>Poland                    </td><td>   60</td><td>1.842695e-03</td></tr>\n",
       "\t<tr><td>Portugal                  </td><td>   37</td><td>1.136329e-03</td></tr>\n",
       "\t<tr><td>Puerto-Rico               </td><td>  114</td><td>3.501121e-03</td></tr>\n",
       "\t<tr><td>Scotland                  </td><td>   12</td><td>3.685390e-04</td></tr>\n",
       "\t<tr><td>South                     </td><td>   80</td><td>2.456927e-03</td></tr>\n",
       "\t<tr><td>Taiwan                    </td><td>   51</td><td>1.566291e-03</td></tr>\n",
       "\t<tr><td>Thailand                  </td><td>   18</td><td>5.528086e-04</td></tr>\n",
       "\t<tr><td><span style=white-space:pre-wrap>Trinadad&amp;Tobago           </span></td><td><span style=white-space:pre-wrap>   19</span></td><td>5.835202e-04</td></tr>\n",
       "\t<tr><td>United-States             </td><td>29170</td><td>8.958570e-01</td></tr>\n",
       "\t<tr><td>Vietnam                   </td><td>   67</td><td>2.057676e-03</td></tr>\n",
       "\t<tr><td>Yugoslavia                </td><td>   16</td><td>4.913854e-04</td></tr>\n",
       "</tbody>\n",
       "</table>\n"
      ],
      "text/latex": [
       "A tibble: 42 × 3\n",
       "\\begin{tabular}{lll}\n",
       " native\\_country & n & Freq\\\\\n",
       " <chr> & <int> & <dbl>\\\\\n",
       "\\hline\n",
       "\t Cambodia                   &    19 & 5.835202e-04\\\\\n",
       "\t Canada                     &   121 & 3.716102e-03\\\\\n",
       "\t China                      &    75 & 2.303369e-03\\\\\n",
       "\t Columbia                   &    59 & 1.811984e-03\\\\\n",
       "\t Cuba                       &    95 & 2.917601e-03\\\\\n",
       "\t Dominican-Republic         &    70 & 2.149811e-03\\\\\n",
       "\t Ecuador                    &    28 & 8.599244e-04\\\\\n",
       "\t El-Salvador                &   106 & 3.255428e-03\\\\\n",
       "\t England                    &    90 & 2.764043e-03\\\\\n",
       "\t France                     &    29 & 8.906360e-04\\\\\n",
       "\t Germany                    &   137 & 4.207487e-03\\\\\n",
       "\t Greece                     &    29 & 8.906360e-04\\\\\n",
       "\t Guatemala                  &    64 & 1.965542e-03\\\\\n",
       "\t Haiti                      &    44 & 1.351310e-03\\\\\n",
       "\t Holand-Netherlands         &     1 & 3.071159e-05\\\\\n",
       "\t Honduras                   &    13 & 3.992506e-04\\\\\n",
       "\t Hong                       &    20 & 6.142317e-04\\\\\n",
       "\t Hungary                    &    13 & 3.992506e-04\\\\\n",
       "\t India                      &   100 & 3.071159e-03\\\\\n",
       "\t Iran                       &    43 & 1.320598e-03\\\\\n",
       "\t Ireland                    &    24 & 7.370781e-04\\\\\n",
       "\t Italy                      &    73 & 2.241946e-03\\\\\n",
       "\t Jamaica                    &    81 & 2.487639e-03\\\\\n",
       "\t Japan                      &    62 & 1.904118e-03\\\\\n",
       "\t Laos                       &    18 & 5.528086e-04\\\\\n",
       "\t Mexico                     &   643 & 1.974755e-02\\\\\n",
       "\t NA                         &   583 & 1.790486e-02\\\\\n",
       "\t Nicaragua                  &    34 & 1.044194e-03\\\\\n",
       "\t Outlying-US(Guam-USVI-etc) &    14 & 4.299622e-04\\\\\n",
       "\t Peru                       &    31 & 9.520592e-04\\\\\n",
       "\t Philippines                &   198 & 6.080894e-03\\\\\n",
       "\t Poland                     &    60 & 1.842695e-03\\\\\n",
       "\t Portugal                   &    37 & 1.136329e-03\\\\\n",
       "\t Puerto-Rico                &   114 & 3.501121e-03\\\\\n",
       "\t Scotland                   &    12 & 3.685390e-04\\\\\n",
       "\t South                      &    80 & 2.456927e-03\\\\\n",
       "\t Taiwan                     &    51 & 1.566291e-03\\\\\n",
       "\t Thailand                   &    18 & 5.528086e-04\\\\\n",
       "\t Trinadad\\&Tobago            &    19 & 5.835202e-04\\\\\n",
       "\t United-States              & 29170 & 8.958570e-01\\\\\n",
       "\t Vietnam                    &    67 & 2.057676e-03\\\\\n",
       "\t Yugoslavia                 &    16 & 4.913854e-04\\\\\n",
       "\\end{tabular}\n"
      ],
      "text/markdown": [
       "\n",
       "A tibble: 42 × 3\n",
       "\n",
       "| native_country &lt;chr&gt; | n &lt;int&gt; | Freq &lt;dbl&gt; |\n",
       "|---|---|---|\n",
       "| Cambodia                   |    19 | 5.835202e-04 |\n",
       "| Canada                     |   121 | 3.716102e-03 |\n",
       "| China                      |    75 | 2.303369e-03 |\n",
       "| Columbia                   |    59 | 1.811984e-03 |\n",
       "| Cuba                       |    95 | 2.917601e-03 |\n",
       "| Dominican-Republic         |    70 | 2.149811e-03 |\n",
       "| Ecuador                    |    28 | 8.599244e-04 |\n",
       "| El-Salvador                |   106 | 3.255428e-03 |\n",
       "| England                    |    90 | 2.764043e-03 |\n",
       "| France                     |    29 | 8.906360e-04 |\n",
       "| Germany                    |   137 | 4.207487e-03 |\n",
       "| Greece                     |    29 | 8.906360e-04 |\n",
       "| Guatemala                  |    64 | 1.965542e-03 |\n",
       "| Haiti                      |    44 | 1.351310e-03 |\n",
       "| Holand-Netherlands         |     1 | 3.071159e-05 |\n",
       "| Honduras                   |    13 | 3.992506e-04 |\n",
       "| Hong                       |    20 | 6.142317e-04 |\n",
       "| Hungary                    |    13 | 3.992506e-04 |\n",
       "| India                      |   100 | 3.071159e-03 |\n",
       "| Iran                       |    43 | 1.320598e-03 |\n",
       "| Ireland                    |    24 | 7.370781e-04 |\n",
       "| Italy                      |    73 | 2.241946e-03 |\n",
       "| Jamaica                    |    81 | 2.487639e-03 |\n",
       "| Japan                      |    62 | 1.904118e-03 |\n",
       "| Laos                       |    18 | 5.528086e-04 |\n",
       "| Mexico                     |   643 | 1.974755e-02 |\n",
       "| NA                         |   583 | 1.790486e-02 |\n",
       "| Nicaragua                  |    34 | 1.044194e-03 |\n",
       "| Outlying-US(Guam-USVI-etc) |    14 | 4.299622e-04 |\n",
       "| Peru                       |    31 | 9.520592e-04 |\n",
       "| Philippines                |   198 | 6.080894e-03 |\n",
       "| Poland                     |    60 | 1.842695e-03 |\n",
       "| Portugal                   |    37 | 1.136329e-03 |\n",
       "| Puerto-Rico                |   114 | 3.501121e-03 |\n",
       "| Scotland                   |    12 | 3.685390e-04 |\n",
       "| South                      |    80 | 2.456927e-03 |\n",
       "| Taiwan                     |    51 | 1.566291e-03 |\n",
       "| Thailand                   |    18 | 5.528086e-04 |\n",
       "| Trinadad&amp;Tobago            |    19 | 5.835202e-04 |\n",
       "| United-States              | 29170 | 8.958570e-01 |\n",
       "| Vietnam                    |    67 | 2.057676e-03 |\n",
       "| Yugoslavia                 |    16 | 4.913854e-04 |\n",
       "\n"
      ],
      "text/plain": [
       "   native_country             n     Freq        \n",
       "1  Cambodia                      19 5.835202e-04\n",
       "2  Canada                       121 3.716102e-03\n",
       "3  China                         75 2.303369e-03\n",
       "4  Columbia                      59 1.811984e-03\n",
       "5  Cuba                          95 2.917601e-03\n",
       "6  Dominican-Republic            70 2.149811e-03\n",
       "7  Ecuador                       28 8.599244e-04\n",
       "8  El-Salvador                  106 3.255428e-03\n",
       "9  England                       90 2.764043e-03\n",
       "10 France                        29 8.906360e-04\n",
       "11 Germany                      137 4.207487e-03\n",
       "12 Greece                        29 8.906360e-04\n",
       "13 Guatemala                     64 1.965542e-03\n",
       "14 Haiti                         44 1.351310e-03\n",
       "15 Holand-Netherlands             1 3.071159e-05\n",
       "16 Honduras                      13 3.992506e-04\n",
       "17 Hong                          20 6.142317e-04\n",
       "18 Hungary                       13 3.992506e-04\n",
       "19 India                        100 3.071159e-03\n",
       "20 Iran                          43 1.320598e-03\n",
       "21 Ireland                       24 7.370781e-04\n",
       "22 Italy                         73 2.241946e-03\n",
       "23 Jamaica                       81 2.487639e-03\n",
       "24 Japan                         62 1.904118e-03\n",
       "25 Laos                          18 5.528086e-04\n",
       "26 Mexico                       643 1.974755e-02\n",
       "27 NA                           583 1.790486e-02\n",
       "28 Nicaragua                     34 1.044194e-03\n",
       "29 Outlying-US(Guam-USVI-etc)    14 4.299622e-04\n",
       "30 Peru                          31 9.520592e-04\n",
       "31 Philippines                  198 6.080894e-03\n",
       "32 Poland                        60 1.842695e-03\n",
       "33 Portugal                      37 1.136329e-03\n",
       "34 Puerto-Rico                  114 3.501121e-03\n",
       "35 Scotland                      12 3.685390e-04\n",
       "36 South                         80 2.456927e-03\n",
       "37 Taiwan                        51 1.566291e-03\n",
       "38 Thailand                      18 5.528086e-04\n",
       "39 Trinadad&Tobago               19 5.835202e-04\n",
       "40 United-States              29170 8.958570e-01\n",
       "41 Vietnam                       67 2.057676e-03\n",
       "42 Yugoslavia                    16 4.913854e-04"
      ]
     },
     "metadata": {},
     "output_type": "display_data"
    }
   ],
   "source": [
    "# native_country\n",
    "\n",
    "income_data |>\n",
    "    group_by(native_country) |>\n",
    "    summarise(n = n()) |>\n",
    "    mutate(Freq = n/sum(n))\n",
    "\n",
    "# We will not be creating a graph for native_country, because there are so many possible values that it would not be a good representation of the data."
   ]
  },
  {
   "cell_type": "markdown",
   "id": "07a93bae-1b49-4c8a-847a-e8e198ca1253",
   "metadata": {
    "tags": []
   },
   "source": [
    "#### Methods ####\n",
    "We decided to use a forward selection model to inform our ultimate feature selection. In order to reduce the likelihood of errors occurring, we also decided to eliminate several variables as contenders at this point based on our analyses thus far before proceeding with forward selection.\n",
    "\n",
    "We observed that native_country, education, work_class, and occupation are polychotomous variables with many possible values. The scope of our analysis is too broad to include variables that require so much additional processing, so they were eliminated from consideration.\n",
    "\n",
    "The variables marital_status and relationship tell us the same information. marital_status has one more possible value than relationship, so we decided to keep relationship and eliminate marital_status.\n",
    "\n",
    "capital_gain and capital_loss are not metrics that align meaningfully with our research goals - we are more interested in exploring how income is related to lifestyle factors as opposed to fluctuation of income based on the sale of property and assets, so wel will not include them in the forward selection model.\n",
    "\n",
    "We have included the code we plan to use for our forward selection model below - it is still being debugged, but we intend to use the accuracy results to select our predictor variables.\n",
    "\n",
    "Once we have perfected the forward selection model, we will use the results stored in accuracies to help us choose the best combination of predictors for our response variable, income_above_50K. We will use the tabyl function to further examine the most accurate relationships the model indicates before deciding. Once we know what predictor(s) we are using, we will make a subset of the original income_data dataframe which includes the relevant data, and split it into training and testing sets.\n",
    "\n",
    "We will then use the training and test data to help us build and train a KNN classifier to predict the behaviour of our response variable. We plan to use a scatterplot to help visualize the classifier, and a cross-validation plot to represent the accuracy of the model."
   ]
  },
  {
   "cell_type": "code",
   "execution_count": 21,
   "id": "88736fe4-17d1-455c-9c88-5d7ecec6f371",
   "metadata": {
    "tags": []
   },
   "outputs": [
    {
     "data": {
      "text/html": [
       "<table class=\"dataframe\">\n",
       "<caption>A data.frame: 3 × 8</caption>\n",
       "<thead>\n",
       "\t<tr><th></th><th scope=col>income_above_50K</th><th scope=col>age</th><th scope=col>num_years_education</th><th scope=col>relationship</th><th scope=col>work_class</th><th scope=col>race</th><th scope=col>sex</th><th scope=col>Freq</th></tr>\n",
       "\t<tr><th></th><th scope=col>&lt;fct&gt;</th><th scope=col>&lt;fct&gt;</th><th scope=col>&lt;fct&gt;</th><th scope=col>&lt;fct&gt;</th><th scope=col>&lt;fct&gt;</th><th scope=col>&lt;fct&gt;</th><th scope=col>&lt;fct&gt;</th><th scope=col>&lt;int&gt;</th></tr>\n",
       "</thead>\n",
       "<tbody>\n",
       "\t<tr><th scope=row>1</th><td>0</td><td>17</td><td>1</td><td>Husband</td><td>Federal-gov</td><td>Amer-Indian-Eskimo</td><td>Female</td><td>0</td></tr>\n",
       "\t<tr><th scope=row>2</th><td>1</td><td>17</td><td>1</td><td>Husband</td><td>Federal-gov</td><td>Amer-Indian-Eskimo</td><td>Female</td><td>0</td></tr>\n",
       "\t<tr><th scope=row>3</th><td>0</td><td>18</td><td>1</td><td>Husband</td><td>Federal-gov</td><td>Amer-Indian-Eskimo</td><td>Female</td><td>0</td></tr>\n",
       "</tbody>\n",
       "</table>\n"
      ],
      "text/latex": [
       "A data.frame: 3 × 8\n",
       "\\begin{tabular}{r|llllllll}\n",
       "  & income\\_above\\_50K & age & num\\_years\\_education & relationship & work\\_class & race & sex & Freq\\\\\n",
       "  & <fct> & <fct> & <fct> & <fct> & <fct> & <fct> & <fct> & <int>\\\\\n",
       "\\hline\n",
       "\t1 & 0 & 17 & 1 & Husband & Federal-gov & Amer-Indian-Eskimo & Female & 0\\\\\n",
       "\t2 & 1 & 17 & 1 & Husband & Federal-gov & Amer-Indian-Eskimo & Female & 0\\\\\n",
       "\t3 & 0 & 18 & 1 & Husband & Federal-gov & Amer-Indian-Eskimo & Female & 0\\\\\n",
       "\\end{tabular}\n"
      ],
      "text/markdown": [
       "\n",
       "A data.frame: 3 × 8\n",
       "\n",
       "| <!--/--> | income_above_50K &lt;fct&gt; | age &lt;fct&gt; | num_years_education &lt;fct&gt; | relationship &lt;fct&gt; | work_class &lt;fct&gt; | race &lt;fct&gt; | sex &lt;fct&gt; | Freq &lt;int&gt; |\n",
       "|---|---|---|---|---|---|---|---|---|\n",
       "| 1 | 0 | 17 | 1 | Husband | Federal-gov | Amer-Indian-Eskimo | Female | 0 |\n",
       "| 2 | 1 | 17 | 1 | Husband | Federal-gov | Amer-Indian-Eskimo | Female | 0 |\n",
       "| 3 | 0 | 18 | 1 | Husband | Federal-gov | Amer-Indian-Eskimo | Female | 0 |\n",
       "\n"
      ],
      "text/plain": [
       "  income_above_50K age num_years_education relationship work_class \n",
       "1 0                17  1                   Husband      Federal-gov\n",
       "2 1                17  1                   Husband      Federal-gov\n",
       "3 0                18  1                   Husband      Federal-gov\n",
       "  race               sex    Freq\n",
       "1 Amer-Indian-Eskimo Female 0   \n",
       "2 Amer-Indian-Eskimo Female 0   \n",
       "3 Amer-Indian-Eskimo Female 0   "
      ]
     },
     "metadata": {},
     "output_type": "display_data"
    },
    {
     "data": {
      "text/html": [
       "<style>\n",
       ".list-inline {list-style: none; margin:0; padding: 0}\n",
       ".list-inline>li {display: inline-block}\n",
       ".list-inline>li:not(:last-child)::after {content: \"\\00b7\"; padding: 0 .5ex}\n",
       "</style>\n",
       "<ol class=list-inline><li>'age'</li><li>'num_years_education'</li><li>'relationship'</li><li>'work_class'</li><li>'race'</li><li>'sex'</li><li>'Freq'</li></ol>\n"
      ],
      "text/latex": [
       "\\begin{enumerate*}\n",
       "\\item 'age'\n",
       "\\item 'num\\_years\\_education'\n",
       "\\item 'relationship'\n",
       "\\item 'work\\_class'\n",
       "\\item 'race'\n",
       "\\item 'sex'\n",
       "\\item 'Freq'\n",
       "\\end{enumerate*}\n"
      ],
      "text/markdown": [
       "1. 'age'\n",
       "2. 'num_years_education'\n",
       "3. 'relationship'\n",
       "4. 'work_class'\n",
       "5. 'race'\n",
       "6. 'sex'\n",
       "7. 'Freq'\n",
       "\n",
       "\n"
      ],
      "text/plain": [
       "[1] \"age\"                 \"num_years_education\" \"relationship\"       \n",
       "[4] \"work_class\"          \"race\"                \"sex\"                \n",
       "[7] \"Freq\"               "
      ]
     },
     "metadata": {},
     "output_type": "display_data"
    }
   ],
   "source": [
    "# forward selection\n",
    "# subset potential predictors\n",
    "\n",
    "income_subset <- income_data_clean |>\n",
    "    select(income_above_50K,\n",
    "           age,\n",
    "           num_years_education,\n",
    "           relationship,\n",
    "           work_class,\n",
    "           race,\n",
    "           sex)\n",
    "income_subset <- as.data.frame(table(income_subset))\n",
    "head(income_subset, 3)\n",
    "possible_predictors <- colnames(income_subset |> select(-income_above_50K))\n",
    "possible_predictors                               "
   ]
  },
  {
   "cell_type": "code",
   "execution_count": null,
   "id": "3de56fc6-39ce-477a-b01e-ac8adbc650f5",
   "metadata": {
    "tags": []
   },
   "outputs": [],
   "source": [
    "# Creat dummy variables for categorical variables\n",
    "dummy_income_data <- dummy_columns(income_subset, select_columns = c('age', 'num_years_education', 'relationship', 'work_class', 'race', 'sex'))"
   ]
  },
  {
   "cell_type": "code",
   "execution_count": null,
   "id": "1abf13ed-4828-4dcc-8942-98bda9af16cd",
   "metadata": {
    "tags": []
   },
   "outputs": [],
   "source": [
    "# Make an empty tibble called accuracies to store results in\n",
    "accuracies <- tibble(size = integer(), model_string = character(), accuracy = numeric())\n",
    "accuracies"
   ]
  },
  {
   "cell_type": "code",
   "execution_count": null,
   "id": "70ee9d5f-6f51-4ff8-ba57-2ded2d14ae68",
   "metadata": {
    "tags": []
   },
   "outputs": [],
   "source": [
    "# Create a formula for the model that will be applied to the predictors\n",
    "\n",
    "formula <- paste(\"income_above_50K\", \"~\", paste(possible_predictors, collapse=\"+\"))\n",
    "formula"
   ]
  },
  {
   "cell_type": "code",
   "execution_count": null,
   "id": "41ae5fe8-b574-4a84-a272-b7d2d3ec9c1d",
   "metadata": {},
   "outputs": [],
   "source": [
    "# Model specification\n",
    "knn_spec <- nearest_neighbor(weight_func = \"rectangular\", neighbors = tune()) |>\n",
    "    set_engine(\"kknn\") |>\n",
    "    set_mode(\"classification\")"
   ]
  },
  {
   "cell_type": "code",
   "execution_count": null,
   "id": "9710762c-9224-4775-a4ca-5db2fd1fe060",
   "metadata": {},
   "outputs": [],
   "source": [
    "income_data_clean <- income_data_clean %>%\n",
    "    mutate(income_above_50K = as.factor(income_above_50K))\n",
    "\n",
    "head(income_data_clean)\n",
    "\n",
    "\n",
    "# Create object for 5-fold cross-validation\n",
    "income_vfold <- vfold_cv(income_data_clean, v = 5, strata = income_above_50K)"
   ]
  },
  {
   "cell_type": "code",
   "execution_count": null,
   "id": "002165ac-4e83-4118-9404-d1ddbd9c0ef2",
   "metadata": {},
   "outputs": [],
   "source": [
    "# Store the total number of predictors\n",
    "n_total <- length(possible_predictors)\n",
    "\n",
    "# Create a vector to store the selected predictors in\n",
    "selected <- c()\n",
    "\n",
    "ks <- tibble(neighbors = seq(from = 1, to = 2, by = 1))"
   ]
  },
  {
   "cell_type": "code",
   "execution_count": null,
   "id": "f366d81e-dfec-4f7d-85b2-a55acf2c6fc6",
   "metadata": {},
   "outputs": [],
   "source": [
    "# Make an empty tibble called accuracies to store results in\n",
    "accuracies <- tibble(size = integer(), model_string = character(), accuracy = numeric())\n",
    "\n",
    "all_models <- list()\n",
    "\n",
    "# Create a for loop to iterate through all of the predictors\n",
    "for (i in 1:n_total) {  \n",
    "    #accs <- list()\n",
    "    #models <- list()\n",
    "    for (j in 1:length(possible_predictors)) {  \n",
    "        new_preds <- c(selected, possible_predictors[[j]])\n",
    "        model_string <- paste(\"income_above_50K\", \"~\", paste(new_preds, collapse=\"+\"))\n",
    "         print(model_string)\n",
    "        # Recipe for model string   \n",
    "        income_recipe <- recipe(as.formula(model_string), data = income_data_clean) |>\n",
    "                            step_scale(all_numeric_predictors()) |>\n",
    "                            step_center(all_numeric_predictors()) |>\n",
    "                            step_dummy(all_nominal_predictors())\n",
    "        \n",
    "        # tune classifier with predictors and find accuracy for best K\n",
    "        acc <- workflow() |>\n",
    "            add_recipe(income_recipe) |>\n",
    "            add_model(knn_spec) |>\n",
    "            tune_grid(resamples = income_vfold, grid = ks) |>\n",
    "            collect_metrics() |>\n",
    "            filter(.metric == \"accuracy\") %>%\n",
    "        mutate(model_string = model_string)\n",
    "    \n",
    "        # Use the dataframe made earlier to store the result\n",
    "        accs[[j]] <- acc\n",
    "        models[[j]] <- model_string\n",
    "        all_models[[j]] <- acc\n",
    "        print(accs)\n",
    "        \n",
    "        if (j == 2){break}\n",
    "    }\n",
    "    #jstar <- which.max(unlist(accs))\n",
    "    #accuracies <- accuracies |>\n",
    "    #    add_row(size = i,\n",
    "    #            model_string = models[[jstar]],\n",
    "    #            accuracy = accs[[jstar]])\n",
    "    #selected <- c(selected, possible_predictors[[jstar]])\n",
    "    #possible_predictors <- possible_predictors[-jstar]\n",
    "    break\n",
    "}\n",
    "all_models"
   ]
  },
  {
   "cell_type": "code",
   "execution_count": null,
   "id": "eb969bb3-dca1-436a-8e4b-b09cd5264a4d",
   "metadata": {},
   "outputs": [],
   "source": [
    "model_string"
   ]
  },
  {
   "cell_type": "code",
   "execution_count": null,
   "id": "12fa3893-fa69-4c6f-a760-d28c600272a4",
   "metadata": {},
   "outputs": [],
   "source": [
    "library(readr)"
   ]
  },
  {
   "cell_type": "code",
   "execution_count": null,
   "id": "ee733857-7cf0-4f3b-8380-f184c2f9ea3f",
   "metadata": {},
   "outputs": [],
   "source": [
    "saveRDS(all_models, './model_results.RDS')"
   ]
  },
  {
   "cell_type": "code",
   "execution_count": null,
   "id": "e177848d-ce69-4d25-ae70-0652c47d8303",
   "metadata": {},
   "outputs": [],
   "source": [
    "sadf <- readRDS(\"model_results.RDS\")\n",
    "sadf"
   ]
  },
  {
   "cell_type": "code",
   "execution_count": null,
   "id": "77753e2d-eb56-48df-bafd-d59523b87464",
   "metadata": {},
   "outputs": [],
   "source": [
    "bind_rows(sadf)"
   ]
  },
  {
   "cell_type": "code",
   "execution_count": null,
   "id": "f85f812d-a815-4e48-8be3-b39438a6d788",
   "metadata": {},
   "outputs": [],
   "source": [
    "show_notes(.Last.tune.result)"
   ]
  },
  {
   "cell_type": "markdown",
   "id": "a12a6a04-74f8-4db9-b9cd-855e65017428",
   "metadata": {},
   "source": [
    "#### Expected Outcomes and Significance ####\n",
    "\n",
    "We expect that of the variables we are considering as predictors at this point, num_years_education and age will have the most influence on whether someone earns more than or less than $50 000 per year. These findings would stress the importance of ensuring education and various occupation types are accessible to everyone and could inspire change. For instance, universities could lower tuition to make education accessible to people from various financial backgrounds. Further studies could analyze the variables that determine the education or occupation someone can receive. This would pinpoint focal areas in making education and various occupation types more accessible. \n"
   ]
  },
  {
   "cell_type": "markdown",
   "id": "52d4740c-87e9-46f4-8c96-7068deeeb6eb",
   "metadata": {},
   "source": [
    "#### References ####\n",
    "\n",
    "U.S. Bureau of the Census, Current Population Reports, P60-193, Money Income in the United States: 1995 (With Separate Data on Valuation of Noncash Benefits), U.S. Government Printing Office, Washington, DC, 1996.\n",
    "\n",
    "\"Data Science: A First Introduction\". T. Timbers, T. Campbell, & M. Lee. Chapter 6.8.2, \"Finding a good subset of predictors\"; Chapter 6.8.3,  \"Forward selection in R\". 2022."
   ]
  },
  {
   "cell_type": "code",
   "execution_count": null,
   "id": "6734e569-48d3-42b3-9650-2884d4c6479c",
   "metadata": {},
   "outputs": [],
   "source": []
  }
 ],
 "metadata": {
  "kernelspec": {
   "display_name": "R",
   "language": "R",
   "name": "ir"
  },
  "language_info": {
   "codemirror_mode": "r",
   "file_extension": ".r",
   "mimetype": "text/x-r-source",
   "name": "R",
   "pygments_lexer": "r",
   "version": "4.1.3"
  }
 },
 "nbformat": 4,
 "nbformat_minor": 5
}
